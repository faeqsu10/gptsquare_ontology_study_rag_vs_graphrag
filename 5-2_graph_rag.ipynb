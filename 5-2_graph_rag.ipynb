{
 "cells": [
  {
   "cell_type": "code",
   "execution_count": 1,
   "id": "6ed06c16",
   "metadata": {},
   "outputs": [
    {
     "data": {
      "text/plain": [
       "True"
      ]
     },
     "execution_count": 1,
     "metadata": {},
     "output_type": "execute_result"
    }
   ],
   "source": [
    "from langchain.chains import GraphCypherQAChain\n",
    "from langchain_community.graphs import Neo4jGraph\n",
    "from langchain_openai import ChatOpenAI\n",
    "\n",
    "import os\n",
    "from dotenv import load_dotenv\n",
    "load_dotenv()"
   ]
  },
  {
   "cell_type": "code",
   "execution_count": null,
   "id": "d9af3951",
   "metadata": {},
   "outputs": [],
   "source": [
    "OPENAI_API_KEY = os.environ.get(\"OPENAI_API_KEY\")\n",
    "USERNAME = os.environ.get(\"USERNAME\")\n",
    "PASSWORD = os.environ.get(\"PASSWORD\")\n",
    "URL = os.environ.get(\"URL\")\n",
    "llm = ChatOpenAI(model_name=\"gpt-5-mini\", temperature=0)"
   ]
  },
  {
   "cell_type": "code",
   "execution_count": 3,
   "id": "e5f97e1c",
   "metadata": {},
   "outputs": [
    {
     "name": "stderr",
     "output_type": "stream",
     "text": [
      "C:\\Users\\faeqs\\AppData\\Local\\Temp\\ipykernel_23688\\3113965413.py:1: LangChainDeprecationWarning: The class `Neo4jGraph` was deprecated in LangChain 0.3.8 and will be removed in 1.0. An updated version of the class exists in the :class:`~langchain-neo4j package and should be used instead. To use it run `pip install -U :class:`~langchain-neo4j` and import as `from :class:`~langchain_neo4j import Neo4jGraph``.\n",
      "  graph = Neo4jGraph(url=URL, username=USERNAME, password=PASSWORD)\n"
     ]
    }
   ],
   "source": [
    "graph = Neo4jGraph(url=URL, username=USERNAME, password=PASSWORD)"
   ]
  },
  {
   "cell_type": "code",
   "execution_count": 9,
   "id": "2fabbefa",
   "metadata": {},
   "outputs": [],
   "source": [
    "chain = GraphCypherQAChain.from_llm(\n",
    "    llm=llm,\n",
    "    graph=graph, \n",
    "    verbose=True, \n",
    "    allow_dangerous_requests=True,\n",
    "    return_intermediate_steps=True  # 생성된 Cypher 쿼리와 중간 결과 확인\n",
    ")"
   ]
  },
  {
   "cell_type": "code",
   "execution_count": null,
   "id": "ca773014",
   "metadata": {},
   "outputs": [
    {
     "name": "stdout",
     "output_type": "stream",
     "text": [
      "\n",
      "\n",
      "\u001b[1m> Entering new GraphCypherQAChain chain...\u001b[0m\n",
      "Generated Cypher:\n",
      "\u001b[32;1m\u001b[1;3mMATCH (r:Restaurant {name: \"Bella Roma\"}) RETURN r.hoursWeekday AS hoursWeekday;\u001b[0m\n",
      "Full Context:\n",
      "\u001b[32;1m\u001b[1;3m[{'hoursWeekday': '11:00-22:00'}]\u001b[0m\n",
      "\n",
      "\u001b[1m> Finished chain.\u001b[0m\n"
     ]
    },
    {
     "data": {
      "text/plain": [
       "{'query': 'Bella Roma 레스토랑의 주중 영업시간을 알려줘.',\n",
       " 'result': 'Bella Roma 레스토랑의 주중 영업시간은 11:00-22:00입니다.',\n",
       " 'intermediate_steps': [{'query': 'MATCH (r:Restaurant {name: \"Bella Roma\"}) RETURN r.hoursWeekday AS hoursWeekday;'},\n",
       "  {'context': [{'hoursWeekday': '11:00-22:00'}]}]}"
      ]
     },
     "execution_count": 14,
     "metadata": {},
     "output_type": "execute_result"
    }
   ],
   "source": [
    "# from langchain_google_genai import ChatGoogleGenerativeAI\n",
    "# Cypher 쿼리 생성은 OpenAI 모델, 최종 답변은 Gemini 모델 사용\n",
    "# cypher_llm = ChatOpenAI(model=\"gpt-4.1-mini\", temperature=0.0)\n",
    "# qa_llm = ChatGoogleGenerativeAI(model=\"gemini-2.0-flash\", temperature=0.0)\n",
    "\n",
    "cypher_chain = GraphCypherQAChain.from_llm(\n",
    "    # cypher_llm=cypher_llm,\n",
    "    # qa_llm=qa_llm,\n",
    "    llm=llm,\n",
    "    graph=graph, \n",
    "    allow_dangerous_requests=True,\n",
    "    verbose=True,\n",
    "    return_intermediate_steps=True,  # 생성된 Cypher 쿼리와 중간 결과 확인\n",
    "    # return_direct=True\n",
    ")\n",
    "\n",
    "answer = cypher_chain.invoke({\"query\": \"Bella Roma 레스토랑의 주중 영업시간을 알려줘.\"})\n",
    "answer\n"
   ]
  },
  {
   "cell_type": "code",
   "execution_count": null,
   "id": "fbea5aed",
   "metadata": {},
   "outputs": [
    {
     "name": "stdout",
     "output_type": "stream",
     "text": [
      "\n",
      "==============================\n",
      "Q1. Bella Roma 레스토랑의 영업시간을 알려주세요.\n",
      "------------------------------\n",
      "\n",
      "\n",
      "\u001b[1m> Entering new GraphCypherQAChain chain...\u001b[0m\n",
      "Generated Cypher:\n",
      "\u001b[32;1m\u001b[1;3mMATCH (r:Restaurant {name: \"Bella Roma\"}) RETURN r.hoursWeekday AS hoursWeekday, r.hoursWeekend AS hoursWeekend;\u001b[0m\n",
      "Full Context:\n",
      "\u001b[32;1m\u001b[1;3m[{'hoursWeekday': '11:00-22:00', 'hoursWeekend': '11:00-23:00'}]\u001b[0m\n",
      "\n",
      "\u001b[1m> Finished chain.\u001b[0m\n",
      "A1. Bella Roma 레스토랑의 영업시간은 평일 11:00-22:00, 주말 11:00-23:00입니다.\n",
      "\n",
      "\n",
      "==============================\n",
      "Q2. 까르보나라 파스타의 가격은 얼마인가요?\n",
      "------------------------------\n",
      "\n",
      "\n",
      "\u001b[1m> Entering new GraphCypherQAChain chain...\u001b[0m\n",
      "Generated Cypher:\n",
      "\u001b[32;1m\u001b[1;3mMATCH (m:MenuItem {name: \"까르보나라 파스타\"}) RETURN m.name AS name, m.price AS price, m.currency AS currency;\u001b[0m\n",
      "Full Context:\n",
      "\u001b[32;1m\u001b[1;3m[{'name': '까르보나라 파스타', 'price': 18000, 'currency': 'KRW'}]\u001b[0m\n",
      "\n",
      "\u001b[1m> Finished chain.\u001b[0m\n",
      "A2. 까르보나라 파스타의 가격은 18,000원입니다.\n",
      "\n",
      "\n",
      "==============================\n",
      "Q3. 주방장 이름이 뭐예요?\n",
      "------------------------------\n",
      "\n",
      "\n",
      "\u001b[1m> Entering new GraphCypherQAChain chain...\u001b[0m\n",
      "Generated Cypher:\n",
      "\u001b[32;1m\u001b[1;3mMATCH (e:Employee)\n",
      "WHERE toLower(e.role) CONTAINS '주방' OR toLower(e.role) CONTAINS 'chef' OR toLower(e.role) CONTAINS 'head'\n",
      "RETURN DISTINCT e.name AS name;\u001b[0m\n",
      "Full Context:\n",
      "\u001b[32;1m\u001b[1;3m[{'name': '김철수'}]\u001b[0m\n",
      "\n",
      "\u001b[1m> Finished chain.\u001b[0m\n",
      "A3. 주방장 이름은 김철수입니다.\n",
      "\n",
      "\n",
      "==============================\n",
      "Q4. 티라미수를 구매한 이력이 있는 사용자들이 남긴 리뷰를 모두 알려줘\n",
      "------------------------------\n",
      "\n",
      "\n",
      "\u001b[1m> Entering new GraphCypherQAChain chain...\u001b[0m\n",
      "Generated Cypher:\n",
      "\u001b[32;1m\u001b[1;3mMATCH (p:Purchase)-[:FOR_MENU_ITEM]->(m:MenuItem {name: '티라미수'}), (p)-[:BY_CUSTOMER]->(c:Customer), (r:CustomerReview)-[:WRITTEN_BY]->(c) RETURN DISTINCT r\u001b[0m\n",
      "Full Context:\n",
      "\u001b[32;1m\u001b[1;3m[{'r': {'reviewDate': neo4j.time.Date(2024, 10, 3), 'author': '사용자1', 'rating': 4, 'caption': 'r사용자1|10-03|1', 'text': '직원분들이 친절해서 기분 좋게 식사했습니다.', 'seq': 1}}, {'r': {'reviewDate': neo4j.time.Date(2024, 10, 17), 'author': '사용자1', 'rating': 5, 'caption': 'r사용자1|10-17|1', 'text': '직원분들이 친절해서 기분 좋게 식사했습니다.', 'seq': 1}}, {'r': {'reviewDate': neo4j.time.Date(2024, 11, 10), 'author': '사용자1', 'rating': 4, 'caption': 'r사용자1|11-10|1', 'text': '직원분들이 친절해서 기분 좋게 식사했습니다.', 'seq': 1}}, {'r': {'reviewDate': neo4j.time.Date(2024, 1, 7), 'author': '사용자11', 'rating': 5, 'caption': 'r사용자11|01-07|1', 'text': '분위기가 좋아서 데이트 장소로 딱입니다.', 'seq': 1}}, {'r': {'reviewDate': neo4j.time.Date(2024, 1, 17), 'author': '사용자11', 'rating': 4, 'caption': 'r사용자11|01-17|1', 'text': '직원분들이 친절해서 기분 좋게 식사했습니다.', 'seq': 1}}, {'r': {'reviewDate': neo4j.time.Date(2024, 4, 8), 'author': '사용자11', 'rating': 4, 'caption': 'r사용자11|04-08|1', 'text': '직원분들이 친절해서 기분 좋게 식사했습니다.', 'seq': 1}}, {'r': {'reviewDate': neo4j.time.Date(2024, 12, 28), 'author': '사용자11', 'rating': 3, 'caption': 'r사용자11|12-28|1', 'text': '분위기가 좋아서 데이트 장소로 딱입니다.', 'seq': 1}}, {'r': {'reviewDate': neo4j.time.Date(2024, 2, 12), 'author': '사용자12', 'rating': 5, 'caption': 'r사용자12|02-12|1', 'text': '조용하고 아늑해서 혼자 책 읽기 좋아요.', 'seq': 1}}, {'r': {'reviewDate': neo4j.time.Date(2024, 4, 5), 'author': '사용자12', 'rating': 3, 'caption': 'r사용자12|04-05|1', 'text': '조용하고 아늑해서 혼자 책 읽기 좋아요.', 'seq': 1}}, {'r': {'reviewDate': neo4j.time.Date(2024, 4, 12), 'author': '사용자12', 'rating': 5, 'caption': 'r사용자12|04-12|1', 'text': '조용하고 아늑해서 혼자 책 읽기 좋아요.', 'seq': 1}}]\u001b[0m\n",
      "\n",
      "\u001b[1m> Finished chain.\u001b[0m\n",
      "A4. 티라미수를 구매한 이력이 있는 사용자가 누구인지 확인할 수 있는 정보가 없어, 해당 사용자들이 남긴 리뷰를 알려드릴 수 없습니다. 구매자 목록이나 구매 이력을 알려주시면 그에 해당하는 리뷰를 찾아드리겠습니다.\n",
      "\n",
      "\n",
      "==============================\n",
      "Q5. 2024년 8월에 가장 많이 팔린 메뉴는 무엇인가요?\n",
      "------------------------------\n",
      "\n",
      "\n",
      "\u001b[1m> Entering new GraphCypherQAChain chain...\u001b[0m\n",
      "Generated Cypher:\n",
      "\u001b[32;1m\u001b[1;3mMATCH (p:Purchase)-[:FOR_MENU_ITEM]->(m:MenuItem)\n",
      "WHERE p.purchaseDate >= date(\"2024-08-01\") AND p.purchaseDate < date(\"2024-09-01\")\n",
      "RETURN m.name AS menuItem, sum(p.quantity) AS totalSold\n",
      "ORDER BY totalSold DESC\n",
      "LIMIT 1;\u001b[0m\n",
      "Full Context:\n",
      "\u001b[32;1m\u001b[1;3m[{'menuItem': '까르보나라 파스타', 'totalSold': 35}]\u001b[0m\n",
      "\n",
      "\u001b[1m> Finished chain.\u001b[0m\n",
      "A5. 2024년 8월에 가장 많이 팔린 메뉴는 까르보나라 파스타(총 35개 판매)입니다.\n",
      "\n",
      "\n",
      "==============================\n",
      "Q6. 글루텐 알레르기가 있는 고객이 먹을 수 없는 메뉴는 무엇인가요?\n",
      "------------------------------\n",
      "\n",
      "\n",
      "\u001b[1m> Entering new GraphCypherQAChain chain...\u001b[0m\n",
      "Generated Cypher:\n",
      "\u001b[32;1m\u001b[1;3mMATCH (m:MenuItem)-[:MAY_TRIGGER_ALLERGY]->(a:Allergy)\n",
      "WHERE toLower(a.name) CONTAINS '글루텐' OR toLower(a.name) CONTAINS 'gluten'\n",
      "RETURN DISTINCT m.name AS menuItem, m.category AS category, m.price AS price, m.currency AS currency;\u001b[0m\n",
      "Full Context:\n",
      "\u001b[32;1m\u001b[1;3m[{'menuItem': '마르게리타 피자', 'category': '피자', 'price': 15000, 'currency': 'KRW'}, {'menuItem': '까르보나라 파스타', 'category': '파스타', 'price': 18000, 'currency': 'KRW'}]\u001b[0m\n",
      "\n",
      "\u001b[1m> Finished chain.\u001b[0m\n",
      "A6. 마르게리타 피자, 까르보나라 파스타는 글루텐 알레르기가 있는 고객이 먹을 수 없습니다.\n",
      "\n",
      "\n",
      "==============================\n",
      "Q7. 2024년 상반기(1~6월)에 긍정적인 리뷰(4점 이상)를 남긴 고객들이 가장 많이 주문한 메뉴 카테고리는 무엇인가요?\n",
      "------------------------------\n",
      "\n",
      "\n",
      "\u001b[1m> Entering new GraphCypherQAChain chain...\u001b[0m\n",
      "Generated Cypher:\n",
      "\u001b[32;1m\u001b[1;3mMATCH (cr:CustomerReview)-[:WRITTEN_BY]->(cust:Customer)\n",
      "WHERE cr.reviewDate >= date('2024-01-01') AND cr.reviewDate <= date('2024-06-30') AND cr.rating >= 4\n",
      "MATCH (cust)<-[:BY_CUSTOMER]-(p:Purchase)-[:FOR_MENU_ITEM]->(mi:MenuItem)-[:IN_MENU_CATEGORY]->(mc:MenuCategory)\n",
      "WHERE p.purchaseDate >= date('2024-01-01') AND p.purchaseDate <= date('2024-06-30')\n",
      "RETURN mc.name AS menuCategory, count(p) AS orders\n",
      "ORDER BY orders DESC\n",
      "LIMIT 1\u001b[0m\n",
      "Full Context:\n",
      "\u001b[32;1m\u001b[1;3m[{'menuCategory': '디저트', 'orders': 55}]\u001b[0m\n",
      "\n",
      "\u001b[1m> Finished chain.\u001b[0m\n",
      "A7. 디저트가 55건으로 2024년 상반기에 긍정적인 리뷰(4점 이상)를 남긴 고객들이 가장 많이 주문한 메뉴 카테고리입니다.\n",
      "\n",
      "\n",
      "==============================\n",
      "Q8. ‘가격’이라는 키워드가 포함된 리뷰들의 평균 평점은 얼마이며, 이 리뷰를 남긴 사용자들은 주로 어떤 메뉴를 주문했나요?\n",
      "------------------------------\n",
      "\n",
      "\n",
      "\u001b[1m> Entering new GraphCypherQAChain chain...\u001b[0m\n",
      "Generated Cypher:\n",
      "\u001b[32;1m\u001b[1;3mMATCH (cr:CustomerReview)-[:WRITTEN_BY]->(c:Customer)\n",
      "WHERE cr.text CONTAINS '가격'\n",
      "WITH avg(cr.rating) AS averageRating, collect(DISTINCT c) AS reviewers\n",
      "UNWIND reviewers AS reviewer\n",
      "MATCH (p:Purchase)-[:BY_CUSTOMER]->(reviewer)\n",
      "MATCH (p)-[:FOR_MENU_ITEM]->(mi:MenuItem)\n",
      "RETURN averageRating, mi.name AS menuItem, count(p) AS orders\n",
      "ORDER BY orders DESC;\u001b[0m\n",
      "Full Context:\n",
      "\u001b[32;1m\u001b[1;3m[{'averageRating': 3.5, 'menuItem': '티라미수', 'orders': 21}, {'averageRating': 3.5, 'menuItem': '아메리카노', 'orders': 20}, {'averageRating': 3.5, 'menuItem': '마르게리타 피자', 'orders': 18}, {'averageRating': 3.5, 'menuItem': '까르보나라 파스타', 'orders': 18}]\u001b[0m\n",
      "\n",
      "\u001b[1m> Finished chain.\u001b[0m\n",
      "A8. '가격'이라는 키워드가 포함된 리뷰들의 평균 평점은 3.5이며, 이 리뷰를 남긴 사용자들은 주로 티라미수(21건)와 아메리카노(20건)를 주문했고, 그 다음으로 마르게리타 피자(18건)와 까르보나라 파스타(18건)를 주문했습니다.\n",
      "\n"
     ]
    }
   ],
   "source": [
    "# 테스트용 질문 목록\n",
    "questions = [\n",
    "    \"Bella Roma 레스토랑의 영업시간을 알려주세요.\",\n",
    "    \"까르보나라 파스타의 가격은 얼마인가요?\",\n",
    "    \"주방장 이름이 뭐예요?\",\n",
    "    \"티라미수를 구매한 이력이 있는 사용자들이 남긴 리뷰를 모두 알려줘\",\n",
    "    \"2024년 8월에 가장 많이 팔린 메뉴는 무엇인가요?\",\n",
    "    \"글루텐 알레르기가 있는 고객이 먹을 수 없는 메뉴는 무엇인가요?\",\n",
    "    \"2024년 상반기(1~6월)에 긍정적인 리뷰(4점 이상)를 남긴 고객들이 가장 많이 주문한 메뉴 카테고리는 무엇인가요?\",\n",
    "    \"‘가격’이라는 키워드가 포함된 리뷰들의 평균 평점은 얼마이며, 이 리뷰를 남긴 사용자들은 주로 어떤 메뉴를 주문했나요?\"\n",
    "]\n",
    "\n",
    "# 질문들을 chain에 넣고 결과 출력\n",
    "for idx, q in enumerate(questions, 1):\n",
    "    print(f\"\\n{'='*30}\\nQ{idx}. {q}\\n{'-'*30}\")\n",
    "    answer = chain.run(q)\n",
    "    print(f\"A{idx}. {answer}\\n\")"
   ]
  }
 ],
 "metadata": {
  "kernelspec": {
   "display_name": "GPT Square Ontology",
   "language": "python",
   "name": "gptsquare_ontology"
  },
  "language_info": {
   "codemirror_mode": {
    "name": "ipython",
    "version": 3
   },
   "file_extension": ".py",
   "mimetype": "text/x-python",
   "name": "python",
   "nbconvert_exporter": "python",
   "pygments_lexer": "ipython3",
   "version": "3.9.13"
  }
 },
 "nbformat": 4,
 "nbformat_minor": 5
}
