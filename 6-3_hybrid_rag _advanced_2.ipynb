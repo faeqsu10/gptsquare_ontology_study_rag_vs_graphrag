{
 "cells": [
  {
   "cell_type": "markdown",
   "id": "f72c07c4",
   "metadata": {},
   "source": [
    "### 라이브러리 Import"
   ]
  },
  {
   "cell_type": "code",
   "execution_count": 2,
   "id": "d2c20da1",
   "metadata": {},
   "outputs": [
    {
     "data": {
      "text/plain": [
       "True"
      ]
     },
     "execution_count": 2,
     "metadata": {},
     "output_type": "execute_result"
    }
   ],
   "source": [
    "import os\n",
    "\n",
    "from langchain_openai import ChatOpenAI, OpenAIEmbeddings\n",
    "from langchain_community.vectorstores import Chroma\n",
    "from langchain_core.prompts import ChatPromptTemplate\n",
    "from langchain_core.runnables import RunnablePassthrough, RunnableLambda\n",
    "from langchain_core.output_parsers import StrOutputParser\n",
    "from typing import Optional, Any\n",
    "\n",
    "from langchain_community.graphs import Neo4jGraph\n",
    "from langchain.chains import GraphCypherQAChain\n",
    "\n",
    "from dotenv import load_dotenv\n",
    "load_dotenv()"
   ]
  },
  {
   "cell_type": "markdown",
   "id": "36137bd4",
   "metadata": {},
   "source": [
    "### 시스템 설정"
   ]
  },
  {
   "cell_type": "code",
   "execution_count": 3,
   "id": "d01ee85f",
   "metadata": {},
   "outputs": [],
   "source": [
    "# Chroma\n",
    "CHROMA_DB_PATH = \"./chroma_db\" \n",
    "\n",
    "# Neo4j\n",
    "USERNAME = os.environ.get(\"USERNAME\")\n",
    "PASSWORD = os.environ.get(\"PASSWORD\")\n",
    "URL = os.environ.get(\"URL\")\n",
    "\n",
    "# OpenAI\n",
    "OPENAI_API_KEY = os.environ.get(\"OPENAI_API_KEY\")\n",
    "llm = ChatOpenAI(model_name=\"gpt-5-mini\", temperature=0)"
   ]
  },
  {
   "cell_type": "markdown",
   "id": "90fbf9a5",
   "metadata": {},
   "source": [
    "### PROMPT TEMPLATE\n",
    "- RAG\n",
    "- HYBRID"
   ]
  },
  {
   "cell_type": "code",
   "execution_count": 4,
   "id": "635bd9fb",
   "metadata": {},
   "outputs": [],
   "source": [
    "RAG_PROMPT_TEMPLATE = \"\"\"\n",
    "당신은 Bella Roma 레스토랑 데이터 전문가를 위한 유용한 AI 어시스턴트입니다.\n",
    "제공된 Context (검색된 문서)만을 사용하여 사용자의 질문에 답변하십시오.\n",
    "만약 Context에 답변할 수 있는 정보가 없다면, '제공된 정보로는 답변할 수 없습니다.'라고 명확하게 언급하세요.\n",
    "\n",
    "[질문]\n",
    "{question}\n",
    "\n",
    "[Context (검색된 문서)]\n",
    "{context}\n",
    "\"\"\""
   ]
  },
  {
   "cell_type": "code",
   "execution_count": 5,
   "id": "81265d71",
   "metadata": {},
   "outputs": [],
   "source": [
    "HYBRID_QA_TEMPLATE = \"\"\"\n",
    "당신은 Bella Roma 레스토랑 데이터 분석 전문가입니다.\n",
    "아래에 제공된 두 가지 검색 결과 (Graph DB Context 및 Vector DB Context)를 모두 활용하여 사용자의 질문에 대한 가장 정확하고 포괄적인 답변을 한국어로 생성하십시오.\n",
    "\n",
    "[질문]\n",
    "{question}\n",
    "\n",
    "--- Graph DB Context ---\n",
    "{graph_context}\n",
    "---------------------------------------\n",
    "\n",
    "--- Vector DB Context ---\n",
    "{vector_context}\n",
    "-----------------------------------------\n",
    "\n",
    "# 응답 가이드라인:\n",
    "- 두 Context를 종합하여 답변하며, 충돌하는 정보가 있을 경우 Graph DB의 사실 정보를 우선하세요.\n",
    "- 답변은 전문적이고 유익한 톤을 사용하세요.\n",
    "- 두 Context 모두에 답변할 정보가 없는 경우, '제공된 정보로는 답변을 통합할 수 없습니다.'라고 명확히 언급하세요.\n",
    "\"\"\""
   ]
  },
  {
   "cell_type": "code",
   "execution_count": 7,
   "id": "14df58bf",
   "metadata": {},
   "outputs": [],
   "source": [
    "HYBRID_QA_PROMPT = ChatPromptTemplate.from_template(HYBRID_QA_TEMPLATE)"
   ]
  },
  {
   "cell_type": "markdown",
   "id": "9d44fc1a",
   "metadata": {},
   "source": [
    "### RAG"
   ]
  },
  {
   "cell_type": "code",
   "execution_count": null,
   "id": "178cbb61",
   "metadata": {},
   "outputs": [],
   "source": [
    "def initialize_chroma_db(embedding_function: OpenAIEmbeddings, collection_name: str) -> Optional[Chroma]:\n",
    "    \"\"\" ChromaDB 벡터 스토어를 초기화합니다. \"\"\"\n",
    "    try:\n",
    "        vector_db = Chroma(\n",
    "            persist_directory=CHROMA_DB_PATH,\n",
    "            embedding_function=embedding_function,\n",
    "            collection_name=collection_name\n",
    "        )\n",
    "        # print(f\"연결된 컬렉션({collection_name}) 문서 개수: {getattr(vector_db, '_collection').count()}\")\n",
    "        return vector_db\n",
    "    except Exception as e:\n",
    "        print(f\"ChromaDB 초기화 오류: {e}\")\n",
    "        return None\n",
    "    \n",
    "def initialize_neo4j_graph() -> Optional[Neo4jGraph]:\n",
    "    \"\"\" Neo4jGraph 객체를 초기화합니다. \"\"\"\n",
    "    try:\n",
    "        graph = Neo4jGraph(url=URL, username=USERNAME, password=PASSWORD)\n",
    "        return graph\n",
    "    except Exception as e:\n",
    "        print(f\"Neo4j 초기화 오류: {e}\")\n",
    "        return None"
   ]
  },
  {
   "cell_type": "code",
   "execution_count": 9,
   "id": "8096cae2",
   "metadata": {},
   "outputs": [],
   "source": [
    "def fetch_vector_context(question: str, llm: ChatOpenAI) -> str:\n",
    "    \"\"\" Vector DB에서 관련 문서의 Context를 검색합니다. \"\"\"\n",
    "    try:\n",
    "        embeddings = OpenAIEmbeddings(model=\"text-embedding-3-small\")\n",
    "        vector_db = initialize_chroma_db(embeddings, collection_name=\"unified_data\")\n",
    "        \n",
    "        if vector_db is None:\n",
    "            return \"ERROR: Vector DB 초기화 실패\"\n",
    "        \n",
    "        # 5개 문서를 검색하여 텍스트 Context로 변환\n",
    "        retriever = vector_db.as_retriever(search_kwargs={\"k\": 5})\n",
    "        prompt = ChatPromptTemplate.from_template(RAG_PROMPT_TEMPLATE)\n",
    "        \n",
    "        rag_chain = (\n",
    "        {\"context\": retriever, \"question\": RunnablePassthrough()}\n",
    "        | prompt\n",
    "        | llm\n",
    "        | StrOutputParser()\n",
    "        )\n",
    "        \n",
    "        \n",
    "        docs = retriever.invoke(question)\n",
    "        \n",
    "        # 검색된 문서 내용을 하나의 문자열로 결합\n",
    "        context = \"\\n---\\n\".join([doc.page_content for doc in docs])\n",
    "        \n",
    "        result = rag_chain.invoke(question)\n",
    "        \n",
    "        return context, result\n",
    "        \n",
    "    except Exception as e:\n",
    "        return f\"ERROR: Vector DB 검색 오류: {e}\""
   ]
  },
  {
   "cell_type": "markdown",
   "id": "378d212e",
   "metadata": {},
   "source": [
    "---"
   ]
  },
  {
   "cell_type": "markdown",
   "id": "9af621fa",
   "metadata": {},
   "source": [
    "### Graph RAG TEST - LLM으로 Cypher 쿼리 생성 후 쿼리 실행"
   ]
  },
  {
   "cell_type": "code",
   "execution_count": 13,
   "id": "7599df96",
   "metadata": {},
   "outputs": [],
   "source": [
    "def generate_cypher_query_and_execute(question):\n",
    "    graph = initialize_neo4j_graph()\n",
    "    llm = ChatOpenAI(model_name=\"gpt-5-mini\")\n",
    "    \n",
    "    # 스키마 정보 가져오기\n",
    "    schema = graph.schema\n",
    "    \n",
    "    # Cypher 쿼리 생성 프롬프트\n",
    "    cypher_prompt = f\"\"\"\n",
    "    Given the following Neo4j schema:\n",
    "    {schema}\n",
    "    Generate a Cypher query to answer this question: {question}\n",
    "    Return only the Cypher query, no explanations.\n",
    "    \"\"\"\n",
    "    \n",
    "    # Cypher 쿼리 생성\n",
    "    cypher_query = llm.predict(cypher_prompt).strip()\n",
    "    \n",
    "    # Cypher 쿼리 실행\n",
    "    query_result = graph.query(cypher_query)\n",
    "    return cypher_query, query_result"
   ]
  },
  {
   "cell_type": "code",
   "execution_count": 12,
   "id": "ea628c0b",
   "metadata": {},
   "outputs": [],
   "source": [
    "question = \"2024년 상반기(1~6월)에 긍정적인 리뷰(4점 이상)를 남긴 고객들이 가장 많이 주문한 메뉴와 메뉴 카테고리는 무엇인가요?\""
   ]
  },
  {
   "cell_type": "code",
   "execution_count": 17,
   "id": "42ea791a",
   "metadata": {},
   "outputs": [
    {
     "name": "stderr",
     "output_type": "stream",
     "text": [
      "Received notification from DBMS server: {severity: WARNING} {code: Neo.ClientNotification.Statement.FeatureDeprecationWarning} {category: DEPRECATION} {title: This feature is deprecated and will be removed in future versions.} {description: CALL subquery without a variable scope clause is now deprecated. Use CALL (customers) { ... }} {position: line: 4, column: 1, offset: 193} for query: \"MATCH (cr:CustomerReview)-[:WRITTEN_BY]->(c:Customer)\\nWHERE cr.reviewDate >= date('2024-01-01') AND cr.reviewDate <= date('2024-06-30') AND cr.rating >= 4\\nWITH collect(DISTINCT c) AS customers\\nCALL {\\n  WITH customers\\n  UNWIND customers AS customer\\n  MATCH (p:Purchase)-[:BY_CUSTOMER]->(customer)\\n  MATCH (p)-[:FOR_MENU_ITEM]->(m:MenuItem)\\n  WHERE p.purchaseDate >= date('2024-01-01') AND p.purchaseDate <= date('2024-06-30')\\n  RETURN m.name AS menuItem, count(*) AS itemCount\\n  ORDER BY itemCount DESC\\n  LIMIT 1\\n}\\nCALL {\\n  WITH customers\\n  UNWIND customers AS customer\\n  MATCH (p:Purchase)-[:BY_CUSTOMER]->(customer)\\n  MATCH (p)-[:FOR_MENU_ITEM]->(m:MenuItem)-[:IN_MENU_CATEGORY]->(mc:MenuCategory)\\n  WHERE p.purchaseDate >= date('2024-01-01') AND p.purchaseDate <= date('2024-06-30')\\n  RETURN mc.name AS menuCategory, count(*) AS categoryCount\\n  ORDER BY categoryCount DESC\\n  LIMIT 1\\n}\\nRETURN menuItem, itemCount, menuCategory, categoryCount;\"\n",
      "Received notification from DBMS server: {severity: WARNING} {code: Neo.ClientNotification.Statement.FeatureDeprecationWarning} {category: DEPRECATION} {title: This feature is deprecated and will be removed in future versions.} {description: CALL subquery without a variable scope clause is now deprecated. Use CALL (customers) { ... }} {position: line: 14, column: 1, offset: 514} for query: \"MATCH (cr:CustomerReview)-[:WRITTEN_BY]->(c:Customer)\\nWHERE cr.reviewDate >= date('2024-01-01') AND cr.reviewDate <= date('2024-06-30') AND cr.rating >= 4\\nWITH collect(DISTINCT c) AS customers\\nCALL {\\n  WITH customers\\n  UNWIND customers AS customer\\n  MATCH (p:Purchase)-[:BY_CUSTOMER]->(customer)\\n  MATCH (p)-[:FOR_MENU_ITEM]->(m:MenuItem)\\n  WHERE p.purchaseDate >= date('2024-01-01') AND p.purchaseDate <= date('2024-06-30')\\n  RETURN m.name AS menuItem, count(*) AS itemCount\\n  ORDER BY itemCount DESC\\n  LIMIT 1\\n}\\nCALL {\\n  WITH customers\\n  UNWIND customers AS customer\\n  MATCH (p:Purchase)-[:BY_CUSTOMER]->(customer)\\n  MATCH (p)-[:FOR_MENU_ITEM]->(m:MenuItem)-[:IN_MENU_CATEGORY]->(mc:MenuCategory)\\n  WHERE p.purchaseDate >= date('2024-01-01') AND p.purchaseDate <= date('2024-06-30')\\n  RETURN mc.name AS menuCategory, count(*) AS categoryCount\\n  ORDER BY categoryCount DESC\\n  LIMIT 1\\n}\\nRETURN menuItem, itemCount, menuCategory, categoryCount;\"\n"
     ]
    }
   ],
   "source": [
    "cypher_query, query_result = generate_cypher_query_and_execute(question)"
   ]
  },
  {
   "cell_type": "code",
   "execution_count": 18,
   "id": "9dabb6a2",
   "metadata": {},
   "outputs": [
    {
     "data": {
      "text/plain": [
       "\"MATCH (cr:CustomerReview)-[:WRITTEN_BY]->(c:Customer)\\nWHERE cr.reviewDate >= date('2024-01-01') AND cr.reviewDate <= date('2024-06-30') AND cr.rating >= 4\\nWITH collect(DISTINCT c) AS customers\\nCALL {\\n  WITH customers\\n  UNWIND customers AS customer\\n  MATCH (p:Purchase)-[:BY_CUSTOMER]->(customer)\\n  MATCH (p)-[:FOR_MENU_ITEM]->(m:MenuItem)\\n  WHERE p.purchaseDate >= date('2024-01-01') AND p.purchaseDate <= date('2024-06-30')\\n  RETURN m.name AS menuItem, count(*) AS itemCount\\n  ORDER BY itemCount DESC\\n  LIMIT 1\\n}\\nCALL {\\n  WITH customers\\n  UNWIND customers AS customer\\n  MATCH (p:Purchase)-[:BY_CUSTOMER]->(customer)\\n  MATCH (p)-[:FOR_MENU_ITEM]->(m:MenuItem)-[:IN_MENU_CATEGORY]->(mc:MenuCategory)\\n  WHERE p.purchaseDate >= date('2024-01-01') AND p.purchaseDate <= date('2024-06-30')\\n  RETURN mc.name AS menuCategory, count(*) AS categoryCount\\n  ORDER BY categoryCount DESC\\n  LIMIT 1\\n}\\nRETURN menuItem, itemCount, menuCategory, categoryCount;\""
      ]
     },
     "execution_count": 18,
     "metadata": {},
     "output_type": "execute_result"
    }
   ],
   "source": [
    "cypher_query"
   ]
  },
  {
   "cell_type": "code",
   "execution_count": 19,
   "id": "404d7926",
   "metadata": {},
   "outputs": [
    {
     "data": {
      "text/plain": [
       "[{'menuItem': '티라미수',\n",
       "  'itemCount': 36,\n",
       "  'menuCategory': '디저트',\n",
       "  'categoryCount': 36}]"
      ]
     },
     "execution_count": 19,
     "metadata": {},
     "output_type": "execute_result"
    }
   ],
   "source": [
    "query_result"
   ]
  },
  {
   "cell_type": "markdown",
   "id": "ba77ebac",
   "metadata": {},
   "source": [
    "---"
   ]
  },
  {
   "cell_type": "markdown",
   "id": "05730ac8",
   "metadata": {},
   "source": [
    "### LLM 사용 - 복잡한 사용자 질문 분해\n",
    "- 복잡한 사용자 질문을 '그래프 DB조회'에 필요한 단순한 탐색 경로/중간 데이터 보조 질문으로 분해"
   ]
  },
  {
   "cell_type": "code",
   "execution_count": 27,
   "id": "5bf23652",
   "metadata": {},
   "outputs": [],
   "source": [
    "import json\n",
    "from typing import List, Dict, Tuple, Any\n",
    "\n",
    "def decompose_question_to_sub_queries(question: str, schema: str, llm: ChatOpenAI) -> List[str]:\n",
    "    \n",
    "    \"\"\"\n",
    "    LLM을 사용하여 복잡한 사용자 질문을 '그래프 DB 조회'에 필요한\n",
    "    단순한 탐색 경로/중간 데이터 보조 질문으로 분해합니다.\n",
    "    \"\"\"\n",
    "    decompose_prompt = f\"\"\"\n",
    "    You are an expert Graph Query Decomposer. Your task is to analyze the user's complex question based ONLY on the provided Neo4j Schema.\n",
    "    \n",
    "    Decompose the question into a sequence of *data retrieval* steps (sub-questions). Each sub-question must target a specific piece of information from the graph. DO NOT ask about schema definition, delivery format, or user intent/policy.\n",
    "    \n",
    "    Neo4j Schema:\n",
    "    ---\n",
    "    {schema} \n",
    "    ---\n",
    "    \n",
    "    User Question: \"{question}\"\n",
    "    \n",
    "    Example Output: [\"What is the name of the Head Chef?\", \"What menu items did the Head Chef create?\", \"Which ingredients are contained in those menu items?\"]\n",
    "    \n",
    "    Return ONLY a JSON array of strings, where each string is a sub-question focused on data retrieval.\n",
    "    \"\"\"\n",
    "    \n",
    "    try:\n",
    "        # LLM 호출 및 JSON 파싱\n",
    "        # LLM의 응답은 JSON 문자열이라고 가정합니다.\n",
    "        json_str = llm.invoke(decompose_prompt).content.strip()\n",
    "        sub_questions = json.loads(json_str)\n",
    "        \n",
    "        # 리스트가 아니거나 형식이 맞지 않으면 빈 리스트 반환\n",
    "        if not isinstance(sub_questions, list):\n",
    "             return []\n",
    "             \n",
    "        return sub_questions\n",
    "        \n",
    "    except Exception as e:\n",
    "        print(f\"보조 질문 분해 중 오류 발생: {e}\")\n",
    "        return []"
   ]
  },
  {
   "cell_type": "code",
   "execution_count": 28,
   "id": "10828651",
   "metadata": {},
   "outputs": [],
   "source": [
    "graph = initialize_neo4j_graph()\n",
    "graph.schema\n",
    "sub_questions = decompose_question_to_sub_queries(question, graph, llm)"
   ]
  },
  {
   "cell_type": "code",
   "execution_count": 29,
   "id": "dbfc38ea",
   "metadata": {},
   "outputs": [
    {
     "data": {
      "text/plain": [
       "['2024-01-01부터 2024-06-30(2024년 상반기) 사이에 평점이 4점 이상인 리뷰들(리뷰 ID, 작성일, 평점)은 무엇인가?',\n",
       " '위 리뷰들을 작성한 고객들(고객 ID 또는 고객 노드)은 누구인가?',\n",
       " '해당 고객들이 2024-01-01부터 2024-06-30 사이에 생성한 주문들(주문 ID 및 주문일자)은 무엇인가?',\n",
       " '위 주문들에 포함된 각 주문 항목(메뉴 아이템)과 각 항목의 주문 수량(또는 주문 건수)은 얼마인가?',\n",
       " '각 메뉴 아이템별 총 주문 수량을 집계했을 때 가장 많이 주문된 메뉴 아이템(최다 주문 수)을 가진 메뉴는 무엇인가? (동률이 있으면 모두)',\n",
       " '가장 많이 주문된 해당 메뉴 아이템들의 메뉴 카테고리(카테고리명)는 무엇인가?']"
      ]
     },
     "execution_count": 29,
     "metadata": {},
     "output_type": "execute_result"
    }
   ],
   "source": [
    "sub_questions"
   ]
  },
  {
   "cell_type": "code",
   "execution_count": null,
   "id": "4653a34c",
   "metadata": {},
   "outputs": [],
   "source": [
    "# 보조 질문 실행 및 결과 context 생성 함수\n",
    "def execute_sub_queries(question: str, sub_queries: List[str], graph: Neo4jGraph, llm: ChatOpenAI) -> Tuple[str, List[Dict[str, Any]]]:\n",
    "    \"\"\"\n",
    "    보조 질문 목록을 순회하며 Cypher 쿼리를 생성 및 실행하고, 모든 결과를 Context로 수집합니다.\n",
    "    \"\"\"\n",
    "    full_schema = graph.schema\n",
    "    context_results = []\n",
    "    \n",
    "    # 각 보조 질문에 대한 쿼리를 생성하고 실행\n",
    "    for i, sub_q in enumerate(sub_queries):\n",
    "        # Cypher 쿼리 생성 프롬프트 (전체 스키마 사용)\n",
    "        cypher_prompt = f\"\"\"\n",
    "        Given the Neo4j schema and the following sub-question from a sequence of questions, generate the necessary Cypher query.\n",
    "        \n",
    "        Sub-Question {i+1}: \"{sub_q}\"\n",
    "        \n",
    "        Neo4j Schema:\n",
    "        ---\n",
    "        {full_schema}\n",
    "        ---\n",
    "        \n",
    "        Return ONLY the valid Cypher query. Do not include any explanations.\n",
    "        \"\"\"\n",
    "        \n",
    "        try:\n",
    "            # Cypher 쿼리 생성\n",
    "            cypher_query = llm.invoke(cypher_prompt).content.strip()\n",
    "            \n",
    "            # Cypher 쿼리 실행\n",
    "            query_result = graph.query(cypher_query)\n",
    "            \n",
    "            # 결과 Context 저장\n",
    "            context_results.append({\n",
    "                \"sub_question\": sub_q,\n",
    "                \"cypher_query\": cypher_query,\n",
    "                \"result\": query_result\n",
    "            })\n",
    "            \n",
    "        except Exception as e:\n",
    "            # 쿼리 생성 또는 실행 오류 시, 오류 메시지를 Context에 저장하여 LLM에게 전달\n",
    "            context_results.append({\n",
    "                \"sub_question\": sub_q,\n",
    "                \"error\": f\"Failed to execute query: {e}\"\n",
    "            })\n",
    "            \n",
    "    # 최종 답변을 위한 Context 문자열 생성 (프롬프트로 전달될 형태)\n",
    "    context_string = f\"Original User Question: {question}\\n\\nContextual Data Retrieved:\\n\"\n",
    "    for item in context_results:\n",
    "        if 'error' in item:\n",
    "            context_string += f\"- Q: {item['sub_question']} | Error: {item['error']}\\n\"\n",
    "        else:\n",
    "            # 결과가 너무 길면 잘라서 전달하거나 요약하는 로직을 추가할 수 있습니다.\n",
    "            context_string += f\"- Q: {item['sub_question']} | Result: {item['result']}\\n\"\n",
    "            \n",
    "    return context_string, context_results"
   ]
  },
  {
   "cell_type": "code",
   "execution_count": 30,
   "id": "386728a9",
   "metadata": {},
   "outputs": [
    {
     "name": "stderr",
     "output_type": "stream",
     "text": [
      "Received notification from DBMS server: {severity: WARNING} {code: Neo.ClientNotification.Statement.FeatureDeprecationWarning} {category: DEPRECATION} {title: This feature is deprecated and will be removed in future versions.} {description: The query used a deprecated function. ('id' has been replaced by 'elementId or consider using an application-generated id')} {position: line: 2, column: 17, offset: 68} for query: 'MATCH (:CustomerReview)-[:WRITTEN_BY]->(c:Customer)\\nRETURN DISTINCT id(c) AS customerId, c'\n"
     ]
    },
    {
     "name": "stdout",
     "output_type": "stream",
     "text": [
      "--- LLM에게 전달할 최종 Context ---\n",
      "Original User Question: 2024년 상반기(1~6월)에 긍정적인 리뷰(4점 이상)를 남긴 고객들이 가장 많이 주문한 메뉴와 메뉴 카테고리는 무엇인가요?\n",
      "\n",
      "Contextual Data Retrieved:\n",
      "- Q: 2024-01-01부터 2024-06-30(2024년 상반기) 사이에 평점이 4점 이상인 리뷰들(리뷰 ID, 작성일, 평점)은 무엇인가? | Result: [{'reviewId': 1, 'reviewDate': neo4j.time.Date(2024, 1, 5), 'rating': 4}, {'reviewId': 1, 'reviewDate': neo4j.time.Date(2024, 1, 6), 'rating': 4}, {'reviewId': 1, 'reviewDate': neo4j.time.Date(2024, 1, 7), 'rating': 5}, {'reviewId': 1, 'reviewDate': neo4j.time.Date(2024, 1, 7), 'rating': 4}, {'reviewId': 1, 'reviewDate': neo4j.time.Date(2024, 1, 11), 'rating': 4}, {'reviewId': 1, 'reviewDate': neo4j.time.Date(2024, 1, 17), 'rating': 4}, {'reviewId': 1, 'reviewDate': neo4j.time.Date(2024, 1, 17), 'rating': 5}, {'reviewId': 1, 'reviewDate': neo4j.time.Date(2024, 1, 24), 'rating': 4}, {'reviewId': 1, 'reviewDate': neo4j.time.Date(2024, 1, 27), 'rating': 4}, {'reviewId': 1, 'reviewDate': neo4j.time.Date(2024, 2, 10), 'rating': 5}, {'reviewId': 1, 'reviewDate': neo4j.time.Date(2024, 2, 12), 'rating': 5}, {'reviewId': 1, 'reviewDate': neo4j.time.Date(2024, 2, 14), 'rating': 5}, {'reviewId': 1, 'reviewDate': neo4j.time.Date(2024, 2, 22), 'rating': 4}, {'reviewId': 1, 'reviewDate': neo4j.time.Date(2024, 2, 23), 'rating': 5}, {'reviewId': 1, 'reviewDate': neo4j.time.Date(2024, 3, 2), 'rating': 4}, {'reviewId': 1, 'reviewDate': neo4j.time.Date(2024, 3, 4), 'rating': 4}, {'reviewId': 1, 'reviewDate': neo4j.time.Date(2024, 3, 6), 'rating': 5}, {'reviewId': 1, 'reviewDate': neo4j.time.Date(2024, 3, 12), 'rating': 5}, {'reviewId': 1, 'reviewDate': neo4j.time.Date(2024, 3, 16), 'rating': 5}, {'reviewId': 1, 'reviewDate': neo4j.time.Date(2024, 3, 19), 'rating': 5}, {'reviewId': 1, 'reviewDate': neo4j.time.Date(2024, 3, 23), 'rating': 4}, {'reviewId': 1, 'reviewDate': neo4j.time.Date(2024, 3, 27), 'rating': 5}, {'reviewId': 1, 'reviewDate': neo4j.time.Date(2024, 4, 6), 'rating': 5}, {'reviewId': 1, 'reviewDate': neo4j.time.Date(2024, 4, 8), 'rating': 4}, {'reviewId': 1, 'reviewDate': neo4j.time.Date(2024, 4, 9), 'rating': 5}, {'reviewId': 1, 'reviewDate': neo4j.time.Date(2024, 4, 12), 'rating': 5}, {'reviewId': 1, 'reviewDate': neo4j.time.Date(2024, 4, 21), 'rating': 5}, {'reviewId': 1, 'reviewDate': neo4j.time.Date(2024, 4, 24), 'rating': 4}, {'reviewId': 2, 'reviewDate': neo4j.time.Date(2024, 4, 24), 'rating': 4}, {'reviewId': 1, 'reviewDate': neo4j.time.Date(2024, 4, 30), 'rating': 4}, {'reviewId': 1, 'reviewDate': neo4j.time.Date(2024, 5, 22), 'rating': 4}, {'reviewId': 1, 'reviewDate': neo4j.time.Date(2024, 5, 25), 'rating': 4}, {'reviewId': 1, 'reviewDate': neo4j.time.Date(2024, 5, 29), 'rating': 5}, {'reviewId': 1, 'reviewDate': neo4j.time.Date(2024, 6, 6), 'rating': 5}, {'reviewId': 1, 'reviewDate': neo4j.time.Date(2024, 6, 10), 'rating': 5}, {'reviewId': 1, 'reviewDate': neo4j.time.Date(2024, 6, 18), 'rating': 4}, {'reviewId': 1, 'reviewDate': neo4j.time.Date(2024, 6, 24), 'rating': 5}, {'reviewId': 1, 'reviewDate': neo4j.time.Date(2024, 6, 26), 'rating': 4}]\n",
      "- Q: 위 리뷰들을 작성한 고객들(고객 ID 또는 고객 노드)은 누구인가? | Result: [{'customerId': 129, 'c': {'name': '사용자1'}}, {'customerId': 130, 'c': {'name': '사용자2'}}, {'customerId': 131, 'c': {'name': '사용자3'}}, {'customerId': 132, 'c': {'name': '사용자4'}}, {'customerId': 134, 'c': {'name': '사용자6'}}, {'customerId': 135, 'c': {'name': '사용자7'}}, {'customerId': 136, 'c': {'name': '사용자8'}}, {'customerId': 137, 'c': {'name': '사용자9'}}, {'customerId': 139, 'c': {'name': '사용자11'}}, {'customerId': 140, 'c': {'name': '사용자12'}}, {'customerId': 141, 'c': {'name': '사용자13'}}, {'customerId': 142, 'c': {'name': '사용자14'}}, {'customerId': 143, 'c': {'name': '사용자15'}}, {'customerId': 144, 'c': {'name': '사용자16'}}, {'customerId': 145, 'c': {'name': '사용자17'}}, {'customerId': 147, 'c': {'name': '사용자19'}}, {'customerId': 148, 'c': {'name': '사용자20'}}, {'customerId': 149, 'c': {'name': '사용자21'}}, {'customerId': 151, 'c': {'name': '사용자23'}}, {'customerId': 152, 'c': {'name': '사용자24'}}, {'customerId': 153, 'c': {'name': '사용자25'}}, {'customerId': 155, 'c': {'name': '사용자27'}}, {'customerId': 156, 'c': {'name': '사용자28'}}, {'customerId': 157, 'c': {'name': '사용자29'}}, {'customerId': 158, 'c': {'name': '사용자30'}}, {'customerId': 159, 'c': {'name': '사용자31'}}, {'customerId': 160, 'c': {'name': '사용자32'}}, {'customerId': 161, 'c': {'name': '사용자33'}}, {'customerId': 162, 'c': {'name': '사용자34'}}, {'customerId': 163, 'c': {'name': '사용자35'}}, {'customerId': 164, 'c': {'name': '사용자36'}}, {'customerId': 165, 'c': {'name': '사용자37'}}, {'customerId': 166, 'c': {'name': '사용자38'}}, {'customerId': 167, 'c': {'name': '사용자39'}}, {'customerId': 168, 'c': {'name': '사용자40'}}, {'customerId': 169, 'c': {'name': '사용자41'}}, {'customerId': 170, 'c': {'name': '사용자42'}}, {'customerId': 171, 'c': {'name': '사용자43'}}, {'customerId': 172, 'c': {'name': '사용자44'}}, {'customerId': 173, 'c': {'name': '사용자45'}}, {'customerId': 174, 'c': {'name': '사용자46'}}, {'customerId': 175, 'c': {'name': '사용자47'}}, {'customerId': 176, 'c': {'name': '사용자48'}}, {'customerId': 177, 'c': {'name': '사용자49'}}]\n",
      "- Q: 해당 고객들이 2024-01-01부터 2024-06-30 사이에 생성한 주문들(주문 ID 및 주문일자)은 무엇인가? | Error: Failed to execute query: {code: Neo.ClientError.Statement.ParameterMissing} {message: Expected parameter(s): customerNames}\n",
      "- Q: 위 주문들에 포함된 각 주문 항목(메뉴 아이템)과 각 항목의 주문 수량(또는 주문 건수)은 얼마인가? | Result: [{'menuItem': '까르보나라 파스타', 'totalQuantity': 256, 'orderCount': 128}, {'menuItem': '티라미수', 'totalQuantity': 255, 'orderCount': 125}, {'menuItem': '아메리카노', 'totalQuantity': 222, 'orderCount': 116}, {'menuItem': '마르게리타 피자', 'totalQuantity': 221, 'orderCount': 114}]\n",
      "- Q: 각 메뉴 아이템별 총 주문 수량을 집계했을 때 가장 많이 주문된 메뉴 아이템(최다 주문 수)을 가진 메뉴는 무엇인가? (동률이 있으면 모두) | Error: Failed to execute query: {code: Neo.ClientError.Statement.SyntaxError} {message: Invalid input 'WHERE': expected 'ORDER BY', 'CALL', 'CREATE', 'LOAD CSV', 'DELETE', 'DETACH', 'FINISH', 'FOREACH', 'INSERT', 'LIMIT', 'MATCH', 'MERGE', 'NODETACH', 'OFFSET', 'OPTIONAL', 'REMOVE', 'RETURN', 'SET', 'SKIP', 'UNION', 'UNWIND', 'USE', 'WITH' or <EOF> (line 5, column 1 (offset: 170))\n",
      "\"WHERE item.total = maxTotal\"\n",
      " ^}\n",
      "- Q: 가장 많이 주문된 해당 메뉴 아이템들의 메뉴 카테고리(카테고리명)는 무엇인가? | Result: [{'categoryName': '파스타'}]\n",
      "\n"
     ]
    }
   ],
   "source": [
    "# 예시 호출 (실제 실행 시 주석 해제 및 graph, llm 객체 필요)\n",
    "final_context, detailed_results = execute_sub_queries(question, sub_questions, graph, llm)\n",
    "print(\"--- LLM에게 전달할 최종 Context ---\")\n",
    "print(final_context)"
   ]
  },
  {
   "cell_type": "code",
   "execution_count": 31,
   "id": "6fd041df",
   "metadata": {},
   "outputs": [
    {
     "data": {
      "text/plain": [
       "[{'sub_question': '2024-01-01부터 2024-06-30(2024년 상반기) 사이에 평점이 4점 이상인 리뷰들(리뷰 ID, 작성일, 평점)은 무엇인가?',\n",
       "  'cypher_query': 'MATCH (r:CustomerReview)\\nWHERE r.reviewDate >= date(\"2024-01-01\")\\n  AND r.reviewDate <= date(\"2024-06-30\")\\n  AND r.rating >= 4\\nRETURN r.seq AS reviewId, r.reviewDate AS reviewDate, r.rating AS rating\\nORDER BY r.reviewDate;'},\n",
       " {'sub_question': '위 리뷰들을 작성한 고객들(고객 ID 또는 고객 노드)은 누구인가?',\n",
       "  'cypher_query': 'MATCH (:CustomerReview)-[:WRITTEN_BY]->(c:Customer)\\nRETURN DISTINCT id(c) AS customerId, c'},\n",
       " {'sub_question': '위 주문들에 포함된 각 주문 항목(메뉴 아이템)과 각 항목의 주문 수량(또는 주문 건수)은 얼마인가?',\n",
       "  'cypher_query': 'MATCH (p:Purchase)-[:FOR_MENU_ITEM]->(m:MenuItem)\\nRETURN m.name AS menuItem, sum(coalesce(p.quantity, 1)) AS totalQuantity, count(p) AS orderCount\\nORDER BY totalQuantity DESC;'},\n",
       " {'sub_question': '가장 많이 주문된 해당 메뉴 아이템들의 메뉴 카테고리(카테고리명)는 무엇인가?',\n",
       "  'cypher_query': 'MATCH (p:Purchase)-[:FOR_MENU_ITEM]->(m:MenuItem)-[:IN_MENU_CATEGORY]->(c:MenuCategory)\\nWITH m, c, sum(p.quantity) AS totalOrdered\\nWITH max(totalOrdered) AS maxOrdered\\nMATCH (p2:Purchase)-[:FOR_MENU_ITEM]->(m2:MenuItem)-[:IN_MENU_CATEGORY]->(c2:MenuCategory)\\nWITH m2, c2, sum(p2.quantity) AS total2, maxOrdered\\nWHERE total2 = maxOrdered\\nRETURN DISTINCT c2.name AS categoryName'}]"
      ]
     },
     "execution_count": 31,
     "metadata": {},
     "output_type": "execute_result"
    }
   ],
   "source": [
    "# 'sub_question'과 'cypher_query'만 정리해서 출력\n",
    "summary_for_llm = [\n",
    "    {\n",
    "        \"sub_question\": item.get(\"sub_question\"),\n",
    "        \"cypher_query\": item.get(\"cypher_query\")\n",
    "    }\n",
    "    for item in detailed_results\n",
    "    if \"sub_question\" in item and \"cypher_query\" in item\n",
    "]\n",
    "summary_for_llm"
   ]
  },
  {
   "cell_type": "markdown",
   "id": "4063f3a0",
   "metadata": {},
   "source": [
    "### 보조 질문, 그에 대한 사이퍼 쿼리 -> 프롬프트 입력"
   ]
  },
  {
   "cell_type": "code",
   "execution_count": 32,
   "id": "86fd0691",
   "metadata": {},
   "outputs": [],
   "source": [
    "def generate_cypher_query(question, summary_for_llm):\n",
    "    \"\"\"\n",
    "    Cypher 쿼리를 생성하는 함수\n",
    "    \"\"\"\n",
    "    llm = ChatOpenAI(model_name=\"gpt-5-mini\")\n",
    "    cypher_prompt = f\"\"\"\n",
    "    아래는 참고할 수 있는 서브질문과 Cypher 쿼리 목록입니다:\n",
    "    {summary_for_llm}\n",
    "    \n",
    "    위 정보를 참고하여, 다음 질문에 답할 수 있는 Cypher 쿼리를 생성하세요:\n",
    "    {question}\n",
    "    \n",
    "    설명 없이 Cypher 쿼리만 반환하세요.\n",
    "    \"\"\"\n",
    "    cypher_query = llm.predict(cypher_prompt).strip()\n",
    "    \n",
    "    query_result = graph.query(cypher_query)\n",
    "    return cypher_query, query_result"
   ]
  },
  {
   "cell_type": "code",
   "execution_count": 33,
   "id": "8c85c3a4",
   "metadata": {},
   "outputs": [],
   "source": [
    "cypher_query, query_result = generate_cypher_query(question, summary_for_llm)"
   ]
  },
  {
   "cell_type": "code",
   "execution_count": 34,
   "id": "ee0c7cb9",
   "metadata": {},
   "outputs": [
    {
     "data": {
      "text/plain": [
       "'MATCH (r:CustomerReview)-[:WRITTEN_BY]->(cust:Customer)\\nWHERE r.reviewDate >= date(\"2024-01-01\")\\n  AND r.reviewDate <= date(\"2024-06-30\")\\n  AND r.rating >= 4\\nWITH DISTINCT cust\\nMATCH (cust)-[*1..2]-(p:Purchase)-[:FOR_MENU_ITEM]->(m:MenuItem)-[:IN_MENU_CATEGORY]->(cat:MenuCategory)\\nWITH m, cat, sum(coalesce(p.quantity, 1)) AS totalOrdered\\nWITH max(totalOrdered) AS maxOrdered, collect({m:m, cat:cat, total:totalOrdered}) AS items\\nUNWIND items AS it\\nWITH it, maxOrdered\\nWHERE it.total = maxOrdered\\nRETURN it.m.name AS menuName, it.cat.name AS categoryName, it.total AS totalOrdered\\nORDER BY menuName;'"
      ]
     },
     "execution_count": 34,
     "metadata": {},
     "output_type": "execute_result"
    }
   ],
   "source": [
    "cypher_query"
   ]
  },
  {
   "cell_type": "code",
   "execution_count": 35,
   "id": "8ab2b576",
   "metadata": {},
   "outputs": [
    {
     "data": {
      "text/plain": [
       "[{'menuName': '까르보나라 파스타', 'categoryName': '파스타', 'totalOrdered': 139}]"
      ]
     },
     "execution_count": 35,
     "metadata": {},
     "output_type": "execute_result"
    }
   ],
   "source": [
    "query_result"
   ]
  },
  {
   "cell_type": "code",
   "execution_count": 36,
   "id": "c60de1dd",
   "metadata": {},
   "outputs": [
    {
     "data": {
      "text/plain": [
       "{'cypher_query': 'MATCH (r:CustomerReview)-[:WRITTEN_BY]->(cust:Customer)\\nWHERE r.reviewDate >= date(\"2024-01-01\")\\n  AND r.reviewDate <= date(\"2024-06-30\")\\n  AND r.rating >= 4\\nWITH DISTINCT cust\\nMATCH (cust)-[*1..2]-(p:Purchase)-[:FOR_MENU_ITEM]->(m:MenuItem)-[:IN_MENU_CATEGORY]->(cat:MenuCategory)\\nWITH m, cat, sum(coalesce(p.quantity, 1)) AS totalOrdered\\nWITH max(totalOrdered) AS maxOrdered, collect({m:m, cat:cat, total:totalOrdered}) AS items\\nUNWIND items AS it\\nWITH it, maxOrdered\\nWHERE it.total = maxOrdered\\nRETURN it.m.name AS menuName, it.cat.name AS categoryName, it.total AS totalOrdered\\nORDER BY menuName;',\n",
       " 'query_result': [{'menuName': '까르보나라 파스타',\n",
       "   'categoryName': '파스타',\n",
       "   'totalOrdered': 139}]}"
      ]
     },
     "execution_count": 36,
     "metadata": {},
     "output_type": "execute_result"
    }
   ],
   "source": [
    "graph_context = {\n",
    "    \"cypher_query\": cypher_query,\n",
    "    \"query_result\": query_result\n",
    "}\n",
    "graph_context"
   ]
  },
  {
   "cell_type": "markdown",
   "id": "6b17ae69",
   "metadata": {},
   "source": [
    "---"
   ]
  },
  {
   "cell_type": "code",
   "execution_count": null,
   "id": "fa6fb69e",
   "metadata": {},
   "outputs": [],
   "source": [
    "# 하이브리드 파이프라인 \n",
    "\n",
    "def hybrid_rag_pipeline(question: str, llm: ChatOpenAI) -> str:\n",
    "    \"\"\"\n",
    "    Graph DB와 Vector DB의 Context를 결합하여 최종 답변을 생성합니다.\n",
    "    \"\"\"\n",
    "    print(\"--- 1. Graph DB 컨텍스트 검색 시작 ---\")\n",
    "    # (a) Graph DB 검색 \n",
    "    graph = initialize_neo4j_graph()\n",
    "    sub_questions = decompose_question_to_sub_queries(question, graph, llm)\n",
    "    final_context, detailed_results = execute_sub_queries(question, sub_questions, graph, llm)\n",
    "\n",
    "    # 'sub_question'과 'cypher_query'만 정리해서 출력\n",
    "    summary_for_llm = [\n",
    "        {\n",
    "            \"sub_question\": item.get(\"sub_question\"),\n",
    "            \"cypher_query\": item.get(\"cypher_query\")\n",
    "        }\n",
    "        for item in detailed_results\n",
    "        if \"sub_question\" in item and \"cypher_query\" in item\n",
    "    ]\n",
    "\n",
    "    cypher_query, query_result = generate_cypher_query(question, summary_for_llm)\n",
    "    \n",
    "    graph_context = {\n",
    "        \"cypher_query\": cypher_query,\n",
    "        \"query_result\": query_result\n",
    "    }\n",
    "    \n",
    "    print(f\"Graph Context: {graph_context}...\")\n",
    "\n",
    "    print(\"--- 2. Vector DB 컨텍스트 검색 시작 ---\")\n",
    "    # (b) Vector DB 검색 \n",
    "    vector_context, _ = fetch_vector_context(question, llm)\n",
    "    print(f\"Vector Context: {vector_context}...\")\n",
    "\n",
    "    # 3. Context 결합 및 최종 답변 생성 (LCEL 사용)\n",
    "    \n",
    "    # Context를 결합하는 Runnable\n",
    "    combined_context_runnable = RunnableLambda(\n",
    "        lambda q: {\n",
    "            \"question\": q, \n",
    "            \"graph_context\": graph_context, \n",
    "            \"vector_context\": vector_context\n",
    "        }\n",
    "    )\n",
    "    \n",
    "    # LCEL 체인 구성: 입력 -> Context 결합 -> Prompt -> LLM -> 결과 파싱\n",
    "    hybrid_chain = (\n",
    "        combined_context_runnable\n",
    "        | HYBRID_QA_PROMPT\n",
    "        | llm\n",
    "        | StrOutputParser()\n",
    "    )\n",
    "    \n",
    "    print(\"--- 3. 하이브리드 LLM 추론 시작 ---\")\n",
    "    try:\n",
    "        final_answer = hybrid_chain.invoke(question)\n",
    "        return final_answer\n",
    "    except Exception as e:\n",
    "        return f\"ERROR: 하이브리드 LLM 추론 오류: {e}\""
   ]
  },
  {
   "cell_type": "code",
   "execution_count": null,
   "id": "177c7056",
   "metadata": {},
   "outputs": [
    {
     "name": "stdout",
     "output_type": "stream",
     "text": [
      "--- 1. Graph DB 컨텍스트 검색 시작 ---\n"
     ]
    },
    {
     "name": "stderr",
     "output_type": "stream",
     "text": [
      "Received notification from DBMS server: {severity: WARNING} {code: Neo.ClientNotification.Statement.UnknownRelationshipTypeWarning} {category: UNRECOGNIZED} {title: The provided relationship type is not in the database.} {description: One of the relationship types in your query is not available in the database, make sure you didn't misspell it or that the label is available when you run this statement in your application (the missing relationship type is: HAS_ITEM)} {position: line: 6, column: 53, offset: 210} for query: 'MATCH (c:Customer)-[:WROTE]->(r:Review)\\nWHERE r.rating >= 4\\n  AND date(r.date) >= date(\"2024-01-01\")\\n  AND date(r.date) <= date(\"2024-06-30\")\\nWITH DISTINCT c\\nMATCH (c)-[:PLACED|:ORDERED]->(o:Order)-[:CONTAINS|:HAS_ITEM]->(item)-[:BELONGS_TO|:IN_CATEGORY]->(cat:Category)\\nRETURN cat.name AS category, count(*) AS order_count\\nORDER BY order_count DESC\\nLIMIT 1;'\n",
      "Received notification from DBMS server: {severity: WARNING} {code: Neo.ClientNotification.Statement.UnknownLabelWarning} {category: UNRECOGNIZED} {title: The provided label is not in the database.} {description: One of the labels in your query is not available in the database, make sure you didn't misspell it or that the label is available when you run this statement in your application (the missing label name is: Review)} {position: line: 1, column: 33, offset: 32} for query: 'MATCH (c:Customer)-[:WROTE]->(r:Review)\\nWHERE r.rating >= 4\\n  AND date(r.date) >= date(\"2024-01-01\")\\n  AND date(r.date) <= date(\"2024-06-30\")\\nWITH DISTINCT c\\nMATCH (c)-[:PLACED|:ORDERED]->(o:Order)-[:CONTAINS|:HAS_ITEM]->(item)-[:BELONGS_TO|:IN_CATEGORY]->(cat:Category)\\nRETURN cat.name AS category, count(*) AS order_count\\nORDER BY order_count DESC\\nLIMIT 1;'\n",
      "Received notification from DBMS server: {severity: WARNING} {code: Neo.ClientNotification.Statement.UnknownRelationshipTypeWarning} {category: UNRECOGNIZED} {title: The provided relationship type is not in the database.} {description: One of the relationship types in your query is not available in the database, make sure you didn't misspell it or that the label is available when you run this statement in your application (the missing relationship type is: CONTAINS)} {position: line: 6, column: 43, offset: 200} for query: 'MATCH (c:Customer)-[:WROTE]->(r:Review)\\nWHERE r.rating >= 4\\n  AND date(r.date) >= date(\"2024-01-01\")\\n  AND date(r.date) <= date(\"2024-06-30\")\\nWITH DISTINCT c\\nMATCH (c)-[:PLACED|:ORDERED]->(o:Order)-[:CONTAINS|:HAS_ITEM]->(item)-[:BELONGS_TO|:IN_CATEGORY]->(cat:Category)\\nRETURN cat.name AS category, count(*) AS order_count\\nORDER BY order_count DESC\\nLIMIT 1;'\n",
      "Received notification from DBMS server: {severity: WARNING} {code: Neo.ClientNotification.Statement.FeatureDeprecationWarning} {category: DEPRECATION} {title: This feature is deprecated and will be removed in future versions.} {description: The semantics of using colon in the separation of alternative relationship types will change in a future version. (Please use ':CONTAINS|HAS_ITEM' instead)} {position: line: 6, column: 51, offset: 208} for query: 'MATCH (c:Customer)-[:WROTE]->(r:Review)\\nWHERE r.rating >= 4\\n  AND date(r.date) >= date(\"2024-01-01\")\\n  AND date(r.date) <= date(\"2024-06-30\")\\nWITH DISTINCT c\\nMATCH (c)-[:PLACED|:ORDERED]->(o:Order)-[:CONTAINS|:HAS_ITEM]->(item)-[:BELONGS_TO|:IN_CATEGORY]->(cat:Category)\\nRETURN cat.name AS category, count(*) AS order_count\\nORDER BY order_count DESC\\nLIMIT 1;'\n",
      "Received notification from DBMS server: {severity: WARNING} {code: Neo.ClientNotification.Statement.UnknownLabelWarning} {category: UNRECOGNIZED} {title: The provided label is not in the database.} {description: One of the labels in your query is not available in the database, make sure you didn't misspell it or that the label is available when you run this statement in your application (the missing label name is: Order)} {position: line: 6, column: 34, offset: 191} for query: 'MATCH (c:Customer)-[:WROTE]->(r:Review)\\nWHERE r.rating >= 4\\n  AND date(r.date) >= date(\"2024-01-01\")\\n  AND date(r.date) <= date(\"2024-06-30\")\\nWITH DISTINCT c\\nMATCH (c)-[:PLACED|:ORDERED]->(o:Order)-[:CONTAINS|:HAS_ITEM]->(item)-[:BELONGS_TO|:IN_CATEGORY]->(cat:Category)\\nRETURN cat.name AS category, count(*) AS order_count\\nORDER BY order_count DESC\\nLIMIT 1;'\n",
      "Received notification from DBMS server: {severity: WARNING} {code: Neo.ClientNotification.Statement.UnknownPropertyKeyWarning} {category: UNRECOGNIZED} {title: The provided property key is not in the database} {description: One of the property names in your query is not available in the database, make sure you didn't misspell it or that the label is available when you run this statement in your application (the missing property name is: date)} {position: line: 3, column: 14, offset: 73} for query: 'MATCH (c:Customer)-[:WROTE]->(r:Review)\\nWHERE r.rating >= 4\\n  AND date(r.date) >= date(\"2024-01-01\")\\n  AND date(r.date) <= date(\"2024-06-30\")\\nWITH DISTINCT c\\nMATCH (c)-[:PLACED|:ORDERED]->(o:Order)-[:CONTAINS|:HAS_ITEM]->(item)-[:BELONGS_TO|:IN_CATEGORY]->(cat:Category)\\nRETURN cat.name AS category, count(*) AS order_count\\nORDER BY order_count DESC\\nLIMIT 1;'\n",
      "Received notification from DBMS server: {severity: WARNING} {code: Neo.ClientNotification.Statement.FeatureDeprecationWarning} {category: DEPRECATION} {title: This feature is deprecated and will be removed in future versions.} {description: The semantics of using colon in the separation of alternative relationship types will change in a future version. (Please use ':BELONGS_TO|IN_CATEGORY' instead)} {position: line: 6, column: 83, offset: 240} for query: 'MATCH (c:Customer)-[:WROTE]->(r:Review)\\nWHERE r.rating >= 4\\n  AND date(r.date) >= date(\"2024-01-01\")\\n  AND date(r.date) <= date(\"2024-06-30\")\\nWITH DISTINCT c\\nMATCH (c)-[:PLACED|:ORDERED]->(o:Order)-[:CONTAINS|:HAS_ITEM]->(item)-[:BELONGS_TO|:IN_CATEGORY]->(cat:Category)\\nRETURN cat.name AS category, count(*) AS order_count\\nORDER BY order_count DESC\\nLIMIT 1;'\n",
      "Received notification from DBMS server: {severity: WARNING} {code: Neo.ClientNotification.Statement.UnknownRelationshipTypeWarning} {category: UNRECOGNIZED} {title: The provided relationship type is not in the database.} {description: One of the relationship types in your query is not available in the database, make sure you didn't misspell it or that the label is available when you run this statement in your application (the missing relationship type is: WROTE)} {position: line: 1, column: 22, offset: 21} for query: 'MATCH (c:Customer)-[:WROTE]->(r:Review)\\nWHERE r.rating >= 4\\n  AND date(r.date) >= date(\"2024-01-01\")\\n  AND date(r.date) <= date(\"2024-06-30\")\\nWITH DISTINCT c\\nMATCH (c)-[:PLACED|:ORDERED]->(o:Order)-[:CONTAINS|:HAS_ITEM]->(item)-[:BELONGS_TO|:IN_CATEGORY]->(cat:Category)\\nRETURN cat.name AS category, count(*) AS order_count\\nORDER BY order_count DESC\\nLIMIT 1;'\n",
      "Received notification from DBMS server: {severity: WARNING} {code: Neo.ClientNotification.Statement.UnknownRelationshipTypeWarning} {category: UNRECOGNIZED} {title: The provided relationship type is not in the database.} {description: One of the relationship types in your query is not available in the database, make sure you didn't misspell it or that the label is available when you run this statement in your application (the missing relationship type is: ORDERED)} {position: line: 6, column: 21, offset: 178} for query: 'MATCH (c:Customer)-[:WROTE]->(r:Review)\\nWHERE r.rating >= 4\\n  AND date(r.date) >= date(\"2024-01-01\")\\n  AND date(r.date) <= date(\"2024-06-30\")\\nWITH DISTINCT c\\nMATCH (c)-[:PLACED|:ORDERED]->(o:Order)-[:CONTAINS|:HAS_ITEM]->(item)-[:BELONGS_TO|:IN_CATEGORY]->(cat:Category)\\nRETURN cat.name AS category, count(*) AS order_count\\nORDER BY order_count DESC\\nLIMIT 1;'\n",
      "Received notification from DBMS server: {severity: WARNING} {code: Neo.ClientNotification.Statement.FeatureDeprecationWarning} {category: DEPRECATION} {title: This feature is deprecated and will be removed in future versions.} {description: The semantics of using colon in the separation of alternative relationship types will change in a future version. (Please use ':PLACED|ORDERED' instead)} {position: line: 6, column: 19, offset: 176} for query: 'MATCH (c:Customer)-[:WROTE]->(r:Review)\\nWHERE r.rating >= 4\\n  AND date(r.date) >= date(\"2024-01-01\")\\n  AND date(r.date) <= date(\"2024-06-30\")\\nWITH DISTINCT c\\nMATCH (c)-[:PLACED|:ORDERED]->(o:Order)-[:CONTAINS|:HAS_ITEM]->(item)-[:BELONGS_TO|:IN_CATEGORY]->(cat:Category)\\nRETURN cat.name AS category, count(*) AS order_count\\nORDER BY order_count DESC\\nLIMIT 1;'\n",
      "Received notification from DBMS server: {severity: WARNING} {code: Neo.ClientNotification.Statement.UnknownRelationshipTypeWarning} {category: UNRECOGNIZED} {title: The provided relationship type is not in the database.} {description: One of the relationship types in your query is not available in the database, make sure you didn't misspell it or that the label is available when you run this statement in your application (the missing relationship type is: PLACED)} {position: line: 6, column: 13, offset: 170} for query: 'MATCH (c:Customer)-[:WROTE]->(r:Review)\\nWHERE r.rating >= 4\\n  AND date(r.date) >= date(\"2024-01-01\")\\n  AND date(r.date) <= date(\"2024-06-30\")\\nWITH DISTINCT c\\nMATCH (c)-[:PLACED|:ORDERED]->(o:Order)-[:CONTAINS|:HAS_ITEM]->(item)-[:BELONGS_TO|:IN_CATEGORY]->(cat:Category)\\nRETURN cat.name AS category, count(*) AS order_count\\nORDER BY order_count DESC\\nLIMIT 1;'\n",
      "Received notification from DBMS server: {severity: WARNING} {code: Neo.ClientNotification.Statement.UnknownPropertyKeyWarning} {category: UNRECOGNIZED} {title: The provided property key is not in the database} {description: One of the property names in your query is not available in the database, make sure you didn't misspell it or that the label is available when you run this statement in your application (the missing property name is: date)} {position: line: 4, column: 14, offset: 114} for query: 'MATCH (c:Customer)-[:WROTE]->(r:Review)\\nWHERE r.rating >= 4\\n  AND date(r.date) >= date(\"2024-01-01\")\\n  AND date(r.date) <= date(\"2024-06-30\")\\nWITH DISTINCT c\\nMATCH (c)-[:PLACED|:ORDERED]->(o:Order)-[:CONTAINS|:HAS_ITEM]->(item)-[:BELONGS_TO|:IN_CATEGORY]->(cat:Category)\\nRETURN cat.name AS category, count(*) AS order_count\\nORDER BY order_count DESC\\nLIMIT 1;'\n",
      "Received notification from DBMS server: {severity: WARNING} {code: Neo.ClientNotification.Statement.UnknownLabelWarning} {category: UNRECOGNIZED} {title: The provided label is not in the database.} {description: One of the labels in your query is not available in the database, make sure you didn't misspell it or that the label is available when you run this statement in your application (the missing label name is: Category)} {position: line: 6, column: 104, offset: 261} for query: 'MATCH (c:Customer)-[:WROTE]->(r:Review)\\nWHERE r.rating >= 4\\n  AND date(r.date) >= date(\"2024-01-01\")\\n  AND date(r.date) <= date(\"2024-06-30\")\\nWITH DISTINCT c\\nMATCH (c)-[:PLACED|:ORDERED]->(o:Order)-[:CONTAINS|:HAS_ITEM]->(item)-[:BELONGS_TO|:IN_CATEGORY]->(cat:Category)\\nRETURN cat.name AS category, count(*) AS order_count\\nORDER BY order_count DESC\\nLIMIT 1;'\n",
      "Received notification from DBMS server: {severity: WARNING} {code: Neo.ClientNotification.Statement.UnknownRelationshipTypeWarning} {category: UNRECOGNIZED} {title: The provided relationship type is not in the database.} {description: One of the relationship types in your query is not available in the database, make sure you didn't misspell it or that the label is available when you run this statement in your application (the missing relationship type is: IN_CATEGORY)} {position: line: 6, column: 85, offset: 242} for query: 'MATCH (c:Customer)-[:WROTE]->(r:Review)\\nWHERE r.rating >= 4\\n  AND date(r.date) >= date(\"2024-01-01\")\\n  AND date(r.date) <= date(\"2024-06-30\")\\nWITH DISTINCT c\\nMATCH (c)-[:PLACED|:ORDERED]->(o:Order)-[:CONTAINS|:HAS_ITEM]->(item)-[:BELONGS_TO|:IN_CATEGORY]->(cat:Category)\\nRETURN cat.name AS category, count(*) AS order_count\\nORDER BY order_count DESC\\nLIMIT 1;'\n"
     ]
    },
    {
     "name": "stdout",
     "output_type": "stream",
     "text": [
      "Graph Context: {'cypher_query': 'MATCH (c:Customer)-[:WROTE]->(r:Review)\\nWHERE r.rating >= 4\\n  AND date(r.date) >= date(\"2024-01-01\")\\n  AND date(r.date) <= date(\"2024-06-30\")\\nWITH DISTINCT c\\nMATCH (c)-[:PLACED|:ORDERED]->(o:Order)-[:CONTAINS|:HAS_ITEM]->(item)-[:BELONGS_TO|:IN_CATEGORY]->(cat:Category)\\nRETURN cat.name AS category, count(*) AS order_count\\nORDER BY order_count DESC\\nLIMIT 1;', 'query_result': []}...\n",
      "--- 2. Vector DB 컨텍스트 검색 시작 ---\n"
     ]
    },
    {
     "name": "stderr",
     "output_type": "stream",
     "text": [
      "C:\\Users\\faeqs\\AppData\\Local\\Temp\\ipykernel_31728\\1920904252.py:6: LangChainDeprecationWarning: The class `Chroma` was deprecated in LangChain 0.2.9 and will be removed in 1.0. An updated version of the class exists in the :class:`~langchain-chroma package and should be used instead. To use it run `pip install -U :class:`~langchain-chroma` and import as `from :class:`~langchain_chroma import Chroma``.\n",
      "  vector_db = Chroma(\n"
     ]
    },
    {
     "name": "stdout",
     "output_type": "stream",
     "text": [
      "Vector Context: 사용자 사용자43이 2024-04-30에 평점 4점으로 '가격은 조금 비싸지만 서비스는 만족스러워요.'라는 리뷰를 남겼습니다.\n",
      "---\n",
      "사용자 사용자34이 2024-10-26에 평점 4점으로 '직원분들이 친절해서 기분 좋게 식사했습니다.'라는 리뷰를 남겼습니다.\n",
      "---\n",
      "사용자 사용자4이 2024-09-22에 평점 3점으로 '가격은 조금 비싸지만 서비스는 만족스러워요.'라는 리뷰를 남겼습니다.\n",
      "---\n",
      "사용자 사용자34이 2024-09-25에 평점 3점으로 '가격은 조금 비싸지만 서비스는 만족스러워요.'라는 리뷰를 남겼습니다.\n",
      "---\n",
      "사용자 사용자4이 2024-12-29에 평점 5점으로 '커피가 진하고 맛있습니다.'라는 리뷰를 남겼습니다....\n",
      "--- 3. 하이브리드 LLM 추론 시작 ---\n",
      "\n",
      "=== 최종 하이브리드 RAG 답변 ===\n",
      "제공된 정보로는 답변을 통합할 수 없습니다.\n",
      "\n",
      "이유 요약\n",
      "- Graph DB 컨텍스트에서 실행된 Cypher 쿼리는 결과가 비어 있었습니다([]). Graph DB의 사실을 우선하기 때문에, 해당 쿼리 결과가 “가장 많이 주문한 메뉴 카테고리”를 판단할 근거가 되지 않습니다.\n",
      "- Vector DB 컨텍스트에는 2024년 상반기(1~6월) 조건에 부합하는 긍정 리뷰(평점 ≥ 4)가 사용자43의 2024-04-30 리뷰 하나만 기록되어 있으나, 이 항목에는 해당 사용자의 주문 내역이나 주문한 메뉴 카테고리 정보가 포함되어 있지 않습니다.\n",
      "\n",
      "따라서 현재 제공된 자료만으로는 “2024년 상반기에 긍정적인 리뷰(4점 이상)를 남긴 고객들이 가장 많이 주문한 메뉴 카테고리”를 결정할 수 없습니다.\n",
      "\n",
      "권장 조치 (데이터 확인 및 재분석 방법)\n",
      "1. Graph DB 데이터 확인\n",
      "   - 리뷰 노드(r.date)의 날짜 형식이 date 타입인지(문자열이면 변환 필요)와 r.rating이 숫자 타입인지 확인하세요.\n",
      "   - 고객(Customer)과 주문(Order), 주문항목(또는 Item), 카테고리(Category) 사이의 관계 이름과 방향(예: :PLACED, :ORDERED, :CONTAINS, :HAS_ITEM, :BELONGS_TO 등)이 실제 스키마와 일치하는지 검증하세요.\n",
      "\n",
      "2. 디버그용 쿼리 (Graph DB에서 먼저 실행해 보세요)\n",
      "   - 상반기 긍정 리뷰를 남긴 고객 목록 확인:\n",
      "     MATCH (c:Customer)-[:WROTE]->(r:Review)\n",
      "     WHERE r.rating >= 4\n",
      "       AND date(r.date) >= date(\"2024-01-01\")\n",
      "       AND date(r.date) <= date(\"2024-06-30\")\n",
      "     RETURN c.customer_id AS id, c.name AS name, r.date AS review_date, r.rating AS rating\n",
      "     LIMIT 100;\n",
      "   - 긍정 리뷰 고객들의 카테고리별 주문 집계 (디버깅 후 사용):\n",
      "     MATCH (c:Customer)-[:WROTE]->(r:Review)\n",
      "     WHERE r.rating >= 4\n",
      "       AND date(r.date) >= date(\"2024-01-01\")\n",
      "       AND date(r.date) <= date(\"2024-06-30\")\n",
      "     WITH DISTINCT c\n",
      "     MATCH (c)-[:PLACED|:ORDERED]->(o:Order)-[:CONTAINS|:HAS_ITEM]->(it:Item)-[:IN_CATEGORY|:BELONGS_TO]->(cat:Category)\n",
      "     RETURN cat.name AS category, count(DISTINCT o) AS orders, count(it) AS item_lines\n",
      "     ORDER BY orders DESC, item_lines DESC\n",
      "     LIMIT 10;\n",
      "\n",
      "   - 주문 항목에 quantity 필드가 있으면 quantity 합계로 집계하도록 수정하세요:\n",
      "     RETURN cat.name AS category, sum(coalesce(it.quantity,1)) AS total_items_sold\n",
      "\n",
      "3. Vector DB 보강\n",
      "   - 리뷰와 주문/카테고리 연결 정보가 벡터 문서에 포함되어 있지 않으므로, 해당 연결정보(주문 로그 또는 주문-카테고리 매핑)를 Vector DB에 추가하거나 Graph DB에서 직접 집계 결과를 추출하는 것이 필요합니다.\n",
      "\n",
      "제가 도와드릴 수 있는 일\n",
      "- Graph DB에서 반환된(또는 디버그 쿼리로 얻은) 결과를 붙여 주시면, 해당 결과를 바탕으로 정확히 어느 카테고리가 최다인지 분석해 드리겠습니다.\n",
      "- 또는 그래프 스키마(라벨과 관계명, 주문 항목 구조)를 알려주시면, 쿼리를 스키마에 맞게 맞춰 드리겠습니다.\n"
     ]
    }
   ],
   "source": [
    "# 실행 예시 (사용자가 직접 실행)\n",
    "question_hybrid = \"2024년 상반기(1~6월)에 긍정적인 리뷰(4점 이상)를 남긴 고객들이 가장 많이 주문한 메뉴 카테고리는 무엇인가요?\"\n",
    "\n",
    "llm_instance = ChatOpenAI(model_name=\"gpt-5-mini\", temperature=0) \n",
    "answer = hybrid_rag_pipeline(question_hybrid, llm_instance)\n",
    "print(\"\\n=== 최종 하이브리드 RAG 답변 ===\")\n",
    "print(answer)"
   ]
  }
 ],
 "metadata": {
  "kernelspec": {
   "display_name": "GPT Square Ontology",
   "language": "python",
   "name": "gptsquare_ontology"
  },
  "language_info": {
   "codemirror_mode": {
    "name": "ipython",
    "version": 3
   },
   "file_extension": ".py",
   "mimetype": "text/x-python",
   "name": "python",
   "nbconvert_exporter": "python",
   "pygments_lexer": "ipython3",
   "version": "3.9.13"
  }
 },
 "nbformat": 4,
 "nbformat_minor": 5
}
