{
  "cells": [
    {
      "cell_type": "markdown",
      "metadata": {
        "id": "nCW4yPD7deTF"
      },
      "source": [
        "## GraphRAG"
      ]
    },
    {
      "cell_type": "code",
      "execution_count": 1,
      "metadata": {
        "id": "g8xBePUmSTf4"
      },
      "outputs": [],
      "source": [
        "# !pip install langchain\n",
        "# !pip install langchain_openai\n",
        "# !pip install neo4j"
      ]
    },
    {
      "cell_type": "code",
      "execution_count": 6,
      "metadata": {
        "id": "6lCtDgHnev3G"
      },
      "outputs": [
        {
          "data": {
            "text/plain": [
              "True"
            ]
          },
          "execution_count": 6,
          "metadata": {},
          "output_type": "execute_result"
        }
      ],
      "source": [
        "from langchain.chains import GraphCypherQAChain\n",
        "from langchain_community.graphs import Neo4jGraph\n",
        "from langchain_openai import ChatOpenAI\n",
        "\n",
        "import os\n",
        "from dotenv import load_dotenv\n",
        "load_dotenv()"
      ]
    },
    {
      "cell_type": "markdown",
      "metadata": {},
      "source": [
        "### 설정"
      ]
    },
    {
      "cell_type": "code",
      "execution_count": 7,
      "metadata": {
        "id": "iAfd9K3ifGql"
      },
      "outputs": [],
      "source": [
        "OPENAI_API_KEY = os.environ.get(\"OPENAI_API_KEY\")\n",
        "USERNAME = os.environ.get(\"USERNAME\")\n",
        "PASSWORD = os.environ.get(\"PASSWORD\")\n",
        "URL = os.environ.get(\"URL\")"
      ]
    },
    {
      "cell_type": "code",
      "execution_count": null,
      "metadata": {
        "colab": {
          "base_uri": "https://localhost:8080/"
        },
        "id": "XJ__fjmZSMn3",
        "outputId": "5f099ca4-9e56-44cd-e349-864613c7bd48"
      },
      "outputs": [
        {
          "name": "stdout",
          "output_type": "stream",
          "text": [
            "ChatGPT는 OpenAI가 개발한 자연어 처리 기술을 기반으로 한 대화형 인공지능 챗봇입니다. ChatGPT는 사용자와 자연스럽게 대화하며 질문에 답변하거나 대화를 이어나갈 수 있습니다. 이를 통해 다양한 주제에 대한 정보를 제공하거나 사용자의 질문에 도움을 줄 수 있습니다.\n"
          ]
        }
      ],
      "source": [
        "# llm test\n",
        "\n",
        "from langchain_openai import ChatOpenAI\n",
        "\n",
        "llm = ChatOpenAI(temperature=0,\n",
        "                 max_tokens=2048,\n",
        "                 model_name='gpt-3.5-turbo',\n",
        "                )\n",
        "\n",
        "question = 'ChatGPT가 뭐야?'\n",
        "\n",
        "print(llm.predict(question))"
      ]
    },
    {
      "cell_type": "markdown",
      "metadata": {},
      "source": [
        "### Neo4jGraph test"
      ]
    },
    {
      "cell_type": "code",
      "execution_count": 9,
      "metadata": {
        "id": "iR3fhovGhXnU"
      },
      "outputs": [],
      "source": [
        "from langchain.chains import GraphCypherQAChain\n",
        "from langchain_community.graphs import Neo4jGraph\n",
        "from langchain_openai import ChatOpenAI"
      ]
    },
    {
      "cell_type": "code",
      "execution_count": 10,
      "metadata": {},
      "outputs": [],
      "source": [
        "# graph = Neo4jGraph(url=\"bolt://\", username=\"neo4j\", password=\"\") # url: bolt:// ~ , sandbox에서 확인한 log in info\n",
        "graph = Neo4jGraph(url=URL, username=USERNAME, password=PASSWORD)"
      ]
    },
    {
      "cell_type": "code",
      "execution_count": 40,
      "metadata": {},
      "outputs": [],
      "source": [
        "# LangChain이 내부적으로 Neo4j 그래프 스키마와 LLM(대규모 언어 모델)을 활용하여 해당 질문을 Cypher 쿼리로 변환하고, 그 결과를 다시 자연어 답변으로 생성\n",
        "chain = GraphCypherQAChain.from_llm(\n",
        "    ChatOpenAI(model_name=\"gpt-5-mini\", temperature=0), graph=graph, verbose=True, allow_dangerous_requests=True\n",
        ")"
      ]
    },
    {
      "cell_type": "code",
      "execution_count": 41,
      "metadata": {
        "colab": {
          "base_uri": "https://localhost:8080/",
          "height": 272
        },
        "id": "CsKBzqj451Wq",
        "outputId": "100ca9a5-e54d-4589-8382-1f6dfdc97221"
      },
      "outputs": [
        {
          "name": "stdout",
          "output_type": "stream",
          "text": [
            "\n",
            "\n",
            "\u001b[1m> Entering new GraphCypherQAChain chain...\u001b[0m\n",
            "Generated Cypher:\n",
            "\u001b[32;1m\u001b[1;3mMATCH (r:Restaurant {name: \"Bella Roma\"}) RETURN r.hoursWeekday AS hoursWeekday;\u001b[0m\n",
            "Full Context:\n",
            "\u001b[32;1m\u001b[1;3m[{'hoursWeekday': '11:00-22:00'}]\u001b[0m\n",
            "\n",
            "\u001b[1m> Finished chain.\u001b[0m\n"
          ]
        },
        {
          "data": {
            "text/plain": [
              "'Bella Roma 레스토랑의 주중 영업시간은 11:00-22:00입니다.'"
            ]
          },
          "execution_count": 41,
          "metadata": {},
          "output_type": "execute_result"
        }
      ],
      "source": [
        "chain.run(\"Bella Roma 레스토랑의 주중 영업시간을 알려줘.\")"
      ]
    },
    {
      "cell_type": "code",
      "execution_count": 34,
      "metadata": {
        "colab": {
          "base_uri": "https://localhost:8080/",
          "height": 216
        },
        "id": "IimzS1J551z2",
        "outputId": "4f48857d-956a-430c-d202-34ca856af047"
      },
      "outputs": [
        {
          "name": "stdout",
          "output_type": "stream",
          "text": [
            "\n",
            "\n",
            "\u001b[1m> Entering new GraphCypherQAChain chain...\u001b[0m\n",
            "Generated Cypher:\n",
            "\u001b[32;1m\u001b[1;3mMATCH (m:MenuItem {name: \"까르보나라 파스타\"}) RETURN m.price\u001b[0m\n",
            "Full Context:\n",
            "\u001b[32;1m\u001b[1;3m[{'m.price': 18000}]\u001b[0m\n",
            "\n",
            "\u001b[1m> Finished chain.\u001b[0m\n"
          ]
        },
        {
          "data": {
            "text/plain": [
              "'까르보나라 파스타의 가격은 18,000원입니다.'"
            ]
          },
          "execution_count": 34,
          "metadata": {},
          "output_type": "execute_result"
        }
      ],
      "source": [
        "chain.run(\"까르보나라 파스타의 가격은 얼마야?\")"
      ]
    },
    {
      "cell_type": "code",
      "execution_count": 35,
      "metadata": {
        "colab": {
          "base_uri": "https://localhost:8080/",
          "height": 270
        },
        "id": "ySNj77w0VjyK",
        "outputId": "00626d1e-600f-4382-dd97-b2960e8062d7"
      },
      "outputs": [
        {
          "name": "stdout",
          "output_type": "stream",
          "text": [
            "\n",
            "\n",
            "\u001b[1m> Entering new GraphCypherQAChain chain...\u001b[0m\n",
            "Generated Cypher:\n",
            "\u001b[32;1m\u001b[1;3mMATCH (e:Employee {role: \"바리스타\"}) RETURN e.name\u001b[0m\n",
            "Full Context:\n",
            "\u001b[32;1m\u001b[1;3m[{'e.name': '안다혜'}]\u001b[0m\n",
            "\n",
            "\u001b[1m> Finished chain.\u001b[0m\n"
          ]
        },
        {
          "data": {
            "text/plain": [
              "'바리스타로 일하는 직원은 안다혜입니다.'"
            ]
          },
          "execution_count": 35,
          "metadata": {},
          "output_type": "execute_result"
        }
      ],
      "source": [
        "chain.run(\"바리스타로 일하는 직원은 누구야?\")"
      ]
    },
    {
      "cell_type": "code",
      "execution_count": 42,
      "metadata": {},
      "outputs": [
        {
          "name": "stdout",
          "output_type": "stream",
          "text": [
            "\n",
            "\n",
            "\u001b[1m> Entering new GraphCypherQAChain chain...\u001b[0m\n",
            "Generated Cypher:\n",
            "\u001b[32;1m\u001b[1;3mMATCH (e:Employee)-[:WORKS_AT_RESTAURANT]->(r:Restaurant {name: \"Bella Roma\"})\n",
            "RETURN e.name AS name, e.role AS role, e.experienceYears AS experienceYears, e.workingDays AS workingDays;\u001b[0m\n",
            "Full Context:\n",
            "\u001b[32;1m\u001b[1;3m[{'name': '김철수', 'role': '주방장(Head Chef)', 'experienceYears': 15, 'workingDays': '월~금'}, {'name': '이영희', 'role': '매니저', 'experienceYears': 10, 'workingDays': '월~토'}, {'name': '박민수', 'role': '서버', 'experienceYears': 2, 'workingDays': '화~일'}, {'name': '안다혜', 'role': '바리스타', 'experienceYears': 3, 'workingDays': '월~금'}]\u001b[0m\n",
            "\n",
            "\u001b[1m> Finished chain.\u001b[0m\n"
          ]
        },
        {
          "data": {
            "text/plain": [
              "'김철수, 이영희, 박민수, 안다혜가 Bella Roma에서 일합니다.'"
            ]
          },
          "execution_count": 42,
          "metadata": {},
          "output_type": "execute_result"
        }
      ],
      "source": [
        "chain.run(\"Bella Roma에서 일하는 사람들을 확인해줘\")"
      ]
    },
    {
      "cell_type": "code",
      "execution_count": 43,
      "metadata": {},
      "outputs": [
        {
          "name": "stdout",
          "output_type": "stream",
          "text": [
            "\n",
            "\n",
            "\u001b[1m> Entering new GraphCypherQAChain chain...\u001b[0m\n",
            "Generated Cypher:\n",
            "\u001b[32;1m\u001b[1;3mMATCH (r:Restaurant {name: \"Bella Roma\"})<-[:WORKS_AT_RESTAURANT]-(e:Employee)\n",
            "WITH collect(e) AS employees\n",
            "RETURN employees, [x IN employees WHERE x.role = \"바리스타\"] AS baristas;\u001b[0m\n",
            "Full Context:\n",
            "\u001b[32;1m\u001b[1;3m[{'employees': [{'role': '주방장(Head Chef)', 'workingDays': '월~금', 'name': '김철수', 'experienceYears': 15}, {'role': '매니저', 'workingDays': '월~토', 'name': '이영희', 'experienceYears': 10}, {'role': '서버', 'workingDays': '화~일', 'name': '박민수', 'experienceYears': 2}, {'role': '바리스타', 'workingDays': '월~금', 'name': '안다혜', 'experienceYears': 3}], 'baristas': [{'role': '바리스타', 'workingDays': '월~금', 'name': '안다혜', 'experienceYears': 3}]}]\u001b[0m\n",
            "\n",
            "\u001b[1m> Finished chain.\u001b[0m\n"
          ]
        },
        {
          "data": {
            "text/plain": [
              "'Bella Roma에서 일하는 사람들: 김철수(주방장, 월~금, 경력 15년), 이영희(매니저, 월~토, 경력 10년), 박민수(서버, 화~일, 경력 2년), 안다혜(바리스타, 월~금, 경력 3년).  \\n그중 바리스타인 사람은 안다혜입니다.'"
            ]
          },
          "execution_count": 43,
          "metadata": {},
          "output_type": "execute_result"
        }
      ],
      "source": [
        "chain.run(\"Bella Roma에서 일하는 사람들을 확인해주고, 그 중에서 바리스타인 사람을 찾아줘\")"
      ]
    },
    {
      "cell_type": "markdown",
      "metadata": {},
      "source": [
        "### gpt-4o-mini, gpt-5-mini 성능 차이 (thinking)"
      ]
    },
    {
      "cell_type": "code",
      "execution_count": null,
      "metadata": {},
      "outputs": [
        {
          "name": "stdout",
          "output_type": "stream",
          "text": [
            "\n",
            "\n",
            "\u001b[1m> Entering new GraphCypherQAChain chain...\u001b[0m\n",
            "Generated Cypher:\n",
            "\u001b[32;1m\u001b[1;3mMATCH (r:Restaurant {name: \"Bella Roma\"})<-[:WORKS_AT_RESTAURANT]-(e:Employee)\n",
            "WITH collect(e) AS employees\n",
            "RETURN employees, [x IN employees WHERE x.role = \"주방장\"] AS headChefs\u001b[0m\n",
            "Full Context:\n",
            "\u001b[32;1m\u001b[1;3m[{'employees': [{'role': '주방장(Head Chef)', 'workingDays': '월~금', 'name': '김철수', 'experienceYears': 15}, {'role': '매니저', 'workingDays': '월~토', 'name': '이영희', 'experienceYears': 10}, {'role': '서버', 'workingDays': '화~일', 'name': '박민수', 'experienceYears': 2}, {'role': '바리스타', 'workingDays': '월~금', 'name': '안다혜', 'experienceYears': 3}], 'headChefs': []}]\u001b[0m\n",
            "\n",
            "\u001b[1m> Finished chain.\u001b[0m\n"
          ]
        },
        {
          "data": {
            "text/plain": [
              "'Bella Roma에서 일하는 사람들: 김철수(주방장, 월~금, 경력 15년), 이영희(매니저, 월~토, 경력 10년), 박민수(서버, 화~일, 경력 2년), 안다혜(바리스타, 월~금, 경력 3년).  \\n주방장은 김철수입니다.'"
            ]
          },
          "execution_count": 44,
          "metadata": {},
          "output_type": "execute_result"
        }
      ],
      "source": [
        "# gpt-4o-mini, gpt-5-mini 성능 차이 (thinking)\n",
        "chain.run(\"Bella Roma에서 일하는 사람들을 확인해주고, 그 중에서 주방장을 찾아줘\")"
      ]
    },
    {
      "cell_type": "code",
      "execution_count": 45,
      "metadata": {},
      "outputs": [
        {
          "name": "stdout",
          "output_type": "stream",
          "text": [
            "\n",
            "\n",
            "\u001b[1m> Entering new GraphCypherQAChain chain...\u001b[0m\n",
            "Generated Cypher:\n",
            "\u001b[32;1m\u001b[1;3mMATCH (p:Purchase)-[:FOR_MENU_ITEM]->(m:MenuItem {name: '티라미수'}),\n",
            "      (p)-[:BY_CUSTOMER]->(c:Customer),\n",
            "      (r:CustomerReview)-[:WRITTEN_BY]->(c)\n",
            "RETURN DISTINCT r\u001b[0m\n",
            "Full Context:\n",
            "\u001b[32;1m\u001b[1;3m[{'r': {'reviewDate': neo4j.time.Date(2024, 10, 3), 'author': '사용자1', 'rating': 4, 'caption': 'r사용자1|10-03|1', 'text': '직원분들이 친절해서 기분 좋게 식사했습니다.', 'seq': 1}}, {'r': {'reviewDate': neo4j.time.Date(2024, 10, 17), 'author': '사용자1', 'rating': 5, 'caption': 'r사용자1|10-17|1', 'text': '직원분들이 친절해서 기분 좋게 식사했습니다.', 'seq': 1}}, {'r': {'reviewDate': neo4j.time.Date(2024, 11, 10), 'author': '사용자1', 'rating': 4, 'caption': 'r사용자1|11-10|1', 'text': '직원분들이 친절해서 기분 좋게 식사했습니다.', 'seq': 1}}, {'r': {'reviewDate': neo4j.time.Date(2024, 1, 7), 'author': '사용자11', 'rating': 5, 'caption': 'r사용자11|01-07|1', 'text': '분위기가 좋아서 데이트 장소로 딱입니다.', 'seq': 1}}, {'r': {'reviewDate': neo4j.time.Date(2024, 1, 17), 'author': '사용자11', 'rating': 4, 'caption': 'r사용자11|01-17|1', 'text': '직원분들이 친절해서 기분 좋게 식사했습니다.', 'seq': 1}}, {'r': {'reviewDate': neo4j.time.Date(2024, 4, 8), 'author': '사용자11', 'rating': 4, 'caption': 'r사용자11|04-08|1', 'text': '직원분들이 친절해서 기분 좋게 식사했습니다.', 'seq': 1}}, {'r': {'reviewDate': neo4j.time.Date(2024, 12, 28), 'author': '사용자11', 'rating': 3, 'caption': 'r사용자11|12-28|1', 'text': '분위기가 좋아서 데이트 장소로 딱입니다.', 'seq': 1}}, {'r': {'reviewDate': neo4j.time.Date(2024, 2, 12), 'author': '사용자12', 'rating': 5, 'caption': 'r사용자12|02-12|1', 'text': '조용하고 아늑해서 혼자 책 읽기 좋아요.', 'seq': 1}}, {'r': {'reviewDate': neo4j.time.Date(2024, 4, 5), 'author': '사용자12', 'rating': 3, 'caption': 'r사용자12|04-05|1', 'text': '조용하고 아늑해서 혼자 책 읽기 좋아요.', 'seq': 1}}, {'r': {'reviewDate': neo4j.time.Date(2024, 4, 12), 'author': '사용자12', 'rating': 5, 'caption': 'r사용자12|04-12|1', 'text': '조용하고 아늑해서 혼자 책 읽기 좋아요.', 'seq': 1}}]\u001b[0m\n",
            "\n",
            "\u001b[1m> Finished chain.\u001b[0m\n"
          ]
        },
        {
          "data": {
            "text/plain": [
              "'제공된 데이터에는 어떤 사용자가 티라미수를 구매했는지에 대한 정보가 없습니다. 따라서 티라미수를 구매한 사용자가 남긴 리뷰를 특정할 수 없습니다.'"
            ]
          },
          "execution_count": 45,
          "metadata": {},
          "output_type": "execute_result"
        }
      ],
      "source": [
        "chain.run(\"티라미수를 구매한 이력이 있는 사용자들이 남긴 리뷰를 모두 알려줘\")"
      ]
    },
    {
      "cell_type": "code",
      "execution_count": 46,
      "metadata": {},
      "outputs": [
        {
          "name": "stdout",
          "output_type": "stream",
          "text": [
            "\n",
            "\n",
            "\u001b[1m> Entering new GraphCypherQAChain chain...\u001b[0m\n",
            "Generated Cypher:\n",
            "\u001b[32;1m\u001b[1;3mMATCH (p:Purchase)-[:FOR_MENU_ITEM]->(m:MenuItem)\n",
            "WHERE p.purchaseDate >= date('2024-08-01') AND p.purchaseDate < date('2024-09-01')\n",
            "WITH m, sum(p.quantity) AS totalSold\n",
            "RETURN m.name AS menuItem, totalSold\n",
            "ORDER BY totalSold DESC\n",
            "LIMIT 1;\u001b[0m\n",
            "Full Context:\n",
            "\u001b[32;1m\u001b[1;3m[{'menuItem': '까르보나라 파스타', 'totalSold': 35}]\u001b[0m\n",
            "\n",
            "\u001b[1m> Finished chain.\u001b[0m\n"
          ]
        },
        {
          "data": {
            "text/plain": [
              "'까르보나라 파스타가 35개로 2024년 8월에 가장 많이 팔린 메뉴입니다.'"
            ]
          },
          "execution_count": 46,
          "metadata": {},
          "output_type": "execute_result"
        }
      ],
      "source": [
        "chain.run(\"2024년 8월에 가장 많이 팔린 메뉴는 무엇인가요?\")"
      ]
    },
    {
      "cell_type": "code",
      "execution_count": 47,
      "metadata": {},
      "outputs": [
        {
          "name": "stdout",
          "output_type": "stream",
          "text": [
            "\n",
            "\n",
            "\u001b[1m> Entering new GraphCypherQAChain chain...\u001b[0m\n",
            "Generated Cypher:\n",
            "\u001b[32;1m\u001b[1;3mMATCH (m:MenuItem)-[:MAY_TRIGGER_ALLERGY]->(a:Allergy)\n",
            "WHERE toLower(a.name) CONTAINS '글루텐'\n",
            "RETURN DISTINCT m.name AS menuItem, m.category AS category, m.price AS price, m.currency AS currency;\u001b[0m\n",
            "Full Context:\n",
            "\u001b[32;1m\u001b[1;3m[{'menuItem': '마르게리타 피자', 'category': '피자', 'price': 15000, 'currency': 'KRW'}, {'menuItem': '까르보나라 파스타', 'category': '파스타', 'price': 18000, 'currency': 'KRW'}]\u001b[0m\n",
            "\n",
            "\u001b[1m> Finished chain.\u001b[0m\n"
          ]
        },
        {
          "data": {
            "text/plain": [
              "'마르게리타 피자, 까르보나라 파스타는 글루텐 알레르기가 있는 고객이 먹을 수 없습니다.'"
            ]
          },
          "execution_count": 47,
          "metadata": {},
          "output_type": "execute_result"
        }
      ],
      "source": [
        "chain.run(\"글루텐 알레르기가 있는 고객이 먹을 수 없는 메뉴는 무엇인가요?\")"
      ]
    },
    {
      "cell_type": "code",
      "execution_count": 48,
      "metadata": {},
      "outputs": [
        {
          "name": "stdout",
          "output_type": "stream",
          "text": [
            "\n",
            "\n",
            "\u001b[1m> Entering new GraphCypherQAChain chain...\u001b[0m\n",
            "Generated Cypher:\n",
            "\u001b[32;1m\u001b[1;3mMATCH (cr:CustomerReview)-[:WRITTEN_BY]->(c:Customer),\n",
            "      (c)<-[:BY_CUSTOMER]-(p:Purchase)-[:FOR_MENU_ITEM]->(mi:MenuItem)-[:IN_MENU_CATEGORY]->(mc:MenuCategory)\n",
            "WHERE cr.reviewDate >= date('2024-01-01') AND cr.reviewDate <= date('2024-06-30')\n",
            "  AND cr.rating >= 4\n",
            "  AND p.purchaseDate >= date('2024-01-01') AND p.purchaseDate <= date('2024-06-30')\n",
            "RETURN mc.name AS category, SUM(p.quantity) AS totalQuantity\n",
            "ORDER BY totalQuantity DESC\n",
            "LIMIT 1\u001b[0m\n",
            "Full Context:\n",
            "\u001b[32;1m\u001b[1;3m[{'category': '디저트', 'totalQuantity': 110}]\u001b[0m\n",
            "\n",
            "\u001b[1m> Finished chain.\u001b[0m\n"
          ]
        },
        {
          "data": {
            "text/plain": [
              "'디저트(총 110건)입니다.'"
            ]
          },
          "execution_count": 48,
          "metadata": {},
          "output_type": "execute_result"
        }
      ],
      "source": [
        "chain.run(\"2024년 상반기(1~6월)에 긍정적인 리뷰(4점 이상)를 남긴 고객들이 가장 많이 주문한 메뉴 카테고리는 무엇인가요?\")"
      ]
    },
    {
      "cell_type": "markdown",
      "metadata": {},
      "source": [
        "### 단계별로 프롬프트 주어서 답변 성능 올리기"
      ]
    },
    {
      "cell_type": "code",
      "execution_count": null,
      "metadata": {},
      "outputs": [],
      "source": [
        "# 2024년 상반기(1~6월)에 긍정적인 리뷰(4점 이상)를 남긴 고객들이 가장 많이 주문한 메뉴 카테고리는 무엇인가요?\n",
        "\n",
        "prompt = \"\"\"당신은 복합 질의 쿼리를 잘 만드는 전문가 입니다. 단계별로 확인하고, 답변을 생성해주세요.\n",
        "1. 2024년 상반기(1~6월)에 긍정적인 리뷰(4점 이상)를 남긴 고객들이 누구인지 확인.\n",
        "2. 그 고객들이 주문한 메뉴를 집계\n",
        "3. 메뉴, 집계 값 출력\n",
        "\"\"\"\n",
        "# 단계별로 프롬프트 주어서 답변 받기"
      ]
    },
    {
      "cell_type": "code",
      "execution_count": 50,
      "metadata": {},
      "outputs": [
        {
          "name": "stdout",
          "output_type": "stream",
          "text": [
            "\n",
            "\n",
            "\u001b[1m> Entering new GraphCypherQAChain chain...\u001b[0m\n",
            "Generated Cypher:\n",
            "\u001b[32;1m\u001b[1;3mMATCH (cr:CustomerReview)-[:WRITTEN_BY]->(c:Customer)\n",
            "WHERE cr.reviewDate >= date('2024-01-01') AND cr.reviewDate <= date('2024-06-30') AND cr.rating >= 4\n",
            "WITH DISTINCT c\n",
            "MATCH (p:Purchase)-[:BY_CUSTOMER]->(c), (p)-[:FOR_MENU_ITEM]->(m:MenuItem)\n",
            "RETURN m.name AS menu, sum(p.quantity) AS totalQuantity\n",
            "ORDER BY totalQuantity DESC\u001b[0m\n",
            "Full Context:\n",
            "\u001b[32;1m\u001b[1;3m[{'menu': '까르보나라 파스타', 'totalQuantity': 139}, {'menu': '마르게리타 피자', 'totalQuantity': 132}, {'menu': '티라미수', 'totalQuantity': 119}, {'menu': '아메리카노', 'totalQuantity': 108}]\u001b[0m\n",
            "\n",
            "\u001b[1m> Finished chain.\u001b[0m\n"
          ]
        },
        {
          "data": {
            "text/plain": [
              "'1) 2024년 상반기(1~6월)에 긍정적(4점 이상) 리뷰를 남긴 고객: 확인 불가\\n\\n2) 그 고객들이 주문한 메뉴 집계:\\n- 까르보나라 파스타: 139\\n- 마르게리타 피자: 132\\n- 티라미수: 119\\n- 아메리카노: 108\\n\\n3) 메뉴, 집계 값 출력:\\n까르보나라 파스타 — 139  \\n마르게리타 피자 — 132  \\n티라미수 — 119  \\n아메리카노 — 108'"
            ]
          },
          "execution_count": 50,
          "metadata": {},
          "output_type": "execute_result"
        }
      ],
      "source": [
        "chain.run(f\"{prompt}\")"
      ]
    },
    {
      "cell_type": "markdown",
      "metadata": {},
      "source": [
        "---"
      ]
    },
    {
      "cell_type": "markdown",
      "metadata": {},
      "source": [
        "### llm을 사용하여 cypher 쿼리 생성, 실행"
      ]
    },
    {
      "cell_type": "code",
      "execution_count": 51,
      "metadata": {},
      "outputs": [],
      "source": [
        "question = \"2024년 상반기(1~6월)에 긍정적인 리뷰(4점 이상)를 남긴 고객들이 누구인지 확인\""
      ]
    },
    {
      "cell_type": "code",
      "execution_count": 57,
      "metadata": {},
      "outputs": [],
      "source": [
        "def generate_cypher_query_and_execute(question):\n",
        "    llm = ChatOpenAI(model_name=\"gpt-5-mini\")\n",
        "    \n",
        "    # 스키마 정보 가져오기\n",
        "    schema = graph.schema\n",
        "    \n",
        "    # Cypher 쿼리 생성 프롬프트\n",
        "    cypher_prompt = f\"\"\"\n",
        "    Given the following Neo4j schema:\n",
        "    {schema}\n",
        "    Generate a Cypher query to answer this question: {question}\n",
        "    Return only the Cypher query, no explanations.\n",
        "    \"\"\"\n",
        "    \n",
        "    # Cypher 쿼리 생성\n",
        "    cypher_query = llm.predict(cypher_prompt).strip()\n",
        "    \n",
        "    # Cypher 쿼리 실행\n",
        "    query_result = graph.query(cypher_query)\n",
        "    return cypher_query, query_result"
      ]
    },
    {
      "cell_type": "code",
      "execution_count": 59,
      "metadata": {},
      "outputs": [],
      "source": [
        "cypher_query, query_result = generate_cypher_query_and_execute(question)"
      ]
    },
    {
      "cell_type": "code",
      "execution_count": 60,
      "metadata": {},
      "outputs": [
        {
          "data": {
            "text/plain": [
              "\"MATCH (cr:CustomerReview)-[:WRITTEN_BY]->(c:Customer)\\nWHERE cr.rating >= 4\\n  AND cr.reviewDate >= date('2024-01-01')\\n  AND cr.reviewDate <= date('2024-06-30')\\nRETURN DISTINCT c.name AS customer\""
            ]
          },
          "execution_count": 60,
          "metadata": {},
          "output_type": "execute_result"
        }
      ],
      "source": [
        "cypher_query"
      ]
    },
    {
      "cell_type": "code",
      "execution_count": 61,
      "metadata": {},
      "outputs": [
        {
          "data": {
            "text/plain": [
              "[{'customer': '사용자11'},\n",
              " {'customer': '사용자12'},\n",
              " {'customer': '사용자13'},\n",
              " {'customer': '사용자14'},\n",
              " {'customer': '사용자15'},\n",
              " {'customer': '사용자17'},\n",
              " {'customer': '사용자19'},\n",
              " {'customer': '사용자2'},\n",
              " {'customer': '사용자27'},\n",
              " {'customer': '사용자3'},\n",
              " {'customer': '사용자31'},\n",
              " {'customer': '사용자32'},\n",
              " {'customer': '사용자34'},\n",
              " {'customer': '사용자35'},\n",
              " {'customer': '사용자36'},\n",
              " {'customer': '사용자37'},\n",
              " {'customer': '사용자43'},\n",
              " {'customer': '사용자44'},\n",
              " {'customer': '사용자45'},\n",
              " {'customer': '사용자46'},\n",
              " {'customer': '사용자47'},\n",
              " {'customer': '사용자49'},\n",
              " {'customer': '사용자8'},\n",
              " {'customer': '사용자9'}]"
            ]
          },
          "execution_count": 61,
          "metadata": {},
          "output_type": "execute_result"
        }
      ],
      "source": [
        "query_result"
      ]
    },
    {
      "cell_type": "markdown",
      "metadata": {},
      "source": [
        "---"
      ]
    },
    {
      "cell_type": "code",
      "execution_count": null,
      "metadata": {
        "colab": {
          "base_uri": "https://localhost:8080/"
        },
        "id": "nDUbRgH8JGRk",
        "outputId": "fff8013e-6ded-4788-c0eb-4271743759ce"
      },
      "outputs": [
        {
          "name": "stdout",
          "output_type": "stream",
          "text": [
            "Node properties:\n",
            "Restaurant {name: STRING, address: STRING, phone: STRING, hoursWeekday: STRING, hoursWeekend: STRING, seats: INTEGER, reservationAvailable: BOOLEAN, category: STRING}\n",
            "Employee {name: STRING, experienceYears: INTEGER, role: STRING, workingDays: STRING}\n",
            "Supplier {name: STRING, phone: STRING}\n",
            "Customer {name: STRING}\n",
            "MenuItem {name: STRING, category: STRING, price: INTEGER, currency: STRING}\n",
            "MenuCategory {name: STRING}\n",
            "Ingredient {name: STRING}\n",
            "Allergy {name: STRING}\n",
            "PaymentMethod {name: STRING}\n",
            "Purchase {purchaseDate: DATE, quantity: INTEGER, totalPrice: INTEGER, pricePerUnit: INTEGER, customer: STRING, menuItem: STRING, seq: INTEGER, caption: STRING}\n",
            "CustomerReview {reviewDate: DATE, rating: INTEGER, text: STRING, seq: INTEGER, author: STRING, caption: STRING}\n",
            "ReservationChannel {name: STRING}\n",
            "Relationship properties:\n",
            "\n",
            "The relationships:\n",
            "(:Restaurant)-[:ACCEPTS_PAYMENT_METHOD]->(:PaymentMethod)\n",
            "(:Restaurant)-[:ACCEPTS_RESERVATION_CHANNEL]->(:ReservationChannel)\n",
            "(:Restaurant)-[:HAS_MENU_ITEM]->(:MenuItem)\n",
            "(:Employee)-[:WORKS_AT_RESTAURANT]->(:Restaurant)\n",
            "(:Supplier)-[:SUPPLIES_INGREDIENT]->(:Ingredient)\n",
            "(:MenuItem)-[:CONTAINS_INGREDIENT]->(:Ingredient)\n",
            "(:MenuItem)-[:IN_MENU_CATEGORY]->(:MenuCategory)\n",
            "(:MenuItem)-[:MAY_TRIGGER_ALLERGY]->(:Allergy)\n",
            "(:Purchase)-[:FOR_MENU_ITEM]->(:MenuItem)\n",
            "(:Purchase)-[:BY_CUSTOMER]->(:Customer)\n",
            "(:Purchase)-[:AT_RESTAURANT]->(:Restaurant)\n",
            "(:CustomerReview)-[:REVIEWS_RESTAURANT]->(:Restaurant)\n",
            "(:CustomerReview)-[:WRITTEN_BY]->(:Customer)\n"
          ]
        }
      ],
      "source": [
        "# schema 출력\n",
        "\n",
        "print(graph.schema)"
      ]
    },
    {
      "cell_type": "markdown",
      "metadata": {
        "id": "_XhVELUKAlBs"
      },
      "source": [
        "---"
      ]
    },
    {
      "cell_type": "code",
      "execution_count": 64,
      "metadata": {},
      "outputs": [],
      "source": [
        "question = \"2024년 상반기(1~6월)에 긍정적인 리뷰(4점 이상)를 남긴 고객들이 누구인지 확인\""
      ]
    },
    {
      "cell_type": "code",
      "execution_count": 65,
      "metadata": {},
      "outputs": [],
      "source": [
        "llm = ChatOpenAI(model_name=\"gpt-5-mini\")"
      ]
    },
    {
      "cell_type": "markdown",
      "metadata": {},
      "source": [
        "### 사용자 질문을 그래프 DB 조회에 필요한 단순한 탐색 경로/중간 데이터 보조 질문으로 분해"
      ]
    },
    {
      "cell_type": "code",
      "execution_count": null,
      "metadata": {},
      "outputs": [],
      "source": [
        "# 사용자 질문을 그래프 DB 조회에 필요한 단순한 탐색 경로/중간 데이터 보조 질문으로 분해\n",
        "\n",
        "import json\n",
        "from typing import List, Dict, Tuple, Any\n",
        "from langchain_openai import ChatOpenAI\n",
        "from langchain_community.graphs import Neo4jGraph\n",
        "\n",
        "def decompose_question_to_sub_queries(question: str, schema: str, llm: ChatOpenAI) -> List[str]:\n",
        "    \"\"\"\n",
        "    LLM을 사용하여 복잡한 사용자 질문을 '그래프 DB 조회'에 필요한\n",
        "    단순한 탐색 경로/중간 데이터 보조 질문으로 분해합니다.\n",
        "    \"\"\"\n",
        "    decompose_prompt = f\"\"\"\n",
        "    You are an expert Graph Query Decomposer. Your task is to analyze the user's complex question based ONLY on the provided Neo4j Schema.\n",
        "    \n",
        "    Decompose the question into a sequence of *data retrieval* steps (sub-questions). Each sub-question must target a specific piece of information from the graph. DO NOT ask about schema definition, delivery format, or user intent/policy.\n",
        "    \n",
        "    Neo4j Schema:\n",
        "    ---\n",
        "    {schema} \n",
        "    ---\n",
        "    \n",
        "    User Question: \"{question}\"\n",
        "    \n",
        "    Example Output: [\"What is the name of the Head Chef?\", \"What menu items did the Head Chef create?\", \"Which ingredients are contained in those menu items?\"]\n",
        "    \n",
        "    Return ONLY a JSON array of strings, where each string is a sub-question focused on data retrieval.\n",
        "    \"\"\"\n",
        "    \n",
        "    try:\n",
        "        # LLM 호출 및 JSON 파싱\n",
        "        # LLM의 응답은 JSON 문자열이라고 가정합니다.\n",
        "        json_str = llm.invoke(decompose_prompt).content.strip()\n",
        "        sub_questions = json.loads(json_str)\n",
        "        \n",
        "        # 리스트가 아니거나 형식이 맞지 않으면 빈 리스트 반환\n",
        "        if not isinstance(sub_questions, list):\n",
        "             return []\n",
        "             \n",
        "        return sub_questions\n",
        "        \n",
        "    except Exception as e:\n",
        "        print(f\"보조 질문 분해 중 오류 발생: {e}\")\n",
        "        return []"
      ]
    },
    {
      "cell_type": "code",
      "execution_count": 69,
      "metadata": {},
      "outputs": [
        {
          "data": {
            "text/plain": [
              "'2024년 상반기(1~6월)에 긍정적인 리뷰(4점 이상)를 남긴 고객들이 누구인지 확인'"
            ]
          },
          "execution_count": 69,
          "metadata": {},
          "output_type": "execute_result"
        }
      ],
      "source": [
        "question"
      ]
    },
    {
      "cell_type": "code",
      "execution_count": 71,
      "metadata": {},
      "outputs": [
        {
          "name": "stdout",
          "output_type": "stream",
          "text": [
            "['2024-01-01부터 2024-06-30 사이(reviewDate 범위)에 작성된 CustomerReview 노드 중 rating이 4 이상인 리뷰들은 어떤 것들인가?', '각 해당 CustomerReview 노드가 WRITTEN_BY 관계로 연결된 Customer 노드는 누구인가?', '각 해당 Customer 노드의 name 속성 값은 무엇인가?', '중복을 제거한(유일한) 2024년 상반기(1~6월)에 rating 4 이상인 리뷰를 남긴 고객 이름들의 목록은 무엇인가?']\n"
          ]
        }
      ],
      "source": [
        "# 예시 호출 (실제 실행 시 주석 해제 및 llm 객체 필요)\n",
        "sub_queries = decompose_question_to_sub_queries(question, graph.schema, llm)\n",
        "print(sub_queries)"
      ]
    },
    {
      "cell_type": "markdown",
      "metadata": {},
      "source": [
        "### 보조 질문에 대한 쿼리 생성, 실행 및 결과"
      ]
    },
    {
      "cell_type": "code",
      "execution_count": null,
      "metadata": {},
      "outputs": [],
      "source": [
        "# 보조 질문 실행 및 결과 context 생성 함수\n",
        "def execute_sub_queries(question: str, sub_queries: List[str], graph: Neo4jGraph, llm: ChatOpenAI) -> Tuple[str, List[Dict[str, Any]]]:\n",
        "    \"\"\"\n",
        "    보조 질문 목록을 순회하며 Cypher 쿼리를 생성 및 실행하고, 모든 결과를 Context로 수집합니다.\n",
        "    \"\"\"\n",
        "    full_schema = graph.schema\n",
        "    context_results = []\n",
        "    \n",
        "    # 각 보조 질문에 대한 쿼리를 생성하고 실행\n",
        "    for i, sub_q in enumerate(sub_queries):\n",
        "        # Cypher 쿼리 생성 프롬프트 (전체 스키마 사용)\n",
        "        cypher_prompt = f\"\"\"\n",
        "        Given the Neo4j schema and the following sub-question from a sequence of questions, generate the necessary Cypher query.\n",
        "        \n",
        "        Sub-Question {i+1}: \"{sub_q}\"\n",
        "        \n",
        "        Neo4j Schema:\n",
        "        ---\n",
        "        {full_schema}\n",
        "        ---\n",
        "        \n",
        "        Return ONLY the valid Cypher query. Do not include any explanations.\n",
        "        \"\"\"\n",
        "        \n",
        "        try:\n",
        "            # Cypher 쿼리 생성\n",
        "            cypher_query = llm.invoke(cypher_prompt).content.strip()\n",
        "            \n",
        "            # Cypher 쿼리 실행\n",
        "            query_result = graph.query(cypher_query)\n",
        "            \n",
        "            # 결과 Context 저장\n",
        "            context_results.append({\n",
        "                \"sub_question\": sub_q,\n",
        "                \"cypher_query\": cypher_query,\n",
        "                \"result\": query_result\n",
        "            })\n",
        "            \n",
        "        except Exception as e:\n",
        "            # 쿼리 생성 또는 실행 오류 시, 오류 메시지를 Context에 저장하여 LLM에게 전달\n",
        "            context_results.append({\n",
        "                \"sub_question\": sub_q,\n",
        "                \"error\": f\"Failed to execute query: {e}\"\n",
        "            })\n",
        "            \n",
        "    # 최종 답변을 위한 Context 문자열 생성 (프롬프트로 전달될 형태)\n",
        "    context_string = f\"Original User Question: {question}\\n\\nContextual Data Retrieved:\\n\"\n",
        "    for item in context_results:\n",
        "        if 'error' in item:\n",
        "            context_string += f\"- Q: {item['sub_question']} | Error: {item['error']}\\n\"\n",
        "        else:\n",
        "            # 결과가 너무 길면 잘라서 전달하거나 요약하는 로직을 추가할 수 있습니다.\n",
        "            context_string += f\"- Q: {item['sub_question']} | Result: {item['result']}\\n\"\n",
        "            \n",
        "    return context_string, context_results"
      ]
    },
    {
      "cell_type": "code",
      "execution_count": 73,
      "metadata": {},
      "outputs": [
        {
          "name": "stdout",
          "output_type": "stream",
          "text": [
            "--- LLM에게 전달할 최종 Context ---\n",
            "Original User Question: 2024년 상반기(1~6월)에 긍정적인 리뷰(4점 이상)를 남긴 고객들이 누구인지 확인\n",
            "\n",
            "Contextual Data Retrieved:\n",
            "- Q: 2024-01-01부터 2024-06-30 사이(reviewDate 범위)에 작성된 CustomerReview 노드 중 rating이 4 이상인 리뷰들은 어떤 것들인가? | Result: [{'reviewDate': neo4j.time.Date(2024, 1, 5), 'rating': 4, 'text': '분위기가 좋아서 데이트 장소로 딱입니다.', 'author': '사용자17', 'caption': 'r사용자17|01-05|1', 'seq': 1}, {'reviewDate': neo4j.time.Date(2024, 1, 6), 'rating': 4, 'text': '티라미수가 정말 부드럽고 맛있어요.', 'author': '사용자27', 'caption': 'r사용자27|01-06|1', 'seq': 1}, {'reviewDate': neo4j.time.Date(2024, 1, 7), 'rating': 5, 'text': '분위기가 좋아서 데이트 장소로 딱입니다.', 'author': '사용자11', 'caption': 'r사용자11|01-07|1', 'seq': 1}, {'reviewDate': neo4j.time.Date(2024, 1, 7), 'rating': 4, 'text': '커피가 진하고 맛있습니다.', 'author': '사용자47', 'caption': 'r사용자47|01-07|1', 'seq': 1}, {'reviewDate': neo4j.time.Date(2024, 1, 11), 'rating': 4, 'text': '조용하고 아늑해서 혼자 책 읽기 좋아요.', 'author': '사용자45', 'caption': 'r사용자45|01-11|1', 'seq': 1}, {'reviewDate': neo4j.time.Date(2024, 1, 17), 'rating': 4, 'text': '직원분들이 친절해서 기분 좋게 식사했습니다.', 'author': '사용자11', 'caption': 'r사용자11|01-17|1', 'seq': 1}, {'reviewDate': neo4j.time.Date(2024, 1, 17), 'rating': 5, 'text': '파스타 면이 알덴테로 딱 맞게 익혀져 있네요.', 'author': '사용자44', 'caption': 'r사용자44|01-17|1', 'seq': 1}, {'reviewDate': neo4j.time.Date(2024, 1, 24), 'rating': 4, 'text': '예약 없이 갔는데도 자리 안내를 잘해주셨어요.', 'author': '사용자32', 'caption': 'r사용자32|01-24|1', 'seq': 1}, {'reviewDate': neo4j.time.Date(2024, 1, 27), 'rating': 4, 'text': '예약 없이 갔는데도 자리 안내를 잘해주셨어요.', 'author': '사용자35', 'caption': 'r사용자35|01-27|1', 'seq': 1}, {'reviewDate': neo4j.time.Date(2024, 2, 10), 'rating': 5, 'text': '인테리어가 세련되고 감각적이에요.', 'author': '사용자8', 'caption': 'r사용자8|02-10|1', 'seq': 1}, {'reviewDate': neo4j.time.Date(2024, 2, 12), 'rating': 5, 'text': '조용하고 아늑해서 혼자 책 읽기 좋아요.', 'author': '사용자12', 'caption': 'r사용자12|02-12|1', 'seq': 1}, {'reviewDate': neo4j.time.Date(2024, 2, 14), 'rating': 5, 'text': '파스타 면이 알덴테로 딱 맞게 익혀져 있네요.', 'author': '사용자19', 'caption': 'r사용자19|02-14|1', 'seq': 1}, {'reviewDate': neo4j.time.Date(2024, 2, 22), 'rating': 4, 'text': '인테리어가 세련되고 감각적이에요.', 'author': '사용자9', 'caption': 'r사용자9|02-22|1', 'seq': 1}, {'reviewDate': neo4j.time.Date(2024, 2, 23), 'rating': 5, 'text': '커피가 진하고 맛있습니다.', 'author': '사용자19', 'caption': 'r사용자19|02-23|1', 'seq': 1}, {'reviewDate': neo4j.time.Date(2024, 3, 2), 'rating': 4, 'text': '인테리어가 세련되고 감각적이에요.', 'author': '사용자43', 'caption': 'r사용자43|03-02|1', 'seq': 1}, {'reviewDate': neo4j.time.Date(2024, 3, 4), 'rating': 4, 'text': '직원분들이 친절해서 기분 좋게 식사했습니다.', 'author': '사용자15', 'caption': 'r사용자15|03-04|1', 'seq': 1}, {'reviewDate': neo4j.time.Date(2024, 3, 6), 'rating': 5, 'text': '커피가 진하고 맛있습니다.', 'author': '사용자31', 'caption': 'r사용자31|03-06|1', 'seq': 1}, {'reviewDate': neo4j.time.Date(2024, 3, 12), 'rating': 5, 'text': '분위기가 좋아서 데이트 장소로 딱입니다.', 'author': '사용자19', 'caption': 'r사용자19|03-12|1', 'seq': 1}, {'reviewDate': neo4j.time.Date(2024, 3, 16), 'rating': 5, 'text': '커피가 진하고 맛있습니다.', 'author': '사용자46', 'caption': 'r사용자46|03-16|1', 'seq': 1}, {'reviewDate': neo4j.time.Date(2024, 3, 19), 'rating': 5, 'text': '예약 없이 갔는데도 자리 안내를 잘해주셨어요.', 'author': '사용자13', 'caption': 'r사용자13|03-19|1', 'seq': 1}, {'reviewDate': neo4j.time.Date(2024, 3, 23), 'rating': 4, 'text': '피자가 진짜 이탈리아에서 먹던 맛 그대로예요!', 'author': '사용자2', 'caption': 'r사용자2|03-23|1', 'seq': 1}, {'reviewDate': neo4j.time.Date(2024, 3, 27), 'rating': 5, 'text': '분위기가 좋아서 데이트 장소로 딱입니다.', 'author': '사용자19', 'caption': 'r사용자19|03-27|1', 'seq': 1}, {'reviewDate': neo4j.time.Date(2024, 4, 6), 'rating': 5, 'text': '직원분들이 친절해서 기분 좋게 식사했습니다.', 'author': '사용자36', 'caption': 'r사용자36|04-06|1', 'seq': 1}, {'reviewDate': neo4j.time.Date(2024, 4, 8), 'rating': 4, 'text': '직원분들이 친절해서 기분 좋게 식사했습니다.', 'author': '사용자11', 'caption': 'r사용자11|04-08|1', 'seq': 1}, {'reviewDate': neo4j.time.Date(2024, 4, 9), 'rating': 5, 'text': '직원분들이 친절해서 기분 좋게 식사했습니다.', 'author': '사용자19', 'caption': 'r사용자19|04-09|1', 'seq': 1}, {'reviewDate': neo4j.time.Date(2024, 4, 12), 'rating': 5, 'text': '조용하고 아늑해서 혼자 책 읽기 좋아요.', 'author': '사용자12', 'caption': 'r사용자12|04-12|1', 'seq': 1}, {'reviewDate': neo4j.time.Date(2024, 4, 21), 'rating': 5, 'text': '분위기가 좋아서 데이트 장소로 딱입니다.', 'author': '사용자14', 'caption': 'r사용자14|04-21|1', 'seq': 1}, {'reviewDate': neo4j.time.Date(2024, 4, 24), 'rating': 4, 'text': '피자가 진짜 이탈리아에서 먹던 맛 그대로예요!', 'author': '사용자9', 'caption': 'r사용자9|04-24|1', 'seq': 1}, {'reviewDate': neo4j.time.Date(2024, 4, 24), 'rating': 4, 'text': '인테리어가 세련되고 감각적이에요.', 'author': '사용자9', 'caption': 'r사용자9|04-24|2', 'seq': 2}, {'reviewDate': neo4j.time.Date(2024, 4, 30), 'rating': 4, 'text': '가격은 조금 비싸지만 서비스는 만족스러워요.', 'author': '사용자43', 'caption': 'r사용자43|04-30|1', 'seq': 1}, {'reviewDate': neo4j.time.Date(2024, 5, 22), 'rating': 4, 'text': '예약 없이 갔는데도 자리 안내를 잘해주셨어요.', 'author': '사용자31', 'caption': 'r사용자31|05-22|1', 'seq': 1}, {'reviewDate': neo4j.time.Date(2024, 5, 25), 'rating': 4, 'text': '커피가 진하고 맛있습니다.', 'author': '사용자27', 'caption': 'r사용자27|05-25|1', 'seq': 1}, {'reviewDate': neo4j.time.Date(2024, 5, 29), 'rating': 5, 'text': '조용하고 아늑해서 혼자 책 읽기 좋아요.', 'author': '사용자37', 'caption': 'r사용자37|05-29|1', 'seq': 1}, {'reviewDate': neo4j.time.Date(2024, 6, 6), 'rating': 5, 'text': '피자가 진짜 이탈리아에서 먹던 맛 그대로예요!', 'author': '사용자34', 'caption': 'r사용자34|06-06|1', 'seq': 1}, {'reviewDate': neo4j.time.Date(2024, 6, 10), 'rating': 5, 'text': '가격은 조금 비싸지만 서비스는 만족스러워요.', 'author': '사용자45', 'caption': 'r사용자45|06-10|1', 'seq': 1}, {'reviewDate': neo4j.time.Date(2024, 6, 18), 'rating': 4, 'text': '조용하고 아늑해서 혼자 책 읽기 좋아요.', 'author': '사용자2', 'caption': 'r사용자2|06-18|1', 'seq': 1}, {'reviewDate': neo4j.time.Date(2024, 6, 24), 'rating': 5, 'text': '티라미수가 정말 부드럽고 맛있어요.', 'author': '사용자49', 'caption': 'r사용자49|06-24|1', 'seq': 1}, {'reviewDate': neo4j.time.Date(2024, 6, 26), 'rating': 4, 'text': '직원분들이 친절해서 기분 좋게 식사했습니다.', 'author': '사용자3', 'caption': 'r사용자3|06-26|1', 'seq': 1}]\n",
            "- Q: 각 해당 CustomerReview 노드가 WRITTEN_BY 관계로 연결된 Customer 노드는 누구인가? | Result: [{'cr': {'reviewDate': neo4j.time.Date(2024, 10, 3), 'author': '사용자1', 'rating': 4, 'caption': 'r사용자1|10-03|1', 'text': '직원분들이 친절해서 기분 좋게 식사했습니다.', 'seq': 1}, 'c': {'name': '사용자1'}}, {'cr': {'reviewDate': neo4j.time.Date(2024, 10, 17), 'author': '사용자1', 'rating': 5, 'caption': 'r사용자1|10-17|1', 'text': '직원분들이 친절해서 기분 좋게 식사했습니다.', 'seq': 1}, 'c': {'name': '사용자1'}}, {'cr': {'reviewDate': neo4j.time.Date(2024, 11, 10), 'author': '사용자1', 'rating': 4, 'caption': 'r사용자1|11-10|1', 'text': '직원분들이 친절해서 기분 좋게 식사했습니다.', 'seq': 1}, 'c': {'name': '사용자1'}}, {'cr': {'reviewDate': neo4j.time.Date(2024, 3, 23), 'author': '사용자2', 'rating': 4, 'caption': 'r사용자2|03-23|1', 'text': '피자가 진짜 이탈리아에서 먹던 맛 그대로예요!', 'seq': 1}, 'c': {'name': '사용자2'}}, {'cr': {'reviewDate': neo4j.time.Date(2024, 6, 18), 'author': '사용자2', 'rating': 4, 'caption': 'r사용자2|06-18|1', 'text': '조용하고 아늑해서 혼자 책 읽기 좋아요.', 'seq': 1}, 'c': {'name': '사용자2'}}, {'cr': {'reviewDate': neo4j.time.Date(2024, 6, 26), 'author': '사용자3', 'rating': 4, 'caption': 'r사용자3|06-26|1', 'text': '직원분들이 친절해서 기분 좋게 식사했습니다.', 'seq': 1}, 'c': {'name': '사용자3'}}, {'cr': {'reviewDate': neo4j.time.Date(2024, 4, 18), 'author': '사용자4', 'rating': 3, 'caption': 'r사용자4|04-18|1', 'text': '파스타 면이 알덴테로 딱 맞게 익혀져 있네요.', 'seq': 1}, 'c': {'name': '사용자4'}}, {'cr': {'reviewDate': neo4j.time.Date(2024, 6, 17), 'author': '사용자4', 'rating': 3, 'caption': 'r사용자4|06-17|1', 'text': '커피가 진하고 맛있습니다.', 'seq': 1}, 'c': {'name': '사용자4'}}, {'cr': {'reviewDate': neo4j.time.Date(2024, 9, 22), 'author': '사용자4', 'rating': 3, 'caption': 'r사용자4|09-22|1', 'text': '가격은 조금 비싸지만 서비스는 만족스러워요.', 'seq': 1}, 'c': {'name': '사용자4'}}, {'cr': {'reviewDate': neo4j.time.Date(2024, 10, 6), 'author': '사용자4', 'rating': 4, 'caption': 'r사용자4|10-06|1', 'text': '분위기가 좋아서 데이트 장소로 딱입니다.', 'seq': 1}, 'c': {'name': '사용자4'}}, {'cr': {'reviewDate': neo4j.time.Date(2024, 11, 25), 'author': '사용자4', 'rating': 4, 'caption': 'r사용자4|11-25|1', 'text': '인테리어가 세련되고 감각적이에요.', 'seq': 1}, 'c': {'name': '사용자4'}}, {'cr': {'reviewDate': neo4j.time.Date(2024, 12, 29), 'author': '사용자4', 'rating': 5, 'caption': 'r사용자4|12-29|1', 'text': '커피가 진하고 맛있습니다.', 'seq': 1}, 'c': {'name': '사용자4'}}, {'cr': {'reviewDate': neo4j.time.Date(2024, 6, 6), 'author': '사용자6', 'rating': 3, 'caption': 'r사용자6|06-06|1', 'text': '가격은 조금 비싸지만 서비스는 만족스러워요.', 'seq': 1}, 'c': {'name': '사용자6'}}, {'cr': {'reviewDate': neo4j.time.Date(2024, 7, 9), 'author': '사용자6', 'rating': 4, 'caption': 'r사용자6|07-09|1', 'text': '파스타 면이 알덴테로 딱 맞게 익혀져 있네요.', 'seq': 1}, 'c': {'name': '사용자6'}}, {'cr': {'reviewDate': neo4j.time.Date(2024, 8, 1), 'author': '사용자6', 'rating': 5, 'caption': 'r사용자6|08-01|1', 'text': '예약 없이 갔는데도 자리 안내를 잘해주셨어요.', 'seq': 1}, 'c': {'name': '사용자6'}}, {'cr': {'reviewDate': neo4j.time.Date(2024, 11, 8), 'author': '사용자6', 'rating': 5, 'caption': 'r사용자6|11-08|1', 'text': '예약 없이 갔는데도 자리 안내를 잘해주셨어요.', 'seq': 1}, 'c': {'name': '사용자6'}}, {'cr': {'reviewDate': neo4j.time.Date(2024, 2, 28), 'author': '사용자7', 'rating': 3, 'caption': 'r사용자7|02-28|1', 'text': '피자가 진짜 이탈리아에서 먹던 맛 그대로예요!', 'seq': 1}, 'c': {'name': '사용자7'}}, {'cr': {'reviewDate': neo4j.time.Date(2024, 9, 4), 'author': '사용자7', 'rating': 4, 'caption': 'r사용자7|09-04|1', 'text': '커피가 진하고 맛있습니다.', 'seq': 1}, 'c': {'name': '사용자7'}}, {'cr': {'reviewDate': neo4j.time.Date(2024, 10, 9), 'author': '사용자7', 'rating': 3, 'caption': 'r사용자7|10-09|1', 'text': '인테리어가 세련되고 감각적이에요.', 'seq': 1}, 'c': {'name': '사용자7'}}, {'cr': {'reviewDate': neo4j.time.Date(2024, 11, 13), 'author': '사용자7', 'rating': 4, 'caption': 'r사용자7|11-13|1', 'text': '직원분들이 친절해서 기분 좋게 식사했습니다.', 'seq': 1}, 'c': {'name': '사용자7'}}, {'cr': {'reviewDate': neo4j.time.Date(2024, 2, 10), 'author': '사용자8', 'rating': 5, 'caption': 'r사용자8|02-10|1', 'text': '인테리어가 세련되고 감각적이에요.', 'seq': 1}, 'c': {'name': '사용자8'}}, {'cr': {'reviewDate': neo4j.time.Date(2024, 5, 27), 'author': '사용자8', 'rating': 3, 'caption': 'r사용자8|05-27|1', 'text': '티라미수가 정말 부드럽고 맛있어요.', 'seq': 1}, 'c': {'name': '사용자8'}}, {'cr': {'reviewDate': neo4j.time.Date(2024, 7, 27), 'author': '사용자8', 'rating': 4, 'caption': 'r사용자8|07-27|1', 'text': '티라미수가 정말 부드럽고 맛있어요.', 'seq': 1}, 'c': {'name': '사용자8'}}, {'cr': {'reviewDate': neo4j.time.Date(2024, 10, 3), 'author': '사용자8', 'rating': 3, 'caption': 'r사용자8|10-03|1', 'text': '분위기가 좋아서 데이트 장소로 딱입니다.', 'seq': 1}, 'c': {'name': '사용자8'}}, {'cr': {'reviewDate': neo4j.time.Date(2024, 2, 22), 'author': '사용자9', 'rating': 4, 'caption': 'r사용자9|02-22|1', 'text': '인테리어가 세련되고 감각적이에요.', 'seq': 1}, 'c': {'name': '사용자9'}}, {'cr': {'reviewDate': neo4j.time.Date(2024, 4, 24), 'author': '사용자9', 'rating': 4, 'caption': 'r사용자9|04-24|1', 'text': '피자가 진짜 이탈리아에서 먹던 맛 그대로예요!', 'seq': 1}, 'c': {'name': '사용자9'}}, {'cr': {'reviewDate': neo4j.time.Date(2024, 1, 7), 'author': '사용자11', 'rating': 5, 'caption': 'r사용자11|01-07|1', 'text': '분위기가 좋아서 데이트 장소로 딱입니다.', 'seq': 1}, 'c': {'name': '사용자11'}}, {'cr': {'reviewDate': neo4j.time.Date(2024, 1, 17), 'author': '사용자11', 'rating': 4, 'caption': 'r사용자11|01-17|1', 'text': '직원분들이 친절해서 기분 좋게 식사했습니다.', 'seq': 1}, 'c': {'name': '사용자11'}}, {'cr': {'reviewDate': neo4j.time.Date(2024, 4, 8), 'author': '사용자11', 'rating': 4, 'caption': 'r사용자11|04-08|1', 'text': '직원분들이 친절해서 기분 좋게 식사했습니다.', 'seq': 1}, 'c': {'name': '사용자11'}}, {'cr': {'reviewDate': neo4j.time.Date(2024, 12, 28), 'author': '사용자11', 'rating': 3, 'caption': 'r사용자11|12-28|1', 'text': '분위기가 좋아서 데이트 장소로 딱입니다.', 'seq': 1}, 'c': {'name': '사용자11'}}, {'cr': {'reviewDate': neo4j.time.Date(2024, 2, 12), 'author': '사용자12', 'rating': 5, 'caption': 'r사용자12|02-12|1', 'text': '조용하고 아늑해서 혼자 책 읽기 좋아요.', 'seq': 1}, 'c': {'name': '사용자12'}}, {'cr': {'reviewDate': neo4j.time.Date(2024, 4, 5), 'author': '사용자12', 'rating': 3, 'caption': 'r사용자12|04-05|1', 'text': '조용하고 아늑해서 혼자 책 읽기 좋아요.', 'seq': 1}, 'c': {'name': '사용자12'}}, {'cr': {'reviewDate': neo4j.time.Date(2024, 4, 12), 'author': '사용자12', 'rating': 5, 'caption': 'r사용자12|04-12|1', 'text': '조용하고 아늑해서 혼자 책 읽기 좋아요.', 'seq': 1}, 'c': {'name': '사용자12'}}, {'cr': {'reviewDate': neo4j.time.Date(2024, 7, 20), 'author': '사용자12', 'rating': 3, 'caption': 'r사용자12|07-20|1', 'text': '가격은 조금 비싸지만 서비스는 만족스러워요.', 'seq': 1}, 'c': {'name': '사용자12'}}, {'cr': {'reviewDate': neo4j.time.Date(2024, 9, 1), 'author': '사용자12', 'rating': 3, 'caption': 'r사용자12|09-01|1', 'text': '예약 없이 갔는데도 자리 안내를 잘해주셨어요.', 'seq': 1}, 'c': {'name': '사용자12'}}, {'cr': {'reviewDate': neo4j.time.Date(2024, 10, 29), 'author': '사용자12', 'rating': 3, 'caption': 'r사용자12|10-29|1', 'text': '티라미수가 정말 부드럽고 맛있어요.', 'seq': 1}, 'c': {'name': '사용자12'}}, {'cr': {'reviewDate': neo4j.time.Date(2024, 3, 19), 'author': '사용자13', 'rating': 5, 'caption': 'r사용자13|03-19|1', 'text': '예약 없이 갔는데도 자리 안내를 잘해주셨어요.', 'seq': 1}, 'c': {'name': '사용자13'}}, {'cr': {'reviewDate': neo4j.time.Date(2024, 11, 20), 'author': '사용자13', 'rating': 3, 'caption': 'r사용자13|11-20|1', 'text': '피자가 진짜 이탈리아에서 먹던 맛 그대로예요!', 'seq': 1}, 'c': {'name': '사용자13'}}, {'cr': {'reviewDate': neo4j.time.Date(2024, 4, 21), 'author': '사용자14', 'rating': 5, 'caption': 'r사용자14|04-21|1', 'text': '분위기가 좋아서 데이트 장소로 딱입니다.', 'seq': 1}, 'c': {'name': '사용자14'}}, {'cr': {'reviewDate': neo4j.time.Date(2024, 7, 8), 'author': '사용자14', 'rating': 3, 'caption': 'r사용자14|07-08|1', 'text': '파스타 면이 알덴테로 딱 맞게 익혀져 있네요.', 'seq': 1}, 'c': {'name': '사용자14'}}, {'cr': {'reviewDate': neo4j.time.Date(2024, 9, 5), 'author': '사용자14', 'rating': 3, 'caption': 'r사용자14|09-05|1', 'text': '가격은 조금 비싸지만 서비스는 만족스러워요.', 'seq': 1}, 'c': {'name': '사용자14'}}, {'cr': {'reviewDate': neo4j.time.Date(2024, 3, 4), 'author': '사용자15', 'rating': 4, 'caption': 'r사용자15|03-04|1', 'text': '직원분들이 친절해서 기분 좋게 식사했습니다.', 'seq': 1}, 'c': {'name': '사용자15'}}, {'cr': {'reviewDate': neo4j.time.Date(2024, 8, 4), 'author': '사용자15', 'rating': 5, 'caption': 'r사용자15|08-04|1', 'text': '티라미수가 정말 부드럽고 맛있어요.', 'seq': 1}, 'c': {'name': '사용자15'}}, {'cr': {'reviewDate': neo4j.time.Date(2024, 9, 10), 'author': '사용자15', 'rating': 4, 'caption': 'r사용자15|09-10|1', 'text': '티라미수가 정말 부드럽고 맛있어요.', 'seq': 1}, 'c': {'name': '사용자15'}}, {'cr': {'reviewDate': neo4j.time.Date(2024, 8, 30), 'author': '사용자16', 'rating': 4, 'caption': 'r사용자16|08-30|1', 'text': '커피가 진하고 맛있습니다.', 'seq': 1}, 'c': {'name': '사용자16'}}, {'cr': {'reviewDate': neo4j.time.Date(2024, 1, 5), 'author': '사용자17', 'rating': 4, 'caption': 'r사용자17|01-05|1', 'text': '분위기가 좋아서 데이트 장소로 딱입니다.', 'seq': 1}, 'c': {'name': '사용자17'}}, {'cr': {'reviewDate': neo4j.time.Date(2024, 7, 9), 'author': '사용자17', 'rating': 4, 'caption': 'r사용자17|07-09|1', 'text': '피자가 진짜 이탈리아에서 먹던 맛 그대로예요!', 'seq': 1}, 'c': {'name': '사용자17'}}, {'cr': {'reviewDate': neo4j.time.Date(2024, 7, 28), 'author': '사용자17', 'rating': 3, 'caption': 'r사용자17|07-28|1', 'text': '예약 없이 갔는데도 자리 안내를 잘해주셨어요.', 'seq': 1}, 'c': {'name': '사용자17'}}, {'cr': {'reviewDate': neo4j.time.Date(2024, 2, 23), 'author': '사용자19', 'rating': 5, 'caption': 'r사용자19|02-23|1', 'text': '커피가 진하고 맛있습니다.', 'seq': 1}, 'c': {'name': '사용자19'}}, {'cr': {'reviewDate': neo4j.time.Date(2024, 3, 12), 'author': '사용자19', 'rating': 5, 'caption': 'r사용자19|03-12|1', 'text': '분위기가 좋아서 데이트 장소로 딱입니다.', 'seq': 1}, 'c': {'name': '사용자19'}}, {'cr': {'reviewDate': neo4j.time.Date(2024, 3, 27), 'author': '사용자19', 'rating': 5, 'caption': 'r사용자19|03-27|1', 'text': '분위기가 좋아서 데이트 장소로 딱입니다.', 'seq': 1}, 'c': {'name': '사용자19'}}, {'cr': {'reviewDate': neo4j.time.Date(2024, 4, 9), 'author': '사용자19', 'rating': 5, 'caption': 'r사용자19|04-09|1', 'text': '직원분들이 친절해서 기분 좋게 식사했습니다.', 'seq': 1}, 'c': {'name': '사용자19'}}, {'cr': {'reviewDate': neo4j.time.Date(2024, 2, 14), 'author': '사용자19', 'rating': 5, 'caption': 'r사용자19|02-14|1', 'text': '파스타 면이 알덴테로 딱 맞게 익혀져 있네요.', 'seq': 1}, 'c': {'name': '사용자19'}}, {'cr': {'reviewDate': neo4j.time.Date(2024, 9, 12), 'author': '사용자20', 'rating': 4, 'caption': 'r사용자20|09-12|1', 'text': '분위기가 좋아서 데이트 장소로 딱입니다.', 'seq': 1}, 'c': {'name': '사용자20'}}, {'cr': {'reviewDate': neo4j.time.Date(2024, 12, 3), 'author': '사용자20', 'rating': 5, 'caption': 'r사용자20|12-03|1', 'text': '예약 없이 갔는데도 자리 안내를 잘해주셨어요.', 'seq': 1}, 'c': {'name': '사용자20'}}, {'cr': {'reviewDate': neo4j.time.Date(2024, 4, 23), 'author': '사용자21', 'rating': 3, 'caption': 'r사용자21|04-23|1', 'text': '피자가 진짜 이탈리아에서 먹던 맛 그대로예요!', 'seq': 1}, 'c': {'name': '사용자21'}}, {'cr': {'reviewDate': neo4j.time.Date(2024, 10, 16), 'author': '사용자21', 'rating': 4, 'caption': 'r사용자21|10-16|1', 'text': '인테리어가 세련되고 감각적이에요.', 'seq': 1}, 'c': {'name': '사용자21'}}, {'cr': {'reviewDate': neo4j.time.Date(2024, 10, 9), 'author': '사용자23', 'rating': 5, 'caption': 'r사용자23|10-09|1', 'text': '파스타 면이 알덴테로 딱 맞게 익혀져 있네요.', 'seq': 1}, 'c': {'name': '사용자23'}}, {'cr': {'reviewDate': neo4j.time.Date(2024, 10, 25), 'author': '사용자24', 'rating': 5, 'caption': 'r사용자24|10-25|1', 'text': '조용하고 아늑해서 혼자 책 읽기 좋아요.', 'seq': 1}, 'c': {'name': '사용자24'}}, {'cr': {'reviewDate': neo4j.time.Date(2024, 7, 4), 'author': '사용자25', 'rating': 3, 'caption': 'r사용자25|07-04|1', 'text': '예약 없이 갔는데도 자리 안내를 잘해주셨어요.', 'seq': 1}, 'c': {'name': '사용자25'}}, {'cr': {'reviewDate': neo4j.time.Date(2024, 7, 19), 'author': '사용자25', 'rating': 5, 'caption': 'r사용자25|07-19|1', 'text': '분위기가 좋아서 데이트 장소로 딱입니다.', 'seq': 1}, 'c': {'name': '사용자25'}}, {'cr': {'reviewDate': neo4j.time.Date(2024, 1, 6), 'author': '사용자27', 'rating': 4, 'caption': 'r사용자27|01-06|1', 'text': '티라미수가 정말 부드럽고 맛있어요.', 'seq': 1}, 'c': {'name': '사용자27'}}, {'cr': {'reviewDate': neo4j.time.Date(2024, 5, 25), 'author': '사용자27', 'rating': 4, 'caption': 'r사용자27|05-25|1', 'text': '커피가 진하고 맛있습니다.', 'seq': 1}, 'c': {'name': '사용자27'}}, {'cr': {'reviewDate': neo4j.time.Date(2024, 7, 2), 'author': '사용자28', 'rating': 4, 'caption': 'r사용자28|07-02|1', 'text': '가격은 조금 비싸지만 서비스는 만족스러워요.', 'seq': 1}, 'c': {'name': '사용자28'}}, {'cr': {'reviewDate': neo4j.time.Date(2024, 9, 10), 'author': '사용자29', 'rating': 3, 'caption': 'r사용자29|09-10|1', 'text': '분위기가 좋아서 데이트 장소로 딱입니다.', 'seq': 1}, 'c': {'name': '사용자29'}}, {'cr': {'reviewDate': neo4j.time.Date(2024, 1, 18), 'author': '사용자30', 'rating': 3, 'caption': 'r사용자30|01-18|1', 'text': '예약 없이 갔는데도 자리 안내를 잘해주셨어요.', 'seq': 1}, 'c': {'name': '사용자30'}}, {'cr': {'reviewDate': neo4j.time.Date(2024, 8, 26), 'author': '사용자30', 'rating': 3, 'caption': 'r사용자30|08-26|1', 'text': '피자가 진짜 이탈리아에서 먹던 맛 그대로예요!', 'seq': 1}, 'c': {'name': '사용자30'}}, {'cr': {'reviewDate': neo4j.time.Date(2024, 8, 31), 'author': '사용자30', 'rating': 4, 'caption': 'r사용자30|08-31|1', 'text': '파스타 면이 알덴테로 딱 맞게 익혀져 있네요.', 'seq': 1}, 'c': {'name': '사용자30'}}, {'cr': {'reviewDate': neo4j.time.Date(2024, 3, 6), 'author': '사용자31', 'rating': 5, 'caption': 'r사용자31|03-06|1', 'text': '커피가 진하고 맛있습니다.', 'seq': 1}, 'c': {'name': '사용자31'}}, {'cr': {'reviewDate': neo4j.time.Date(2024, 4, 8), 'author': '사용자31', 'rating': 3, 'caption': 'r사용자31|04-08|1', 'text': '파스타 면이 알덴테로 딱 맞게 익혀져 있네요.', 'seq': 1}, 'c': {'name': '사용자31'}}, {'cr': {'reviewDate': neo4j.time.Date(2024, 5, 22), 'author': '사용자31', 'rating': 4, 'caption': 'r사용자31|05-22|1', 'text': '예약 없이 갔는데도 자리 안내를 잘해주셨어요.', 'seq': 1}, 'c': {'name': '사용자31'}}, {'cr': {'reviewDate': neo4j.time.Date(2024, 7, 20), 'author': '사용자31', 'rating': 3, 'caption': 'r사용자31|07-20|1', 'text': '분위기가 좋아서 데이트 장소로 딱입니다.', 'seq': 1}, 'c': {'name': '사용자31'}}, {'cr': {'reviewDate': neo4j.time.Date(2024, 1, 24), 'author': '사용자32', 'rating': 4, 'caption': 'r사용자32|01-24|1', 'text': '예약 없이 갔는데도 자리 안내를 잘해주셨어요.', 'seq': 1}, 'c': {'name': '사용자32'}}, {'cr': {'reviewDate': neo4j.time.Date(2024, 5, 4), 'author': '사용자33', 'rating': 3, 'caption': 'r사용자33|05-04|1', 'text': '직원분들이 친절해서 기분 좋게 식사했습니다.', 'seq': 1}, 'c': {'name': '사용자33'}}, {'cr': {'reviewDate': neo4j.time.Date(2024, 7, 27), 'author': '사용자33', 'rating': 5, 'caption': 'r사용자33|07-27|1', 'text': '직원분들이 친절해서 기분 좋게 식사했습니다.', 'seq': 1}, 'c': {'name': '사용자33'}}, {'cr': {'reviewDate': neo4j.time.Date(2024, 10, 1), 'author': '사용자33', 'rating': 4, 'caption': 'r사용자33|10-01|1', 'text': '피자가 진짜 이탈리아에서 먹던 맛 그대로예요!', 'seq': 1}, 'c': {'name': '사용자33'}}, {'cr': {'reviewDate': neo4j.time.Date(2024, 6, 6), 'author': '사용자34', 'rating': 5, 'caption': 'r사용자34|06-06|1', 'text': '피자가 진짜 이탈리아에서 먹던 맛 그대로예요!', 'seq': 1}, 'c': {'name': '사용자34'}}, {'cr': {'reviewDate': neo4j.time.Date(2024, 7, 17), 'author': '사용자34', 'rating': 3, 'caption': 'r사용자34|07-17|1', 'text': '피자가 진짜 이탈리아에서 먹던 맛 그대로예요!', 'seq': 1}, 'c': {'name': '사용자34'}}, {'cr': {'reviewDate': neo4j.time.Date(2024, 9, 25), 'author': '사용자34', 'rating': 3, 'caption': 'r사용자34|09-25|1', 'text': '가격은 조금 비싸지만 서비스는 만족스러워요.', 'seq': 1}, 'c': {'name': '사용자34'}}, {'cr': {'reviewDate': neo4j.time.Date(2024, 10, 26), 'author': '사용자34', 'rating': 4, 'caption': 'r사용자34|10-26|1', 'text': '직원분들이 친절해서 기분 좋게 식사했습니다.', 'seq': 1}, 'c': {'name': '사용자34'}}, {'cr': {'reviewDate': neo4j.time.Date(2024, 1, 27), 'author': '사용자35', 'rating': 4, 'caption': 'r사용자35|01-27|1', 'text': '예약 없이 갔는데도 자리 안내를 잘해주셨어요.', 'seq': 1}, 'c': {'name': '사용자35'}}, {'cr': {'reviewDate': neo4j.time.Date(2024, 2, 6), 'author': '사용자35', 'rating': 3, 'caption': 'r사용자35|02-06|1', 'text': '인테리어가 세련되고 감각적이에요.', 'seq': 1}, 'c': {'name': '사용자35'}}, {'cr': {'reviewDate': neo4j.time.Date(2024, 9, 3), 'author': '사용자35', 'rating': 5, 'caption': 'r사용자35|09-03|1', 'text': '예약 없이 갔는데도 자리 안내를 잘해주셨어요.', 'seq': 1}, 'c': {'name': '사용자35'}}, {'cr': {'reviewDate': neo4j.time.Date(2024, 4, 6), 'author': '사용자36', 'rating': 5, 'caption': 'r사용자36|04-06|1', 'text': '직원분들이 친절해서 기분 좋게 식사했습니다.', 'seq': 1}, 'c': {'name': '사용자36'}}, {'cr': {'reviewDate': neo4j.time.Date(2024, 5, 29), 'author': '사용자37', 'rating': 5, 'caption': 'r사용자37|05-29|1', 'text': '조용하고 아늑해서 혼자 책 읽기 좋아요.', 'seq': 1}, 'c': {'name': '사용자37'}}, {'cr': {'reviewDate': neo4j.time.Date(2024, 7, 15), 'author': '사용자37', 'rating': 5, 'caption': 'r사용자37|07-15|1', 'text': '예약 없이 갔는데도 자리 안내를 잘해주셨어요.', 'seq': 1}, 'c': {'name': '사용자37'}}, {'cr': {'reviewDate': neo4j.time.Date(2024, 7, 29), 'author': '사용자38', 'rating': 4, 'caption': 'r사용자38|07-29|1', 'text': '티라미수가 정말 부드럽고 맛있어요.', 'seq': 1}, 'c': {'name': '사용자38'}}, {'cr': {'reviewDate': neo4j.time.Date(2024, 4, 27), 'author': '사용자39', 'rating': 3, 'caption': 'r사용자39|04-27|1', 'text': '파스타 면이 알덴테로 딱 맞게 익혀져 있네요.', 'seq': 1}, 'c': {'name': '사용자39'}}, {'cr': {'reviewDate': neo4j.time.Date(2024, 12, 12), 'author': '사용자39', 'rating': 3, 'caption': 'r사용자39|12-12|1', 'text': '티라미수가 정말 부드럽고 맛있어요.', 'seq': 1}, 'c': {'name': '사용자39'}}, {'cr': {'reviewDate': neo4j.time.Date(2024, 9, 2), 'author': '사용자40', 'rating': 3, 'caption': 'r사용자40|09-02|1', 'text': '예약 없이 갔는데도 자리 안내를 잘해주셨어요.', 'seq': 1}, 'c': {'name': '사용자40'}}, {'cr': {'reviewDate': neo4j.time.Date(2024, 12, 23), 'author': '사용자40', 'rating': 3, 'caption': 'r사용자40|12-23|1', 'text': '커피가 진하고 맛있습니다.', 'seq': 1}, 'c': {'name': '사용자40'}}, {'cr': {'reviewDate': neo4j.time.Date(2024, 3, 11), 'author': '사용자41', 'rating': 3, 'caption': 'r사용자41|03-11|1', 'text': '티라미수가 정말 부드럽고 맛있어요.', 'seq': 1}, 'c': {'name': '사용자41'}}, {'cr': {'reviewDate': neo4j.time.Date(2024, 7, 30), 'author': '사용자41', 'rating': 3, 'caption': 'r사용자41|07-30|1', 'text': '커피가 진하고 맛있습니다.', 'seq': 1}, 'c': {'name': '사용자41'}}, {'cr': {'reviewDate': neo4j.time.Date(2024, 11, 5), 'author': '사용자41', 'rating': 4, 'caption': 'r사용자41|11-05|1', 'text': '분위기가 좋아서 데이트 장소로 딱입니다.', 'seq': 1}, 'c': {'name': '사용자41'}}, {'cr': {'reviewDate': neo4j.time.Date(2024, 11, 7), 'author': '사용자41', 'rating': 4, 'caption': 'r사용자41|11-07|1', 'text': '티라미수가 정말 부드럽고 맛있어요.', 'seq': 1}, 'c': {'name': '사용자41'}}, {'cr': {'reviewDate': neo4j.time.Date(2024, 7, 18), 'author': '사용자42', 'rating': 4, 'caption': 'r사용자42|07-18|1', 'text': '피자가 진짜 이탈리아에서 먹던 맛 그대로예요!', 'seq': 1}, 'c': {'name': '사용자42'}}, {'cr': {'reviewDate': neo4j.time.Date(2024, 10, 25), 'author': '사용자42', 'rating': 4, 'caption': 'r사용자42|10-25|1', 'text': '직원분들이 친절해서 기분 좋게 식사했습니다.', 'seq': 1}, 'c': {'name': '사용자42'}}, {'cr': {'reviewDate': neo4j.time.Date(2024, 3, 2), 'author': '사용자43', 'rating': 4, 'caption': 'r사용자43|03-02|1', 'text': '인테리어가 세련되고 감각적이에요.', 'seq': 1}, 'c': {'name': '사용자43'}}, {'cr': {'reviewDate': neo4j.time.Date(2024, 4, 30), 'author': '사용자43', 'rating': 4, 'caption': 'r사용자43|04-30|1', 'text': '가격은 조금 비싸지만 서비스는 만족스러워요.', 'seq': 1}, 'c': {'name': '사용자43'}}, {'cr': {'reviewDate': neo4j.time.Date(2024, 1, 17), 'author': '사용자44', 'rating': 5, 'caption': 'r사용자44|01-17|1', 'text': '파스타 면이 알덴테로 딱 맞게 익혀져 있네요.', 'seq': 1}, 'c': {'name': '사용자44'}}, {'cr': {'reviewDate': neo4j.time.Date(2024, 7, 21), 'author': '사용자44', 'rating': 3, 'caption': 'r사용자44|07-21|1', 'text': '파스타 면이 알덴테로 딱 맞게 익혀져 있네요.', 'seq': 1}, 'c': {'name': '사용자44'}}, {'cr': {'reviewDate': neo4j.time.Date(2024, 8, 3), 'author': '사용자44', 'rating': 3, 'caption': 'r사용자44|08-03|1', 'text': '직원분들이 친절해서 기분 좋게 식사했습니다.', 'seq': 1}, 'c': {'name': '사용자44'}}, {'cr': {'reviewDate': neo4j.time.Date(2024, 1, 11), 'author': '사용자45', 'rating': 4, 'caption': 'r사용자45|01-11|1', 'text': '조용하고 아늑해서 혼자 책 읽기 좋아요.', 'seq': 1}, 'c': {'name': '사용자45'}}, {'cr': {'reviewDate': neo4j.time.Date(2024, 5, 21), 'author': '사용자45', 'rating': 3, 'caption': 'r사용자45|05-21|1', 'text': '조용하고 아늑해서 혼자 책 읽기 좋아요.', 'seq': 1}, 'c': {'name': '사용자45'}}, {'cr': {'reviewDate': neo4j.time.Date(2024, 6, 10), 'author': '사용자45', 'rating': 5, 'caption': 'r사용자45|06-10|1', 'text': '가격은 조금 비싸지만 서비스는 만족스러워요.', 'seq': 1}, 'c': {'name': '사용자45'}}, {'cr': {'reviewDate': neo4j.time.Date(2024, 6, 11), 'author': '사용자45', 'rating': 3, 'caption': 'r사용자45|06-11|1', 'text': '티라미수가 정말 부드럽고 맛있어요.', 'seq': 1}, 'c': {'name': '사용자45'}}, {'cr': {'reviewDate': neo4j.time.Date(2024, 3, 16), 'author': '사용자46', 'rating': 5, 'caption': 'r사용자46|03-16|1', 'text': '커피가 진하고 맛있습니다.', 'seq': 1}, 'c': {'name': '사용자46'}}, {'cr': {'reviewDate': neo4j.time.Date(2024, 1, 7), 'author': '사용자47', 'rating': 4, 'caption': 'r사용자47|01-07|1', 'text': '커피가 진하고 맛있습니다.', 'seq': 1}, 'c': {'name': '사용자47'}}, {'cr': {'reviewDate': neo4j.time.Date(2024, 2, 13), 'author': '사용자47', 'rating': 3, 'caption': 'r사용자47|02-13|1', 'text': '조용하고 아늑해서 혼자 책 읽기 좋아요.', 'seq': 1}, 'c': {'name': '사용자47'}}, {'cr': {'reviewDate': neo4j.time.Date(2024, 4, 15), 'author': '사용자47', 'rating': 3, 'caption': 'r사용자47|04-15|1', 'text': '예약 없이 갔는데도 자리 안내를 잘해주셨어요.', 'seq': 1}, 'c': {'name': '사용자47'}}, {'cr': {'reviewDate': neo4j.time.Date(2024, 7, 5), 'author': '사용자47', 'rating': 4, 'caption': 'r사용자47|07-05|1', 'text': '분위기가 좋아서 데이트 장소로 딱입니다.', 'seq': 1}, 'c': {'name': '사용자47'}}, {'cr': {'reviewDate': neo4j.time.Date(2024, 11, 5), 'author': '사용자47', 'rating': 4, 'caption': 'r사용자47|11-05|1', 'text': '커피가 진하고 맛있습니다.', 'seq': 1}, 'c': {'name': '사용자47'}}, {'cr': {'reviewDate': neo4j.time.Date(2024, 8, 5), 'author': '사용자48', 'rating': 5, 'caption': 'r사용자48|08-05|1', 'text': '커피가 진하고 맛있습니다.', 'seq': 1}, 'c': {'name': '사용자48'}}, {'cr': {'reviewDate': neo4j.time.Date(2024, 8, 18), 'author': '사용자48', 'rating': 4, 'caption': 'r사용자48|08-18|1', 'text': '직원분들이 친절해서 기분 좋게 식사했습니다.', 'seq': 1}, 'c': {'name': '사용자48'}}, {'cr': {'reviewDate': neo4j.time.Date(2024, 6, 24), 'author': '사용자49', 'rating': 5, 'caption': 'r사용자49|06-24|1', 'text': '티라미수가 정말 부드럽고 맛있어요.', 'seq': 1}, 'c': {'name': '사용자49'}}, {'cr': {'reviewDate': neo4j.time.Date(2024, 7, 23), 'author': '사용자49', 'rating': 3, 'caption': 'r사용자49|07-23|1', 'text': '파스타 면이 알덴테로 딱 맞게 익혀져 있네요.', 'seq': 1}, 'c': {'name': '사용자49'}}, {'cr': {'reviewDate': neo4j.time.Date(2024, 8, 3), 'author': '사용자49', 'rating': 3, 'caption': 'r사용자49|08-03|1', 'text': '티라미수가 정말 부드럽고 맛있어요.', 'seq': 1}, 'c': {'name': '사용자49'}}, {'cr': {'reviewDate': neo4j.time.Date(2024, 9, 27), 'author': '사용자49', 'rating': 4, 'caption': 'r사용자49|09-27|1', 'text': '직원분들이 친절해서 기분 좋게 식사했습니다.', 'seq': 1}, 'c': {'name': '사용자49'}}, {'cr': {'reviewDate': neo4j.time.Date(2024, 10, 6), 'author': '사용자49', 'rating': 3, 'caption': 'r사용자49|10-06|1', 'text': '커피가 진하고 맛있습니다.', 'seq': 1}, 'c': {'name': '사용자49'}}, {'cr': {'reviewDate': neo4j.time.Date(2024, 4, 24), 'author': '사용자9', 'rating': 4, 'caption': 'r사용자9|04-24|2', 'text': '인테리어가 세련되고 감각적이에요.', 'seq': 2}, 'c': {'name': '사용자9'}}]\n",
            "- Q: 각 해당 Customer 노드의 name 속성 값은 무엇인가? | Result: [{'name': '사용자1'}, {'name': '사용자2'}, {'name': '사용자3'}, {'name': '사용자4'}, {'name': '사용자5'}, {'name': '사용자6'}, {'name': '사용자7'}, {'name': '사용자8'}, {'name': '사용자9'}, {'name': '사용자10'}, {'name': '사용자11'}, {'name': '사용자12'}, {'name': '사용자13'}, {'name': '사용자14'}, {'name': '사용자15'}, {'name': '사용자16'}, {'name': '사용자17'}, {'name': '사용자18'}, {'name': '사용자19'}, {'name': '사용자20'}, {'name': '사용자21'}, {'name': '사용자22'}, {'name': '사용자23'}, {'name': '사용자24'}, {'name': '사용자25'}, {'name': '사용자26'}, {'name': '사용자27'}, {'name': '사용자28'}, {'name': '사용자29'}, {'name': '사용자30'}, {'name': '사용자31'}, {'name': '사용자32'}, {'name': '사용자33'}, {'name': '사용자34'}, {'name': '사용자35'}, {'name': '사용자36'}, {'name': '사용자37'}, {'name': '사용자38'}, {'name': '사용자39'}, {'name': '사용자40'}, {'name': '사용자41'}, {'name': '사용자42'}, {'name': '사용자43'}, {'name': '사용자44'}, {'name': '사용자45'}, {'name': '사용자46'}, {'name': '사용자47'}, {'name': '사용자48'}, {'name': '사용자49'}, {'name': '사용자50'}, {'name': '사용자51'}]\n",
            "- Q: 중복을 제거한(유일한) 2024년 상반기(1~6월)에 rating 4 이상인 리뷰를 남긴 고객 이름들의 목록은 무엇인가? | Result: [{'name': '사용자11'}, {'name': '사용자12'}, {'name': '사용자13'}, {'name': '사용자14'}, {'name': '사용자15'}, {'name': '사용자17'}, {'name': '사용자19'}, {'name': '사용자2'}, {'name': '사용자27'}, {'name': '사용자3'}, {'name': '사용자31'}, {'name': '사용자32'}, {'name': '사용자34'}, {'name': '사용자35'}, {'name': '사용자36'}, {'name': '사용자37'}, {'name': '사용자43'}, {'name': '사용자44'}, {'name': '사용자45'}, {'name': '사용자46'}, {'name': '사용자47'}, {'name': '사용자49'}, {'name': '사용자8'}, {'name': '사용자9'}]\n",
            "\n"
          ]
        }
      ],
      "source": [
        "# 예시 호출 (실제 실행 시 주석 해제 및 graph, llm 객체 필요)\n",
        "final_context, detailed_results = execute_sub_queries(question, sub_queries, graph, llm)\n",
        "print(\"--- LLM에게 전달할 최종 Context ---\")\n",
        "print(final_context)"
      ]
    },
    {
      "cell_type": "code",
      "execution_count": 75,
      "metadata": {},
      "outputs": [
        {
          "data": {
            "text/plain": [
              "\"Original User Question: 2024년 상반기(1~6월)에 긍정적인 리뷰(4점 이상)를 남긴 고객들이 누구인지 확인\\n\\nContextual Data Retrieved:\\n- Q: 2024-01-01부터 2024-06-30 사이(reviewDate 범위)에 작성된 CustomerReview 노드 중 rating이 4 이상인 리뷰들은 어떤 것들인가? | Result: [{'reviewDate': neo4j.time.Date(2024, 1, 5), 'rating': 4, 'text': '분위기가 좋아서 데이트 장소로 딱입니다.', 'author': '사용자17', 'caption': 'r사용자17|01-05|1', 'seq': 1}, {'reviewDate': neo4j.time.Date(2024, 1, 6), 'rating': 4, 'text': '티라미수가 정말 부드럽고 맛있어요.', 'author': '사용자27', 'caption': 'r사용자27|01-06|1', 'seq': 1}, {'reviewDate': neo4j.time.Date(2024, 1, 7), 'rating': 5, 'text': '분위기가 좋아서 데이트 장소로 딱입니다.', 'author': '사용자11', 'caption': 'r사용자11|01-07|1', 'seq': 1}, {'reviewDate': neo4j.time.Date(2024, 1, 7), 'rating': 4, 'text': '커피가 진하고 맛있습니다.', 'author': '사용자47', 'caption': 'r사용자47|01-07|1', 'seq': 1}, {'reviewDate': neo4j.time.Date(2024, 1, 11), 'rating': 4, 'text': '조용하고 아늑해서 혼자 책 읽기 좋아요.', 'author': '사용자45', 'caption': 'r사용자45|01-11|1', 'seq': 1}, {'reviewDate': neo4j.time.Date(2024, 1, 17), 'rating': 4, 'text': '직원분들이 친절해서 기분 좋게 식사했습니다.', 'author': '사용자11', 'caption': 'r사용자11|01-17|1', 'seq': 1}, {'reviewDate': neo4j.time.Date(2024, 1, 17), 'rating': 5, 'text': '파스타 면이 알덴테로 딱 맞게 익혀져 있네요.', 'author': '사용자44', 'caption': 'r사용자44|01-17|1', 'seq': 1}, {'reviewDate': neo4j.time.Date(2024, 1, 24), 'rating': 4, 'text': '예약 없이 갔는데도 자리 안내를 잘해주셨어요.', 'author': '사용자32', 'caption': 'r사용자32|01-24|1', 'seq': 1}, {'reviewDate': neo4j.time.Date(2024, 1, 27), 'rating': 4, 'text': '예약 없이 갔는데도 자리 안내를 잘해주셨어요.', 'author': '사용자35', 'caption': 'r사용자35|01-27|1', 'seq': 1}, {'reviewDate': neo4j.time.Date(2024, 2, 10), 'rating': 5, 'text': '인테리어가 세련되고 감각적이에요.', 'author': '사용자8', 'caption': 'r사용자8|02-10|1', 'seq': 1}, {'reviewDate': neo4j.time.Date(2024, 2, 12), 'rating': 5, 'text': '조용하고 아늑해서 혼자 책 읽기 좋아요.', 'author': '사용자12', 'caption': 'r사용자12|02-12|1', 'seq': 1}, {'reviewDate': neo4j.time.Date(2024, 2, 14), 'rating': 5, 'text': '파스타 면이 알덴테로 딱 맞게 익혀져 있네요.', 'author': '사용자19', 'caption': 'r사용자19|02-14|1', 'seq': 1}, {'reviewDate': neo4j.time.Date(2024, 2, 22), 'rating': 4, 'text': '인테리어가 세련되고 감각적이에요.', 'author': '사용자9', 'caption': 'r사용자9|02-22|1', 'seq': 1}, {'reviewDate': neo4j.time.Date(2024, 2, 23), 'rating': 5, 'text': '커피가 진하고 맛있습니다.', 'author': '사용자19', 'caption': 'r사용자19|02-23|1', 'seq': 1}, {'reviewDate': neo4j.time.Date(2024, 3, 2), 'rating': 4, 'text': '인테리어가 세련되고 감각적이에요.', 'author': '사용자43', 'caption': 'r사용자43|03-02|1', 'seq': 1}, {'reviewDate': neo4j.time.Date(2024, 3, 4), 'rating': 4, 'text': '직원분들이 친절해서 기분 좋게 식사했습니다.', 'author': '사용자15', 'caption': 'r사용자15|03-04|1', 'seq': 1}, {'reviewDate': neo4j.time.Date(2024, 3, 6), 'rating': 5, 'text': '커피가 진하고 맛있습니다.', 'author': '사용자31', 'caption': 'r사용자31|03-06|1', 'seq': 1}, {'reviewDate': neo4j.time.Date(2024, 3, 12), 'rating': 5, 'text': '분위기가 좋아서 데이트 장소로 딱입니다.', 'author': '사용자19', 'caption': 'r사용자19|03-12|1', 'seq': 1}, {'reviewDate': neo4j.time.Date(2024, 3, 16), 'rating': 5, 'text': '커피가 진하고 맛있습니다.', 'author': '사용자46', 'caption': 'r사용자46|03-16|1', 'seq': 1}, {'reviewDate': neo4j.time.Date(2024, 3, 19), 'rating': 5, 'text': '예약 없이 갔는데도 자리 안내를 잘해주셨어요.', 'author': '사용자13', 'caption': 'r사용자13|03-19|1', 'seq': 1}, {'reviewDate': neo4j.time.Date(2024, 3, 23), 'rating': 4, 'text': '피자가 진짜 이탈리아에서 먹던 맛 그대로예요!', 'author': '사용자2', 'caption': 'r사용자2|03-23|1', 'seq': 1}, {'reviewDate': neo4j.time.Date(2024, 3, 27), 'rating': 5, 'text': '분위기가 좋아서 데이트 장소로 딱입니다.', 'author': '사용자19', 'caption': 'r사용자19|03-27|1', 'seq': 1}, {'reviewDate': neo4j.time.Date(2024, 4, 6), 'rating': 5, 'text': '직원분들이 친절해서 기분 좋게 식사했습니다.', 'author': '사용자36', 'caption': 'r사용자36|04-06|1', 'seq': 1}, {'reviewDate': neo4j.time.Date(2024, 4, 8), 'rating': 4, 'text': '직원분들이 친절해서 기분 좋게 식사했습니다.', 'author': '사용자11', 'caption': 'r사용자11|04-08|1', 'seq': 1}, {'reviewDate': neo4j.time.Date(2024, 4, 9), 'rating': 5, 'text': '직원분들이 친절해서 기분 좋게 식사했습니다.', 'author': '사용자19', 'caption': 'r사용자19|04-09|1', 'seq': 1}, {'reviewDate': neo4j.time.Date(2024, 4, 12), 'rating': 5, 'text': '조용하고 아늑해서 혼자 책 읽기 좋아요.', 'author': '사용자12', 'caption': 'r사용자12|04-12|1', 'seq': 1}, {'reviewDate': neo4j.time.Date(2024, 4, 21), 'rating': 5, 'text': '분위기가 좋아서 데이트 장소로 딱입니다.', 'author': '사용자14', 'caption': 'r사용자14|04-21|1', 'seq': 1}, {'reviewDate': neo4j.time.Date(2024, 4, 24), 'rating': 4, 'text': '피자가 진짜 이탈리아에서 먹던 맛 그대로예요!', 'author': '사용자9', 'caption': 'r사용자9|04-24|1', 'seq': 1}, {'reviewDate': neo4j.time.Date(2024, 4, 24), 'rating': 4, 'text': '인테리어가 세련되고 감각적이에요.', 'author': '사용자9', 'caption': 'r사용자9|04-24|2', 'seq': 2}, {'reviewDate': neo4j.time.Date(2024, 4, 30), 'rating': 4, 'text': '가격은 조금 비싸지만 서비스는 만족스러워요.', 'author': '사용자43', 'caption': 'r사용자43|04-30|1', 'seq': 1}, {'reviewDate': neo4j.time.Date(2024, 5, 22), 'rating': 4, 'text': '예약 없이 갔는데도 자리 안내를 잘해주셨어요.', 'author': '사용자31', 'caption': 'r사용자31|05-22|1', 'seq': 1}, {'reviewDate': neo4j.time.Date(2024, 5, 25), 'rating': 4, 'text': '커피가 진하고 맛있습니다.', 'author': '사용자27', 'caption': 'r사용자27|05-25|1', 'seq': 1}, {'reviewDate': neo4j.time.Date(2024, 5, 29), 'rating': 5, 'text': '조용하고 아늑해서 혼자 책 읽기 좋아요.', 'author': '사용자37', 'caption': 'r사용자37|05-29|1', 'seq': 1}, {'reviewDate': neo4j.time.Date(2024, 6, 6), 'rating': 5, 'text': '피자가 진짜 이탈리아에서 먹던 맛 그대로예요!', 'author': '사용자34', 'caption': 'r사용자34|06-06|1', 'seq': 1}, {'reviewDate': neo4j.time.Date(2024, 6, 10), 'rating': 5, 'text': '가격은 조금 비싸지만 서비스는 만족스러워요.', 'author': '사용자45', 'caption': 'r사용자45|06-10|1', 'seq': 1}, {'reviewDate': neo4j.time.Date(2024, 6, 18), 'rating': 4, 'text': '조용하고 아늑해서 혼자 책 읽기 좋아요.', 'author': '사용자2', 'caption': 'r사용자2|06-18|1', 'seq': 1}, {'reviewDate': neo4j.time.Date(2024, 6, 24), 'rating': 5, 'text': '티라미수가 정말 부드럽고 맛있어요.', 'author': '사용자49', 'caption': 'r사용자49|06-24|1', 'seq': 1}, {'reviewDate': neo4j.time.Date(2024, 6, 26), 'rating': 4, 'text': '직원분들이 친절해서 기분 좋게 식사했습니다.', 'author': '사용자3', 'caption': 'r사용자3|06-26|1', 'seq': 1}]\\n- Q: 각 해당 CustomerReview 노드가 WRITTEN_BY 관계로 연결된 Customer 노드는 누구인가? | Result: [{'cr': {'reviewDate': neo4j.time.Date(2024, 10, 3), 'author': '사용자1', 'rating': 4, 'caption': 'r사용자1|10-03|1', 'text': '직원분들이 친절해서 기분 좋게 식사했습니다.', 'seq': 1}, 'c': {'name': '사용자1'}}, {'cr': {'reviewDate': neo4j.time.Date(2024, 10, 17), 'author': '사용자1', 'rating': 5, 'caption': 'r사용자1|10-17|1', 'text': '직원분들이 친절해서 기분 좋게 식사했습니다.', 'seq': 1}, 'c': {'name': '사용자1'}}, {'cr': {'reviewDate': neo4j.time.Date(2024, 11, 10), 'author': '사용자1', 'rating': 4, 'caption': 'r사용자1|11-10|1', 'text': '직원분들이 친절해서 기분 좋게 식사했습니다.', 'seq': 1}, 'c': {'name': '사용자1'}}, {'cr': {'reviewDate': neo4j.time.Date(2024, 3, 23), 'author': '사용자2', 'rating': 4, 'caption': 'r사용자2|03-23|1', 'text': '피자가 진짜 이탈리아에서 먹던 맛 그대로예요!', 'seq': 1}, 'c': {'name': '사용자2'}}, {'cr': {'reviewDate': neo4j.time.Date(2024, 6, 18), 'author': '사용자2', 'rating': 4, 'caption': 'r사용자2|06-18|1', 'text': '조용하고 아늑해서 혼자 책 읽기 좋아요.', 'seq': 1}, 'c': {'name': '사용자2'}}, {'cr': {'reviewDate': neo4j.time.Date(2024, 6, 26), 'author': '사용자3', 'rating': 4, 'caption': 'r사용자3|06-26|1', 'text': '직원분들이 친절해서 기분 좋게 식사했습니다.', 'seq': 1}, 'c': {'name': '사용자3'}}, {'cr': {'reviewDate': neo4j.time.Date(2024, 4, 18), 'author': '사용자4', 'rating': 3, 'caption': 'r사용자4|04-18|1', 'text': '파스타 면이 알덴테로 딱 맞게 익혀져 있네요.', 'seq': 1}, 'c': {'name': '사용자4'}}, {'cr': {'reviewDate': neo4j.time.Date(2024, 6, 17), 'author': '사용자4', 'rating': 3, 'caption': 'r사용자4|06-17|1', 'text': '커피가 진하고 맛있습니다.', 'seq': 1}, 'c': {'name': '사용자4'}}, {'cr': {'reviewDate': neo4j.time.Date(2024, 9, 22), 'author': '사용자4', 'rating': 3, 'caption': 'r사용자4|09-22|1', 'text': '가격은 조금 비싸지만 서비스는 만족스러워요.', 'seq': 1}, 'c': {'name': '사용자4'}}, {'cr': {'reviewDate': neo4j.time.Date(2024, 10, 6), 'author': '사용자4', 'rating': 4, 'caption': 'r사용자4|10-06|1', 'text': '분위기가 좋아서 데이트 장소로 딱입니다.', 'seq': 1}, 'c': {'name': '사용자4'}}, {'cr': {'reviewDate': neo4j.time.Date(2024, 11, 25), 'author': '사용자4', 'rating': 4, 'caption': 'r사용자4|11-25|1', 'text': '인테리어가 세련되고 감각적이에요.', 'seq': 1}, 'c': {'name': '사용자4'}}, {'cr': {'reviewDate': neo4j.time.Date(2024, 12, 29), 'author': '사용자4', 'rating': 5, 'caption': 'r사용자4|12-29|1', 'text': '커피가 진하고 맛있습니다.', 'seq': 1}, 'c': {'name': '사용자4'}}, {'cr': {'reviewDate': neo4j.time.Date(2024, 6, 6), 'author': '사용자6', 'rating': 3, 'caption': 'r사용자6|06-06|1', 'text': '가격은 조금 비싸지만 서비스는 만족스러워요.', 'seq': 1}, 'c': {'name': '사용자6'}}, {'cr': {'reviewDate': neo4j.time.Date(2024, 7, 9), 'author': '사용자6', 'rating': 4, 'caption': 'r사용자6|07-09|1', 'text': '파스타 면이 알덴테로 딱 맞게 익혀져 있네요.', 'seq': 1}, 'c': {'name': '사용자6'}}, {'cr': {'reviewDate': neo4j.time.Date(2024, 8, 1), 'author': '사용자6', 'rating': 5, 'caption': 'r사용자6|08-01|1', 'text': '예약 없이 갔는데도 자리 안내를 잘해주셨어요.', 'seq': 1}, 'c': {'name': '사용자6'}}, {'cr': {'reviewDate': neo4j.time.Date(2024, 11, 8), 'author': '사용자6', 'rating': 5, 'caption': 'r사용자6|11-08|1', 'text': '예약 없이 갔는데도 자리 안내를 잘해주셨어요.', 'seq': 1}, 'c': {'name': '사용자6'}}, {'cr': {'reviewDate': neo4j.time.Date(2024, 2, 28), 'author': '사용자7', 'rating': 3, 'caption': 'r사용자7|02-28|1', 'text': '피자가 진짜 이탈리아에서 먹던 맛 그대로예요!', 'seq': 1}, 'c': {'name': '사용자7'}}, {'cr': {'reviewDate': neo4j.time.Date(2024, 9, 4), 'author': '사용자7', 'rating': 4, 'caption': 'r사용자7|09-04|1', 'text': '커피가 진하고 맛있습니다.', 'seq': 1}, 'c': {'name': '사용자7'}}, {'cr': {'reviewDate': neo4j.time.Date(2024, 10, 9), 'author': '사용자7', 'rating': 3, 'caption': 'r사용자7|10-09|1', 'text': '인테리어가 세련되고 감각적이에요.', 'seq': 1}, 'c': {'name': '사용자7'}}, {'cr': {'reviewDate': neo4j.time.Date(2024, 11, 13), 'author': '사용자7', 'rating': 4, 'caption': 'r사용자7|11-13|1', 'text': '직원분들이 친절해서 기분 좋게 식사했습니다.', 'seq': 1}, 'c': {'name': '사용자7'}}, {'cr': {'reviewDate': neo4j.time.Date(2024, 2, 10), 'author': '사용자8', 'rating': 5, 'caption': 'r사용자8|02-10|1', 'text': '인테리어가 세련되고 감각적이에요.', 'seq': 1}, 'c': {'name': '사용자8'}}, {'cr': {'reviewDate': neo4j.time.Date(2024, 5, 27), 'author': '사용자8', 'rating': 3, 'caption': 'r사용자8|05-27|1', 'text': '티라미수가 정말 부드럽고 맛있어요.', 'seq': 1}, 'c': {'name': '사용자8'}}, {'cr': {'reviewDate': neo4j.time.Date(2024, 7, 27), 'author': '사용자8', 'rating': 4, 'caption': 'r사용자8|07-27|1', 'text': '티라미수가 정말 부드럽고 맛있어요.', 'seq': 1}, 'c': {'name': '사용자8'}}, {'cr': {'reviewDate': neo4j.time.Date(2024, 10, 3), 'author': '사용자8', 'rating': 3, 'caption': 'r사용자8|10-03|1', 'text': '분위기가 좋아서 데이트 장소로 딱입니다.', 'seq': 1}, 'c': {'name': '사용자8'}}, {'cr': {'reviewDate': neo4j.time.Date(2024, 2, 22), 'author': '사용자9', 'rating': 4, 'caption': 'r사용자9|02-22|1', 'text': '인테리어가 세련되고 감각적이에요.', 'seq': 1}, 'c': {'name': '사용자9'}}, {'cr': {'reviewDate': neo4j.time.Date(2024, 4, 24), 'author': '사용자9', 'rating': 4, 'caption': 'r사용자9|04-24|1', 'text': '피자가 진짜 이탈리아에서 먹던 맛 그대로예요!', 'seq': 1}, 'c': {'name': '사용자9'}}, {'cr': {'reviewDate': neo4j.time.Date(2024, 1, 7), 'author': '사용자11', 'rating': 5, 'caption': 'r사용자11|01-07|1', 'text': '분위기가 좋아서 데이트 장소로 딱입니다.', 'seq': 1}, 'c': {'name': '사용자11'}}, {'cr': {'reviewDate': neo4j.time.Date(2024, 1, 17), 'author': '사용자11', 'rating': 4, 'caption': 'r사용자11|01-17|1', 'text': '직원분들이 친절해서 기분 좋게 식사했습니다.', 'seq': 1}, 'c': {'name': '사용자11'}}, {'cr': {'reviewDate': neo4j.time.Date(2024, 4, 8), 'author': '사용자11', 'rating': 4, 'caption': 'r사용자11|04-08|1', 'text': '직원분들이 친절해서 기분 좋게 식사했습니다.', 'seq': 1}, 'c': {'name': '사용자11'}}, {'cr': {'reviewDate': neo4j.time.Date(2024, 12, 28), 'author': '사용자11', 'rating': 3, 'caption': 'r사용자11|12-28|1', 'text': '분위기가 좋아서 데이트 장소로 딱입니다.', 'seq': 1}, 'c': {'name': '사용자11'}}, {'cr': {'reviewDate': neo4j.time.Date(2024, 2, 12), 'author': '사용자12', 'rating': 5, 'caption': 'r사용자12|02-12|1', 'text': '조용하고 아늑해서 혼자 책 읽기 좋아요.', 'seq': 1}, 'c': {'name': '사용자12'}}, {'cr': {'reviewDate': neo4j.time.Date(2024, 4, 5), 'author': '사용자12', 'rating': 3, 'caption': 'r사용자12|04-05|1', 'text': '조용하고 아늑해서 혼자 책 읽기 좋아요.', 'seq': 1}, 'c': {'name': '사용자12'}}, {'cr': {'reviewDate': neo4j.time.Date(2024, 4, 12), 'author': '사용자12', 'rating': 5, 'caption': 'r사용자12|04-12|1', 'text': '조용하고 아늑해서 혼자 책 읽기 좋아요.', 'seq': 1}, 'c': {'name': '사용자12'}}, {'cr': {'reviewDate': neo4j.time.Date(2024, 7, 20), 'author': '사용자12', 'rating': 3, 'caption': 'r사용자12|07-20|1', 'text': '가격은 조금 비싸지만 서비스는 만족스러워요.', 'seq': 1}, 'c': {'name': '사용자12'}}, {'cr': {'reviewDate': neo4j.time.Date(2024, 9, 1), 'author': '사용자12', 'rating': 3, 'caption': 'r사용자12|09-01|1', 'text': '예약 없이 갔는데도 자리 안내를 잘해주셨어요.', 'seq': 1}, 'c': {'name': '사용자12'}}, {'cr': {'reviewDate': neo4j.time.Date(2024, 10, 29), 'author': '사용자12', 'rating': 3, 'caption': 'r사용자12|10-29|1', 'text': '티라미수가 정말 부드럽고 맛있어요.', 'seq': 1}, 'c': {'name': '사용자12'}}, {'cr': {'reviewDate': neo4j.time.Date(2024, 3, 19), 'author': '사용자13', 'rating': 5, 'caption': 'r사용자13|03-19|1', 'text': '예약 없이 갔는데도 자리 안내를 잘해주셨어요.', 'seq': 1}, 'c': {'name': '사용자13'}}, {'cr': {'reviewDate': neo4j.time.Date(2024, 11, 20), 'author': '사용자13', 'rating': 3, 'caption': 'r사용자13|11-20|1', 'text': '피자가 진짜 이탈리아에서 먹던 맛 그대로예요!', 'seq': 1}, 'c': {'name': '사용자13'}}, {'cr': {'reviewDate': neo4j.time.Date(2024, 4, 21), 'author': '사용자14', 'rating': 5, 'caption': 'r사용자14|04-21|1', 'text': '분위기가 좋아서 데이트 장소로 딱입니다.', 'seq': 1}, 'c': {'name': '사용자14'}}, {'cr': {'reviewDate': neo4j.time.Date(2024, 7, 8), 'author': '사용자14', 'rating': 3, 'caption': 'r사용자14|07-08|1', 'text': '파스타 면이 알덴테로 딱 맞게 익혀져 있네요.', 'seq': 1}, 'c': {'name': '사용자14'}}, {'cr': {'reviewDate': neo4j.time.Date(2024, 9, 5), 'author': '사용자14', 'rating': 3, 'caption': 'r사용자14|09-05|1', 'text': '가격은 조금 비싸지만 서비스는 만족스러워요.', 'seq': 1}, 'c': {'name': '사용자14'}}, {'cr': {'reviewDate': neo4j.time.Date(2024, 3, 4), 'author': '사용자15', 'rating': 4, 'caption': 'r사용자15|03-04|1', 'text': '직원분들이 친절해서 기분 좋게 식사했습니다.', 'seq': 1}, 'c': {'name': '사용자15'}}, {'cr': {'reviewDate': neo4j.time.Date(2024, 8, 4), 'author': '사용자15', 'rating': 5, 'caption': 'r사용자15|08-04|1', 'text': '티라미수가 정말 부드럽고 맛있어요.', 'seq': 1}, 'c': {'name': '사용자15'}}, {'cr': {'reviewDate': neo4j.time.Date(2024, 9, 10), 'author': '사용자15', 'rating': 4, 'caption': 'r사용자15|09-10|1', 'text': '티라미수가 정말 부드럽고 맛있어요.', 'seq': 1}, 'c': {'name': '사용자15'}}, {'cr': {'reviewDate': neo4j.time.Date(2024, 8, 30), 'author': '사용자16', 'rating': 4, 'caption': 'r사용자16|08-30|1', 'text': '커피가 진하고 맛있습니다.', 'seq': 1}, 'c': {'name': '사용자16'}}, {'cr': {'reviewDate': neo4j.time.Date(2024, 1, 5), 'author': '사용자17', 'rating': 4, 'caption': 'r사용자17|01-05|1', 'text': '분위기가 좋아서 데이트 장소로 딱입니다.', 'seq': 1}, 'c': {'name': '사용자17'}}, {'cr': {'reviewDate': neo4j.time.Date(2024, 7, 9), 'author': '사용자17', 'rating': 4, 'caption': 'r사용자17|07-09|1', 'text': '피자가 진짜 이탈리아에서 먹던 맛 그대로예요!', 'seq': 1}, 'c': {'name': '사용자17'}}, {'cr': {'reviewDate': neo4j.time.Date(2024, 7, 28), 'author': '사용자17', 'rating': 3, 'caption': 'r사용자17|07-28|1', 'text': '예약 없이 갔는데도 자리 안내를 잘해주셨어요.', 'seq': 1}, 'c': {'name': '사용자17'}}, {'cr': {'reviewDate': neo4j.time.Date(2024, 2, 23), 'author': '사용자19', 'rating': 5, 'caption': 'r사용자19|02-23|1', 'text': '커피가 진하고 맛있습니다.', 'seq': 1}, 'c': {'name': '사용자19'}}, {'cr': {'reviewDate': neo4j.time.Date(2024, 3, 12), 'author': '사용자19', 'rating': 5, 'caption': 'r사용자19|03-12|1', 'text': '분위기가 좋아서 데이트 장소로 딱입니다.', 'seq': 1}, 'c': {'name': '사용자19'}}, {'cr': {'reviewDate': neo4j.time.Date(2024, 3, 27), 'author': '사용자19', 'rating': 5, 'caption': 'r사용자19|03-27|1', 'text': '분위기가 좋아서 데이트 장소로 딱입니다.', 'seq': 1}, 'c': {'name': '사용자19'}}, {'cr': {'reviewDate': neo4j.time.Date(2024, 4, 9), 'author': '사용자19', 'rating': 5, 'caption': 'r사용자19|04-09|1', 'text': '직원분들이 친절해서 기분 좋게 식사했습니다.', 'seq': 1}, 'c': {'name': '사용자19'}}, {'cr': {'reviewDate': neo4j.time.Date(2024, 2, 14), 'author': '사용자19', 'rating': 5, 'caption': 'r사용자19|02-14|1', 'text': '파스타 면이 알덴테로 딱 맞게 익혀져 있네요.', 'seq': 1}, 'c': {'name': '사용자19'}}, {'cr': {'reviewDate': neo4j.time.Date(2024, 9, 12), 'author': '사용자20', 'rating': 4, 'caption': 'r사용자20|09-12|1', 'text': '분위기가 좋아서 데이트 장소로 딱입니다.', 'seq': 1}, 'c': {'name': '사용자20'}}, {'cr': {'reviewDate': neo4j.time.Date(2024, 12, 3), 'author': '사용자20', 'rating': 5, 'caption': 'r사용자20|12-03|1', 'text': '예약 없이 갔는데도 자리 안내를 잘해주셨어요.', 'seq': 1}, 'c': {'name': '사용자20'}}, {'cr': {'reviewDate': neo4j.time.Date(2024, 4, 23), 'author': '사용자21', 'rating': 3, 'caption': 'r사용자21|04-23|1', 'text': '피자가 진짜 이탈리아에서 먹던 맛 그대로예요!', 'seq': 1}, 'c': {'name': '사용자21'}}, {'cr': {'reviewDate': neo4j.time.Date(2024, 10, 16), 'author': '사용자21', 'rating': 4, 'caption': 'r사용자21|10-16|1', 'text': '인테리어가 세련되고 감각적이에요.', 'seq': 1}, 'c': {'name': '사용자21'}}, {'cr': {'reviewDate': neo4j.time.Date(2024, 10, 9), 'author': '사용자23', 'rating': 5, 'caption': 'r사용자23|10-09|1', 'text': '파스타 면이 알덴테로 딱 맞게 익혀져 있네요.', 'seq': 1}, 'c': {'name': '사용자23'}}, {'cr': {'reviewDate': neo4j.time.Date(2024, 10, 25), 'author': '사용자24', 'rating': 5, 'caption': 'r사용자24|10-25|1', 'text': '조용하고 아늑해서 혼자 책 읽기 좋아요.', 'seq': 1}, 'c': {'name': '사용자24'}}, {'cr': {'reviewDate': neo4j.time.Date(2024, 7, 4), 'author': '사용자25', 'rating': 3, 'caption': 'r사용자25|07-04|1', 'text': '예약 없이 갔는데도 자리 안내를 잘해주셨어요.', 'seq': 1}, 'c': {'name': '사용자25'}}, {'cr': {'reviewDate': neo4j.time.Date(2024, 7, 19), 'author': '사용자25', 'rating': 5, 'caption': 'r사용자25|07-19|1', 'text': '분위기가 좋아서 데이트 장소로 딱입니다.', 'seq': 1}, 'c': {'name': '사용자25'}}, {'cr': {'reviewDate': neo4j.time.Date(2024, 1, 6), 'author': '사용자27', 'rating': 4, 'caption': 'r사용자27|01-06|1', 'text': '티라미수가 정말 부드럽고 맛있어요.', 'seq': 1}, 'c': {'name': '사용자27'}}, {'cr': {'reviewDate': neo4j.time.Date(2024, 5, 25), 'author': '사용자27', 'rating': 4, 'caption': 'r사용자27|05-25|1', 'text': '커피가 진하고 맛있습니다.', 'seq': 1}, 'c': {'name': '사용자27'}}, {'cr': {'reviewDate': neo4j.time.Date(2024, 7, 2), 'author': '사용자28', 'rating': 4, 'caption': 'r사용자28|07-02|1', 'text': '가격은 조금 비싸지만 서비스는 만족스러워요.', 'seq': 1}, 'c': {'name': '사용자28'}}, {'cr': {'reviewDate': neo4j.time.Date(2024, 9, 10), 'author': '사용자29', 'rating': 3, 'caption': 'r사용자29|09-10|1', 'text': '분위기가 좋아서 데이트 장소로 딱입니다.', 'seq': 1}, 'c': {'name': '사용자29'}}, {'cr': {'reviewDate': neo4j.time.Date(2024, 1, 18), 'author': '사용자30', 'rating': 3, 'caption': 'r사용자30|01-18|1', 'text': '예약 없이 갔는데도 자리 안내를 잘해주셨어요.', 'seq': 1}, 'c': {'name': '사용자30'}}, {'cr': {'reviewDate': neo4j.time.Date(2024, 8, 26), 'author': '사용자30', 'rating': 3, 'caption': 'r사용자30|08-26|1', 'text': '피자가 진짜 이탈리아에서 먹던 맛 그대로예요!', 'seq': 1}, 'c': {'name': '사용자30'}}, {'cr': {'reviewDate': neo4j.time.Date(2024, 8, 31), 'author': '사용자30', 'rating': 4, 'caption': 'r사용자30|08-31|1', 'text': '파스타 면이 알덴테로 딱 맞게 익혀져 있네요.', 'seq': 1}, 'c': {'name': '사용자30'}}, {'cr': {'reviewDate': neo4j.time.Date(2024, 3, 6), 'author': '사용자31', 'rating': 5, 'caption': 'r사용자31|03-06|1', 'text': '커피가 진하고 맛있습니다.', 'seq': 1}, 'c': {'name': '사용자31'}}, {'cr': {'reviewDate': neo4j.time.Date(2024, 4, 8), 'author': '사용자31', 'rating': 3, 'caption': 'r사용자31|04-08|1', 'text': '파스타 면이 알덴테로 딱 맞게 익혀져 있네요.', 'seq': 1}, 'c': {'name': '사용자31'}}, {'cr': {'reviewDate': neo4j.time.Date(2024, 5, 22), 'author': '사용자31', 'rating': 4, 'caption': 'r사용자31|05-22|1', 'text': '예약 없이 갔는데도 자리 안내를 잘해주셨어요.', 'seq': 1}, 'c': {'name': '사용자31'}}, {'cr': {'reviewDate': neo4j.time.Date(2024, 7, 20), 'author': '사용자31', 'rating': 3, 'caption': 'r사용자31|07-20|1', 'text': '분위기가 좋아서 데이트 장소로 딱입니다.', 'seq': 1}, 'c': {'name': '사용자31'}}, {'cr': {'reviewDate': neo4j.time.Date(2024, 1, 24), 'author': '사용자32', 'rating': 4, 'caption': 'r사용자32|01-24|1', 'text': '예약 없이 갔는데도 자리 안내를 잘해주셨어요.', 'seq': 1}, 'c': {'name': '사용자32'}}, {'cr': {'reviewDate': neo4j.time.Date(2024, 5, 4), 'author': '사용자33', 'rating': 3, 'caption': 'r사용자33|05-04|1', 'text': '직원분들이 친절해서 기분 좋게 식사했습니다.', 'seq': 1}, 'c': {'name': '사용자33'}}, {'cr': {'reviewDate': neo4j.time.Date(2024, 7, 27), 'author': '사용자33', 'rating': 5, 'caption': 'r사용자33|07-27|1', 'text': '직원분들이 친절해서 기분 좋게 식사했습니다.', 'seq': 1}, 'c': {'name': '사용자33'}}, {'cr': {'reviewDate': neo4j.time.Date(2024, 10, 1), 'author': '사용자33', 'rating': 4, 'caption': 'r사용자33|10-01|1', 'text': '피자가 진짜 이탈리아에서 먹던 맛 그대로예요!', 'seq': 1}, 'c': {'name': '사용자33'}}, {'cr': {'reviewDate': neo4j.time.Date(2024, 6, 6), 'author': '사용자34', 'rating': 5, 'caption': 'r사용자34|06-06|1', 'text': '피자가 진짜 이탈리아에서 먹던 맛 그대로예요!', 'seq': 1}, 'c': {'name': '사용자34'}}, {'cr': {'reviewDate': neo4j.time.Date(2024, 7, 17), 'author': '사용자34', 'rating': 3, 'caption': 'r사용자34|07-17|1', 'text': '피자가 진짜 이탈리아에서 먹던 맛 그대로예요!', 'seq': 1}, 'c': {'name': '사용자34'}}, {'cr': {'reviewDate': neo4j.time.Date(2024, 9, 25), 'author': '사용자34', 'rating': 3, 'caption': 'r사용자34|09-25|1', 'text': '가격은 조금 비싸지만 서비스는 만족스러워요.', 'seq': 1}, 'c': {'name': '사용자34'}}, {'cr': {'reviewDate': neo4j.time.Date(2024, 10, 26), 'author': '사용자34', 'rating': 4, 'caption': 'r사용자34|10-26|1', 'text': '직원분들이 친절해서 기분 좋게 식사했습니다.', 'seq': 1}, 'c': {'name': '사용자34'}}, {'cr': {'reviewDate': neo4j.time.Date(2024, 1, 27), 'author': '사용자35', 'rating': 4, 'caption': 'r사용자35|01-27|1', 'text': '예약 없이 갔는데도 자리 안내를 잘해주셨어요.', 'seq': 1}, 'c': {'name': '사용자35'}}, {'cr': {'reviewDate': neo4j.time.Date(2024, 2, 6), 'author': '사용자35', 'rating': 3, 'caption': 'r사용자35|02-06|1', 'text': '인테리어가 세련되고 감각적이에요.', 'seq': 1}, 'c': {'name': '사용자35'}}, {'cr': {'reviewDate': neo4j.time.Date(2024, 9, 3), 'author': '사용자35', 'rating': 5, 'caption': 'r사용자35|09-03|1', 'text': '예약 없이 갔는데도 자리 안내를 잘해주셨어요.', 'seq': 1}, 'c': {'name': '사용자35'}}, {'cr': {'reviewDate': neo4j.time.Date(2024, 4, 6), 'author': '사용자36', 'rating': 5, 'caption': 'r사용자36|04-06|1', 'text': '직원분들이 친절해서 기분 좋게 식사했습니다.', 'seq': 1}, 'c': {'name': '사용자36'}}, {'cr': {'reviewDate': neo4j.time.Date(2024, 5, 29), 'author': '사용자37', 'rating': 5, 'caption': 'r사용자37|05-29|1', 'text': '조용하고 아늑해서 혼자 책 읽기 좋아요.', 'seq': 1}, 'c': {'name': '사용자37'}}, {'cr': {'reviewDate': neo4j.time.Date(2024, 7, 15), 'author': '사용자37', 'rating': 5, 'caption': 'r사용자37|07-15|1', 'text': '예약 없이 갔는데도 자리 안내를 잘해주셨어요.', 'seq': 1}, 'c': {'name': '사용자37'}}, {'cr': {'reviewDate': neo4j.time.Date(2024, 7, 29), 'author': '사용자38', 'rating': 4, 'caption': 'r사용자38|07-29|1', 'text': '티라미수가 정말 부드럽고 맛있어요.', 'seq': 1}, 'c': {'name': '사용자38'}}, {'cr': {'reviewDate': neo4j.time.Date(2024, 4, 27), 'author': '사용자39', 'rating': 3, 'caption': 'r사용자39|04-27|1', 'text': '파스타 면이 알덴테로 딱 맞게 익혀져 있네요.', 'seq': 1}, 'c': {'name': '사용자39'}}, {'cr': {'reviewDate': neo4j.time.Date(2024, 12, 12), 'author': '사용자39', 'rating': 3, 'caption': 'r사용자39|12-12|1', 'text': '티라미수가 정말 부드럽고 맛있어요.', 'seq': 1}, 'c': {'name': '사용자39'}}, {'cr': {'reviewDate': neo4j.time.Date(2024, 9, 2), 'author': '사용자40', 'rating': 3, 'caption': 'r사용자40|09-02|1', 'text': '예약 없이 갔는데도 자리 안내를 잘해주셨어요.', 'seq': 1}, 'c': {'name': '사용자40'}}, {'cr': {'reviewDate': neo4j.time.Date(2024, 12, 23), 'author': '사용자40', 'rating': 3, 'caption': 'r사용자40|12-23|1', 'text': '커피가 진하고 맛있습니다.', 'seq': 1}, 'c': {'name': '사용자40'}}, {'cr': {'reviewDate': neo4j.time.Date(2024, 3, 11), 'author': '사용자41', 'rating': 3, 'caption': 'r사용자41|03-11|1', 'text': '티라미수가 정말 부드럽고 맛있어요.', 'seq': 1}, 'c': {'name': '사용자41'}}, {'cr': {'reviewDate': neo4j.time.Date(2024, 7, 30), 'author': '사용자41', 'rating': 3, 'caption': 'r사용자41|07-30|1', 'text': '커피가 진하고 맛있습니다.', 'seq': 1}, 'c': {'name': '사용자41'}}, {'cr': {'reviewDate': neo4j.time.Date(2024, 11, 5), 'author': '사용자41', 'rating': 4, 'caption': 'r사용자41|11-05|1', 'text': '분위기가 좋아서 데이트 장소로 딱입니다.', 'seq': 1}, 'c': {'name': '사용자41'}}, {'cr': {'reviewDate': neo4j.time.Date(2024, 11, 7), 'author': '사용자41', 'rating': 4, 'caption': 'r사용자41|11-07|1', 'text': '티라미수가 정말 부드럽고 맛있어요.', 'seq': 1}, 'c': {'name': '사용자41'}}, {'cr': {'reviewDate': neo4j.time.Date(2024, 7, 18), 'author': '사용자42', 'rating': 4, 'caption': 'r사용자42|07-18|1', 'text': '피자가 진짜 이탈리아에서 먹던 맛 그대로예요!', 'seq': 1}, 'c': {'name': '사용자42'}}, {'cr': {'reviewDate': neo4j.time.Date(2024, 10, 25), 'author': '사용자42', 'rating': 4, 'caption': 'r사용자42|10-25|1', 'text': '직원분들이 친절해서 기분 좋게 식사했습니다.', 'seq': 1}, 'c': {'name': '사용자42'}}, {'cr': {'reviewDate': neo4j.time.Date(2024, 3, 2), 'author': '사용자43', 'rating': 4, 'caption': 'r사용자43|03-02|1', 'text': '인테리어가 세련되고 감각적이에요.', 'seq': 1}, 'c': {'name': '사용자43'}}, {'cr': {'reviewDate': neo4j.time.Date(2024, 4, 30), 'author': '사용자43', 'rating': 4, 'caption': 'r사용자43|04-30|1', 'text': '가격은 조금 비싸지만 서비스는 만족스러워요.', 'seq': 1}, 'c': {'name': '사용자43'}}, {'cr': {'reviewDate': neo4j.time.Date(2024, 1, 17), 'author': '사용자44', 'rating': 5, 'caption': 'r사용자44|01-17|1', 'text': '파스타 면이 알덴테로 딱 맞게 익혀져 있네요.', 'seq': 1}, 'c': {'name': '사용자44'}}, {'cr': {'reviewDate': neo4j.time.Date(2024, 7, 21), 'author': '사용자44', 'rating': 3, 'caption': 'r사용자44|07-21|1', 'text': '파스타 면이 알덴테로 딱 맞게 익혀져 있네요.', 'seq': 1}, 'c': {'name': '사용자44'}}, {'cr': {'reviewDate': neo4j.time.Date(2024, 8, 3), 'author': '사용자44', 'rating': 3, 'caption': 'r사용자44|08-03|1', 'text': '직원분들이 친절해서 기분 좋게 식사했습니다.', 'seq': 1}, 'c': {'name': '사용자44'}}, {'cr': {'reviewDate': neo4j.time.Date(2024, 1, 11), 'author': '사용자45', 'rating': 4, 'caption': 'r사용자45|01-11|1', 'text': '조용하고 아늑해서 혼자 책 읽기 좋아요.', 'seq': 1}, 'c': {'name': '사용자45'}}, {'cr': {'reviewDate': neo4j.time.Date(2024, 5, 21), 'author': '사용자45', 'rating': 3, 'caption': 'r사용자45|05-21|1', 'text': '조용하고 아늑해서 혼자 책 읽기 좋아요.', 'seq': 1}, 'c': {'name': '사용자45'}}, {'cr': {'reviewDate': neo4j.time.Date(2024, 6, 10), 'author': '사용자45', 'rating': 5, 'caption': 'r사용자45|06-10|1', 'text': '가격은 조금 비싸지만 서비스는 만족스러워요.', 'seq': 1}, 'c': {'name': '사용자45'}}, {'cr': {'reviewDate': neo4j.time.Date(2024, 6, 11), 'author': '사용자45', 'rating': 3, 'caption': 'r사용자45|06-11|1', 'text': '티라미수가 정말 부드럽고 맛있어요.', 'seq': 1}, 'c': {'name': '사용자45'}}, {'cr': {'reviewDate': neo4j.time.Date(2024, 3, 16), 'author': '사용자46', 'rating': 5, 'caption': 'r사용자46|03-16|1', 'text': '커피가 진하고 맛있습니다.', 'seq': 1}, 'c': {'name': '사용자46'}}, {'cr': {'reviewDate': neo4j.time.Date(2024, 1, 7), 'author': '사용자47', 'rating': 4, 'caption': 'r사용자47|01-07|1', 'text': '커피가 진하고 맛있습니다.', 'seq': 1}, 'c': {'name': '사용자47'}}, {'cr': {'reviewDate': neo4j.time.Date(2024, 2, 13), 'author': '사용자47', 'rating': 3, 'caption': 'r사용자47|02-13|1', 'text': '조용하고 아늑해서 혼자 책 읽기 좋아요.', 'seq': 1}, 'c': {'name': '사용자47'}}, {'cr': {'reviewDate': neo4j.time.Date(2024, 4, 15), 'author': '사용자47', 'rating': 3, 'caption': 'r사용자47|04-15|1', 'text': '예약 없이 갔는데도 자리 안내를 잘해주셨어요.', 'seq': 1}, 'c': {'name': '사용자47'}}, {'cr': {'reviewDate': neo4j.time.Date(2024, 7, 5), 'author': '사용자47', 'rating': 4, 'caption': 'r사용자47|07-05|1', 'text': '분위기가 좋아서 데이트 장소로 딱입니다.', 'seq': 1}, 'c': {'name': '사용자47'}}, {'cr': {'reviewDate': neo4j.time.Date(2024, 11, 5), 'author': '사용자47', 'rating': 4, 'caption': 'r사용자47|11-05|1', 'text': '커피가 진하고 맛있습니다.', 'seq': 1}, 'c': {'name': '사용자47'}}, {'cr': {'reviewDate': neo4j.time.Date(2024, 8, 5), 'author': '사용자48', 'rating': 5, 'caption': 'r사용자48|08-05|1', 'text': '커피가 진하고 맛있습니다.', 'seq': 1}, 'c': {'name': '사용자48'}}, {'cr': {'reviewDate': neo4j.time.Date(2024, 8, 18), 'author': '사용자48', 'rating': 4, 'caption': 'r사용자48|08-18|1', 'text': '직원분들이 친절해서 기분 좋게 식사했습니다.', 'seq': 1}, 'c': {'name': '사용자48'}}, {'cr': {'reviewDate': neo4j.time.Date(2024, 6, 24), 'author': '사용자49', 'rating': 5, 'caption': 'r사용자49|06-24|1', 'text': '티라미수가 정말 부드럽고 맛있어요.', 'seq': 1}, 'c': {'name': '사용자49'}}, {'cr': {'reviewDate': neo4j.time.Date(2024, 7, 23), 'author': '사용자49', 'rating': 3, 'caption': 'r사용자49|07-23|1', 'text': '파스타 면이 알덴테로 딱 맞게 익혀져 있네요.', 'seq': 1}, 'c': {'name': '사용자49'}}, {'cr': {'reviewDate': neo4j.time.Date(2024, 8, 3), 'author': '사용자49', 'rating': 3, 'caption': 'r사용자49|08-03|1', 'text': '티라미수가 정말 부드럽고 맛있어요.', 'seq': 1}, 'c': {'name': '사용자49'}}, {'cr': {'reviewDate': neo4j.time.Date(2024, 9, 27), 'author': '사용자49', 'rating': 4, 'caption': 'r사용자49|09-27|1', 'text': '직원분들이 친절해서 기분 좋게 식사했습니다.', 'seq': 1}, 'c': {'name': '사용자49'}}, {'cr': {'reviewDate': neo4j.time.Date(2024, 10, 6), 'author': '사용자49', 'rating': 3, 'caption': 'r사용자49|10-06|1', 'text': '커피가 진하고 맛있습니다.', 'seq': 1}, 'c': {'name': '사용자49'}}, {'cr': {'reviewDate': neo4j.time.Date(2024, 4, 24), 'author': '사용자9', 'rating': 4, 'caption': 'r사용자9|04-24|2', 'text': '인테리어가 세련되고 감각적이에요.', 'seq': 2}, 'c': {'name': '사용자9'}}]\\n- Q: 각 해당 Customer 노드의 name 속성 값은 무엇인가? | Result: [{'name': '사용자1'}, {'name': '사용자2'}, {'name': '사용자3'}, {'name': '사용자4'}, {'name': '사용자5'}, {'name': '사용자6'}, {'name': '사용자7'}, {'name': '사용자8'}, {'name': '사용자9'}, {'name': '사용자10'}, {'name': '사용자11'}, {'name': '사용자12'}, {'name': '사용자13'}, {'name': '사용자14'}, {'name': '사용자15'}, {'name': '사용자16'}, {'name': '사용자17'}, {'name': '사용자18'}, {'name': '사용자19'}, {'name': '사용자20'}, {'name': '사용자21'}, {'name': '사용자22'}, {'name': '사용자23'}, {'name': '사용자24'}, {'name': '사용자25'}, {'name': '사용자26'}, {'name': '사용자27'}, {'name': '사용자28'}, {'name': '사용자29'}, {'name': '사용자30'}, {'name': '사용자31'}, {'name': '사용자32'}, {'name': '사용자33'}, {'name': '사용자34'}, {'name': '사용자35'}, {'name': '사용자36'}, {'name': '사용자37'}, {'name': '사용자38'}, {'name': '사용자39'}, {'name': '사용자40'}, {'name': '사용자41'}, {'name': '사용자42'}, {'name': '사용자43'}, {'name': '사용자44'}, {'name': '사용자45'}, {'name': '사용자46'}, {'name': '사용자47'}, {'name': '사용자48'}, {'name': '사용자49'}, {'name': '사용자50'}, {'name': '사용자51'}]\\n- Q: 중복을 제거한(유일한) 2024년 상반기(1~6월)에 rating 4 이상인 리뷰를 남긴 고객 이름들의 목록은 무엇인가? | Result: [{'name': '사용자11'}, {'name': '사용자12'}, {'name': '사용자13'}, {'name': '사용자14'}, {'name': '사용자15'}, {'name': '사용자17'}, {'name': '사용자19'}, {'name': '사용자2'}, {'name': '사용자27'}, {'name': '사용자3'}, {'name': '사용자31'}, {'name': '사용자32'}, {'name': '사용자34'}, {'name': '사용자35'}, {'name': '사용자36'}, {'name': '사용자37'}, {'name': '사용자43'}, {'name': '사용자44'}, {'name': '사용자45'}, {'name': '사용자46'}, {'name': '사용자47'}, {'name': '사용자49'}, {'name': '사용자8'}, {'name': '사용자9'}]\\n\""
            ]
          },
          "execution_count": 75,
          "metadata": {},
          "output_type": "execute_result"
        }
      ],
      "source": [
        "final_context"
      ]
    },
    {
      "cell_type": "code",
      "execution_count": 78,
      "metadata": {},
      "outputs": [
        {
          "data": {
            "text/plain": [
              "\"MATCH (cr:CustomerReview)\\nWHERE cr.reviewDate >= date('2024-01-01') AND cr.reviewDate <= date('2024-06-30') AND cr.rating >= 4\\nRETURN cr.reviewDate AS reviewDate, cr.rating AS rating, cr.text AS text, cr.author AS author, cr.caption AS caption, cr.seq AS seq\\nORDER BY cr.reviewDate;\""
            ]
          },
          "execution_count": 78,
          "metadata": {},
          "output_type": "execute_result"
        }
      ],
      "source": [
        "detailed_results[0]['sub_question']\n",
        "detailed_results[0]['cypher_query']"
      ]
    },
    {
      "cell_type": "code",
      "execution_count": null,
      "metadata": {},
      "outputs": [
        {
          "data": {
            "text/plain": [
              "[{'sub_question': '2024-01-01부터 2024-06-30 사이(reviewDate 범위)에 작성된 CustomerReview 노드 중 rating이 4 이상인 리뷰들은 어떤 것들인가?',\n",
              "  'cypher_query': \"MATCH (cr:CustomerReview)\\nWHERE cr.reviewDate >= date('2024-01-01') AND cr.reviewDate <= date('2024-06-30') AND cr.rating >= 4\\nRETURN cr.reviewDate AS reviewDate, cr.rating AS rating, cr.text AS text, cr.author AS author, cr.caption AS caption, cr.seq AS seq\\nORDER BY cr.reviewDate;\",\n",
              "  'result': [{'reviewDate': neo4j.time.Date(2024, 1, 5),\n",
              "    'rating': 4,\n",
              "    'text': '분위기가 좋아서 데이트 장소로 딱입니다.',\n",
              "    'author': '사용자17',\n",
              "    'caption': 'r사용자17|01-05|1',\n",
              "    'seq': 1},\n",
              "   {'reviewDate': neo4j.time.Date(2024, 1, 6),\n",
              "    'rating': 4,\n",
              "    'text': '티라미수가 정말 부드럽고 맛있어요.',\n",
              "    'author': '사용자27',\n",
              "    'caption': 'r사용자27|01-06|1',\n",
              "    'seq': 1},\n",
              "   {'reviewDate': neo4j.time.Date(2024, 1, 7),\n",
              "    'rating': 5,\n",
              "    'text': '분위기가 좋아서 데이트 장소로 딱입니다.',\n",
              "    'author': '사용자11',\n",
              "    'caption': 'r사용자11|01-07|1',\n",
              "    'seq': 1},\n",
              "   {'reviewDate': neo4j.time.Date(2024, 1, 7),\n",
              "    'rating': 4,\n",
              "    'text': '커피가 진하고 맛있습니다.',\n",
              "    'author': '사용자47',\n",
              "    'caption': 'r사용자47|01-07|1',\n",
              "    'seq': 1},\n",
              "   {'reviewDate': neo4j.time.Date(2024, 1, 11),\n",
              "    'rating': 4,\n",
              "    'text': '조용하고 아늑해서 혼자 책 읽기 좋아요.',\n",
              "    'author': '사용자45',\n",
              "    'caption': 'r사용자45|01-11|1',\n",
              "    'seq': 1},\n",
              "   {'reviewDate': neo4j.time.Date(2024, 1, 17),\n",
              "    'rating': 4,\n",
              "    'text': '직원분들이 친절해서 기분 좋게 식사했습니다.',\n",
              "    'author': '사용자11',\n",
              "    'caption': 'r사용자11|01-17|1',\n",
              "    'seq': 1},\n",
              "   {'reviewDate': neo4j.time.Date(2024, 1, 17),\n",
              "    'rating': 5,\n",
              "    'text': '파스타 면이 알덴테로 딱 맞게 익혀져 있네요.',\n",
              "    'author': '사용자44',\n",
              "    'caption': 'r사용자44|01-17|1',\n",
              "    'seq': 1},\n",
              "   {'reviewDate': neo4j.time.Date(2024, 1, 24),\n",
              "    'rating': 4,\n",
              "    'text': '예약 없이 갔는데도 자리 안내를 잘해주셨어요.',\n",
              "    'author': '사용자32',\n",
              "    'caption': 'r사용자32|01-24|1',\n",
              "    'seq': 1},\n",
              "   {'reviewDate': neo4j.time.Date(2024, 1, 27),\n",
              "    'rating': 4,\n",
              "    'text': '예약 없이 갔는데도 자리 안내를 잘해주셨어요.',\n",
              "    'author': '사용자35',\n",
              "    'caption': 'r사용자35|01-27|1',\n",
              "    'seq': 1},\n",
              "   {'reviewDate': neo4j.time.Date(2024, 2, 10),\n",
              "    'rating': 5,\n",
              "    'text': '인테리어가 세련되고 감각적이에요.',\n",
              "    'author': '사용자8',\n",
              "    'caption': 'r사용자8|02-10|1',\n",
              "    'seq': 1},\n",
              "   {'reviewDate': neo4j.time.Date(2024, 2, 12),\n",
              "    'rating': 5,\n",
              "    'text': '조용하고 아늑해서 혼자 책 읽기 좋아요.',\n",
              "    'author': '사용자12',\n",
              "    'caption': 'r사용자12|02-12|1',\n",
              "    'seq': 1},\n",
              "   {'reviewDate': neo4j.time.Date(2024, 2, 14),\n",
              "    'rating': 5,\n",
              "    'text': '파스타 면이 알덴테로 딱 맞게 익혀져 있네요.',\n",
              "    'author': '사용자19',\n",
              "    'caption': 'r사용자19|02-14|1',\n",
              "    'seq': 1},\n",
              "   {'reviewDate': neo4j.time.Date(2024, 2, 22),\n",
              "    'rating': 4,\n",
              "    'text': '인테리어가 세련되고 감각적이에요.',\n",
              "    'author': '사용자9',\n",
              "    'caption': 'r사용자9|02-22|1',\n",
              "    'seq': 1},\n",
              "   {'reviewDate': neo4j.time.Date(2024, 2, 23),\n",
              "    'rating': 5,\n",
              "    'text': '커피가 진하고 맛있습니다.',\n",
              "    'author': '사용자19',\n",
              "    'caption': 'r사용자19|02-23|1',\n",
              "    'seq': 1},\n",
              "   {'reviewDate': neo4j.time.Date(2024, 3, 2),\n",
              "    'rating': 4,\n",
              "    'text': '인테리어가 세련되고 감각적이에요.',\n",
              "    'author': '사용자43',\n",
              "    'caption': 'r사용자43|03-02|1',\n",
              "    'seq': 1},\n",
              "   {'reviewDate': neo4j.time.Date(2024, 3, 4),\n",
              "    'rating': 4,\n",
              "    'text': '직원분들이 친절해서 기분 좋게 식사했습니다.',\n",
              "    'author': '사용자15',\n",
              "    'caption': 'r사용자15|03-04|1',\n",
              "    'seq': 1},\n",
              "   {'reviewDate': neo4j.time.Date(2024, 3, 6),\n",
              "    'rating': 5,\n",
              "    'text': '커피가 진하고 맛있습니다.',\n",
              "    'author': '사용자31',\n",
              "    'caption': 'r사용자31|03-06|1',\n",
              "    'seq': 1},\n",
              "   {'reviewDate': neo4j.time.Date(2024, 3, 12),\n",
              "    'rating': 5,\n",
              "    'text': '분위기가 좋아서 데이트 장소로 딱입니다.',\n",
              "    'author': '사용자19',\n",
              "    'caption': 'r사용자19|03-12|1',\n",
              "    'seq': 1},\n",
              "   {'reviewDate': neo4j.time.Date(2024, 3, 16),\n",
              "    'rating': 5,\n",
              "    'text': '커피가 진하고 맛있습니다.',\n",
              "    'author': '사용자46',\n",
              "    'caption': 'r사용자46|03-16|1',\n",
              "    'seq': 1},\n",
              "   {'reviewDate': neo4j.time.Date(2024, 3, 19),\n",
              "    'rating': 5,\n",
              "    'text': '예약 없이 갔는데도 자리 안내를 잘해주셨어요.',\n",
              "    'author': '사용자13',\n",
              "    'caption': 'r사용자13|03-19|1',\n",
              "    'seq': 1},\n",
              "   {'reviewDate': neo4j.time.Date(2024, 3, 23),\n",
              "    'rating': 4,\n",
              "    'text': '피자가 진짜 이탈리아에서 먹던 맛 그대로예요!',\n",
              "    'author': '사용자2',\n",
              "    'caption': 'r사용자2|03-23|1',\n",
              "    'seq': 1},\n",
              "   {'reviewDate': neo4j.time.Date(2024, 3, 27),\n",
              "    'rating': 5,\n",
              "    'text': '분위기가 좋아서 데이트 장소로 딱입니다.',\n",
              "    'author': '사용자19',\n",
              "    'caption': 'r사용자19|03-27|1',\n",
              "    'seq': 1},\n",
              "   {'reviewDate': neo4j.time.Date(2024, 4, 6),\n",
              "    'rating': 5,\n",
              "    'text': '직원분들이 친절해서 기분 좋게 식사했습니다.',\n",
              "    'author': '사용자36',\n",
              "    'caption': 'r사용자36|04-06|1',\n",
              "    'seq': 1},\n",
              "   {'reviewDate': neo4j.time.Date(2024, 4, 8),\n",
              "    'rating': 4,\n",
              "    'text': '직원분들이 친절해서 기분 좋게 식사했습니다.',\n",
              "    'author': '사용자11',\n",
              "    'caption': 'r사용자11|04-08|1',\n",
              "    'seq': 1},\n",
              "   {'reviewDate': neo4j.time.Date(2024, 4, 9),\n",
              "    'rating': 5,\n",
              "    'text': '직원분들이 친절해서 기분 좋게 식사했습니다.',\n",
              "    'author': '사용자19',\n",
              "    'caption': 'r사용자19|04-09|1',\n",
              "    'seq': 1},\n",
              "   {'reviewDate': neo4j.time.Date(2024, 4, 12),\n",
              "    'rating': 5,\n",
              "    'text': '조용하고 아늑해서 혼자 책 읽기 좋아요.',\n",
              "    'author': '사용자12',\n",
              "    'caption': 'r사용자12|04-12|1',\n",
              "    'seq': 1},\n",
              "   {'reviewDate': neo4j.time.Date(2024, 4, 21),\n",
              "    'rating': 5,\n",
              "    'text': '분위기가 좋아서 데이트 장소로 딱입니다.',\n",
              "    'author': '사용자14',\n",
              "    'caption': 'r사용자14|04-21|1',\n",
              "    'seq': 1},\n",
              "   {'reviewDate': neo4j.time.Date(2024, 4, 24),\n",
              "    'rating': 4,\n",
              "    'text': '피자가 진짜 이탈리아에서 먹던 맛 그대로예요!',\n",
              "    'author': '사용자9',\n",
              "    'caption': 'r사용자9|04-24|1',\n",
              "    'seq': 1},\n",
              "   {'reviewDate': neo4j.time.Date(2024, 4, 24),\n",
              "    'rating': 4,\n",
              "    'text': '인테리어가 세련되고 감각적이에요.',\n",
              "    'author': '사용자9',\n",
              "    'caption': 'r사용자9|04-24|2',\n",
              "    'seq': 2},\n",
              "   {'reviewDate': neo4j.time.Date(2024, 4, 30),\n",
              "    'rating': 4,\n",
              "    'text': '가격은 조금 비싸지만 서비스는 만족스러워요.',\n",
              "    'author': '사용자43',\n",
              "    'caption': 'r사용자43|04-30|1',\n",
              "    'seq': 1},\n",
              "   {'reviewDate': neo4j.time.Date(2024, 5, 22),\n",
              "    'rating': 4,\n",
              "    'text': '예약 없이 갔는데도 자리 안내를 잘해주셨어요.',\n",
              "    'author': '사용자31',\n",
              "    'caption': 'r사용자31|05-22|1',\n",
              "    'seq': 1},\n",
              "   {'reviewDate': neo4j.time.Date(2024, 5, 25),\n",
              "    'rating': 4,\n",
              "    'text': '커피가 진하고 맛있습니다.',\n",
              "    'author': '사용자27',\n",
              "    'caption': 'r사용자27|05-25|1',\n",
              "    'seq': 1},\n",
              "   {'reviewDate': neo4j.time.Date(2024, 5, 29),\n",
              "    'rating': 5,\n",
              "    'text': '조용하고 아늑해서 혼자 책 읽기 좋아요.',\n",
              "    'author': '사용자37',\n",
              "    'caption': 'r사용자37|05-29|1',\n",
              "    'seq': 1},\n",
              "   {'reviewDate': neo4j.time.Date(2024, 6, 6),\n",
              "    'rating': 5,\n",
              "    'text': '피자가 진짜 이탈리아에서 먹던 맛 그대로예요!',\n",
              "    'author': '사용자34',\n",
              "    'caption': 'r사용자34|06-06|1',\n",
              "    'seq': 1},\n",
              "   {'reviewDate': neo4j.time.Date(2024, 6, 10),\n",
              "    'rating': 5,\n",
              "    'text': '가격은 조금 비싸지만 서비스는 만족스러워요.',\n",
              "    'author': '사용자45',\n",
              "    'caption': 'r사용자45|06-10|1',\n",
              "    'seq': 1},\n",
              "   {'reviewDate': neo4j.time.Date(2024, 6, 18),\n",
              "    'rating': 4,\n",
              "    'text': '조용하고 아늑해서 혼자 책 읽기 좋아요.',\n",
              "    'author': '사용자2',\n",
              "    'caption': 'r사용자2|06-18|1',\n",
              "    'seq': 1},\n",
              "   {'reviewDate': neo4j.time.Date(2024, 6, 24),\n",
              "    'rating': 5,\n",
              "    'text': '티라미수가 정말 부드럽고 맛있어요.',\n",
              "    'author': '사용자49',\n",
              "    'caption': 'r사용자49|06-24|1',\n",
              "    'seq': 1},\n",
              "   {'reviewDate': neo4j.time.Date(2024, 6, 26),\n",
              "    'rating': 4,\n",
              "    'text': '직원분들이 친절해서 기분 좋게 식사했습니다.',\n",
              "    'author': '사용자3',\n",
              "    'caption': 'r사용자3|06-26|1',\n",
              "    'seq': 1}]},\n",
              " {'sub_question': '각 해당 CustomerReview 노드가 WRITTEN_BY 관계로 연결된 Customer 노드는 누구인가?',\n",
              "  'cypher_query': 'MATCH (cr:CustomerReview)-[:WRITTEN_BY]->(c:Customer)\\nRETURN cr, c\\nORDER BY cr.seq',\n",
              "  'result': [{'cr': {'reviewDate': neo4j.time.Date(2024, 10, 3),\n",
              "     'author': '사용자1',\n",
              "     'rating': 4,\n",
              "     'caption': 'r사용자1|10-03|1',\n",
              "     'text': '직원분들이 친절해서 기분 좋게 식사했습니다.',\n",
              "     'seq': 1},\n",
              "    'c': {'name': '사용자1'}},\n",
              "   {'cr': {'reviewDate': neo4j.time.Date(2024, 10, 17),\n",
              "     'author': '사용자1',\n",
              "     'rating': 5,\n",
              "     'caption': 'r사용자1|10-17|1',\n",
              "     'text': '직원분들이 친절해서 기분 좋게 식사했습니다.',\n",
              "     'seq': 1},\n",
              "    'c': {'name': '사용자1'}},\n",
              "   {'cr': {'reviewDate': neo4j.time.Date(2024, 11, 10),\n",
              "     'author': '사용자1',\n",
              "     'rating': 4,\n",
              "     'caption': 'r사용자1|11-10|1',\n",
              "     'text': '직원분들이 친절해서 기분 좋게 식사했습니다.',\n",
              "     'seq': 1},\n",
              "    'c': {'name': '사용자1'}},\n",
              "   {'cr': {'reviewDate': neo4j.time.Date(2024, 3, 23),\n",
              "     'author': '사용자2',\n",
              "     'rating': 4,\n",
              "     'caption': 'r사용자2|03-23|1',\n",
              "     'text': '피자가 진짜 이탈리아에서 먹던 맛 그대로예요!',\n",
              "     'seq': 1},\n",
              "    'c': {'name': '사용자2'}},\n",
              "   {'cr': {'reviewDate': neo4j.time.Date(2024, 6, 18),\n",
              "     'author': '사용자2',\n",
              "     'rating': 4,\n",
              "     'caption': 'r사용자2|06-18|1',\n",
              "     'text': '조용하고 아늑해서 혼자 책 읽기 좋아요.',\n",
              "     'seq': 1},\n",
              "    'c': {'name': '사용자2'}},\n",
              "   {'cr': {'reviewDate': neo4j.time.Date(2024, 6, 26),\n",
              "     'author': '사용자3',\n",
              "     'rating': 4,\n",
              "     'caption': 'r사용자3|06-26|1',\n",
              "     'text': '직원분들이 친절해서 기분 좋게 식사했습니다.',\n",
              "     'seq': 1},\n",
              "    'c': {'name': '사용자3'}},\n",
              "   {'cr': {'reviewDate': neo4j.time.Date(2024, 4, 18),\n",
              "     'author': '사용자4',\n",
              "     'rating': 3,\n",
              "     'caption': 'r사용자4|04-18|1',\n",
              "     'text': '파스타 면이 알덴테로 딱 맞게 익혀져 있네요.',\n",
              "     'seq': 1},\n",
              "    'c': {'name': '사용자4'}},\n",
              "   {'cr': {'reviewDate': neo4j.time.Date(2024, 6, 17),\n",
              "     'author': '사용자4',\n",
              "     'rating': 3,\n",
              "     'caption': 'r사용자4|06-17|1',\n",
              "     'text': '커피가 진하고 맛있습니다.',\n",
              "     'seq': 1},\n",
              "    'c': {'name': '사용자4'}},\n",
              "   {'cr': {'reviewDate': neo4j.time.Date(2024, 9, 22),\n",
              "     'author': '사용자4',\n",
              "     'rating': 3,\n",
              "     'caption': 'r사용자4|09-22|1',\n",
              "     'text': '가격은 조금 비싸지만 서비스는 만족스러워요.',\n",
              "     'seq': 1},\n",
              "    'c': {'name': '사용자4'}},\n",
              "   {'cr': {'reviewDate': neo4j.time.Date(2024, 10, 6),\n",
              "     'author': '사용자4',\n",
              "     'rating': 4,\n",
              "     'caption': 'r사용자4|10-06|1',\n",
              "     'text': '분위기가 좋아서 데이트 장소로 딱입니다.',\n",
              "     'seq': 1},\n",
              "    'c': {'name': '사용자4'}},\n",
              "   {'cr': {'reviewDate': neo4j.time.Date(2024, 11, 25),\n",
              "     'author': '사용자4',\n",
              "     'rating': 4,\n",
              "     'caption': 'r사용자4|11-25|1',\n",
              "     'text': '인테리어가 세련되고 감각적이에요.',\n",
              "     'seq': 1},\n",
              "    'c': {'name': '사용자4'}},\n",
              "   {'cr': {'reviewDate': neo4j.time.Date(2024, 12, 29),\n",
              "     'author': '사용자4',\n",
              "     'rating': 5,\n",
              "     'caption': 'r사용자4|12-29|1',\n",
              "     'text': '커피가 진하고 맛있습니다.',\n",
              "     'seq': 1},\n",
              "    'c': {'name': '사용자4'}},\n",
              "   {'cr': {'reviewDate': neo4j.time.Date(2024, 6, 6),\n",
              "     'author': '사용자6',\n",
              "     'rating': 3,\n",
              "     'caption': 'r사용자6|06-06|1',\n",
              "     'text': '가격은 조금 비싸지만 서비스는 만족스러워요.',\n",
              "     'seq': 1},\n",
              "    'c': {'name': '사용자6'}},\n",
              "   {'cr': {'reviewDate': neo4j.time.Date(2024, 7, 9),\n",
              "     'author': '사용자6',\n",
              "     'rating': 4,\n",
              "     'caption': 'r사용자6|07-09|1',\n",
              "     'text': '파스타 면이 알덴테로 딱 맞게 익혀져 있네요.',\n",
              "     'seq': 1},\n",
              "    'c': {'name': '사용자6'}},\n",
              "   {'cr': {'reviewDate': neo4j.time.Date(2024, 8, 1),\n",
              "     'author': '사용자6',\n",
              "     'rating': 5,\n",
              "     'caption': 'r사용자6|08-01|1',\n",
              "     'text': '예약 없이 갔는데도 자리 안내를 잘해주셨어요.',\n",
              "     'seq': 1},\n",
              "    'c': {'name': '사용자6'}},\n",
              "   {'cr': {'reviewDate': neo4j.time.Date(2024, 11, 8),\n",
              "     'author': '사용자6',\n",
              "     'rating': 5,\n",
              "     'caption': 'r사용자6|11-08|1',\n",
              "     'text': '예약 없이 갔는데도 자리 안내를 잘해주셨어요.',\n",
              "     'seq': 1},\n",
              "    'c': {'name': '사용자6'}},\n",
              "   {'cr': {'reviewDate': neo4j.time.Date(2024, 2, 28),\n",
              "     'author': '사용자7',\n",
              "     'rating': 3,\n",
              "     'caption': 'r사용자7|02-28|1',\n",
              "     'text': '피자가 진짜 이탈리아에서 먹던 맛 그대로예요!',\n",
              "     'seq': 1},\n",
              "    'c': {'name': '사용자7'}},\n",
              "   {'cr': {'reviewDate': neo4j.time.Date(2024, 9, 4),\n",
              "     'author': '사용자7',\n",
              "     'rating': 4,\n",
              "     'caption': 'r사용자7|09-04|1',\n",
              "     'text': '커피가 진하고 맛있습니다.',\n",
              "     'seq': 1},\n",
              "    'c': {'name': '사용자7'}},\n",
              "   {'cr': {'reviewDate': neo4j.time.Date(2024, 10, 9),\n",
              "     'author': '사용자7',\n",
              "     'rating': 3,\n",
              "     'caption': 'r사용자7|10-09|1',\n",
              "     'text': '인테리어가 세련되고 감각적이에요.',\n",
              "     'seq': 1},\n",
              "    'c': {'name': '사용자7'}},\n",
              "   {'cr': {'reviewDate': neo4j.time.Date(2024, 11, 13),\n",
              "     'author': '사용자7',\n",
              "     'rating': 4,\n",
              "     'caption': 'r사용자7|11-13|1',\n",
              "     'text': '직원분들이 친절해서 기분 좋게 식사했습니다.',\n",
              "     'seq': 1},\n",
              "    'c': {'name': '사용자7'}},\n",
              "   {'cr': {'reviewDate': neo4j.time.Date(2024, 2, 10),\n",
              "     'author': '사용자8',\n",
              "     'rating': 5,\n",
              "     'caption': 'r사용자8|02-10|1',\n",
              "     'text': '인테리어가 세련되고 감각적이에요.',\n",
              "     'seq': 1},\n",
              "    'c': {'name': '사용자8'}},\n",
              "   {'cr': {'reviewDate': neo4j.time.Date(2024, 5, 27),\n",
              "     'author': '사용자8',\n",
              "     'rating': 3,\n",
              "     'caption': 'r사용자8|05-27|1',\n",
              "     'text': '티라미수가 정말 부드럽고 맛있어요.',\n",
              "     'seq': 1},\n",
              "    'c': {'name': '사용자8'}},\n",
              "   {'cr': {'reviewDate': neo4j.time.Date(2024, 7, 27),\n",
              "     'author': '사용자8',\n",
              "     'rating': 4,\n",
              "     'caption': 'r사용자8|07-27|1',\n",
              "     'text': '티라미수가 정말 부드럽고 맛있어요.',\n",
              "     'seq': 1},\n",
              "    'c': {'name': '사용자8'}},\n",
              "   {'cr': {'reviewDate': neo4j.time.Date(2024, 10, 3),\n",
              "     'author': '사용자8',\n",
              "     'rating': 3,\n",
              "     'caption': 'r사용자8|10-03|1',\n",
              "     'text': '분위기가 좋아서 데이트 장소로 딱입니다.',\n",
              "     'seq': 1},\n",
              "    'c': {'name': '사용자8'}},\n",
              "   {'cr': {'reviewDate': neo4j.time.Date(2024, 2, 22),\n",
              "     'author': '사용자9',\n",
              "     'rating': 4,\n",
              "     'caption': 'r사용자9|02-22|1',\n",
              "     'text': '인테리어가 세련되고 감각적이에요.',\n",
              "     'seq': 1},\n",
              "    'c': {'name': '사용자9'}},\n",
              "   {'cr': {'reviewDate': neo4j.time.Date(2024, 4, 24),\n",
              "     'author': '사용자9',\n",
              "     'rating': 4,\n",
              "     'caption': 'r사용자9|04-24|1',\n",
              "     'text': '피자가 진짜 이탈리아에서 먹던 맛 그대로예요!',\n",
              "     'seq': 1},\n",
              "    'c': {'name': '사용자9'}},\n",
              "   {'cr': {'reviewDate': neo4j.time.Date(2024, 1, 7),\n",
              "     'author': '사용자11',\n",
              "     'rating': 5,\n",
              "     'caption': 'r사용자11|01-07|1',\n",
              "     'text': '분위기가 좋아서 데이트 장소로 딱입니다.',\n",
              "     'seq': 1},\n",
              "    'c': {'name': '사용자11'}},\n",
              "   {'cr': {'reviewDate': neo4j.time.Date(2024, 1, 17),\n",
              "     'author': '사용자11',\n",
              "     'rating': 4,\n",
              "     'caption': 'r사용자11|01-17|1',\n",
              "     'text': '직원분들이 친절해서 기분 좋게 식사했습니다.',\n",
              "     'seq': 1},\n",
              "    'c': {'name': '사용자11'}},\n",
              "   {'cr': {'reviewDate': neo4j.time.Date(2024, 4, 8),\n",
              "     'author': '사용자11',\n",
              "     'rating': 4,\n",
              "     'caption': 'r사용자11|04-08|1',\n",
              "     'text': '직원분들이 친절해서 기분 좋게 식사했습니다.',\n",
              "     'seq': 1},\n",
              "    'c': {'name': '사용자11'}},\n",
              "   {'cr': {'reviewDate': neo4j.time.Date(2024, 12, 28),\n",
              "     'author': '사용자11',\n",
              "     'rating': 3,\n",
              "     'caption': 'r사용자11|12-28|1',\n",
              "     'text': '분위기가 좋아서 데이트 장소로 딱입니다.',\n",
              "     'seq': 1},\n",
              "    'c': {'name': '사용자11'}},\n",
              "   {'cr': {'reviewDate': neo4j.time.Date(2024, 2, 12),\n",
              "     'author': '사용자12',\n",
              "     'rating': 5,\n",
              "     'caption': 'r사용자12|02-12|1',\n",
              "     'text': '조용하고 아늑해서 혼자 책 읽기 좋아요.',\n",
              "     'seq': 1},\n",
              "    'c': {'name': '사용자12'}},\n",
              "   {'cr': {'reviewDate': neo4j.time.Date(2024, 4, 5),\n",
              "     'author': '사용자12',\n",
              "     'rating': 3,\n",
              "     'caption': 'r사용자12|04-05|1',\n",
              "     'text': '조용하고 아늑해서 혼자 책 읽기 좋아요.',\n",
              "     'seq': 1},\n",
              "    'c': {'name': '사용자12'}},\n",
              "   {'cr': {'reviewDate': neo4j.time.Date(2024, 4, 12),\n",
              "     'author': '사용자12',\n",
              "     'rating': 5,\n",
              "     'caption': 'r사용자12|04-12|1',\n",
              "     'text': '조용하고 아늑해서 혼자 책 읽기 좋아요.',\n",
              "     'seq': 1},\n",
              "    'c': {'name': '사용자12'}},\n",
              "   {'cr': {'reviewDate': neo4j.time.Date(2024, 7, 20),\n",
              "     'author': '사용자12',\n",
              "     'rating': 3,\n",
              "     'caption': 'r사용자12|07-20|1',\n",
              "     'text': '가격은 조금 비싸지만 서비스는 만족스러워요.',\n",
              "     'seq': 1},\n",
              "    'c': {'name': '사용자12'}},\n",
              "   {'cr': {'reviewDate': neo4j.time.Date(2024, 9, 1),\n",
              "     'author': '사용자12',\n",
              "     'rating': 3,\n",
              "     'caption': 'r사용자12|09-01|1',\n",
              "     'text': '예약 없이 갔는데도 자리 안내를 잘해주셨어요.',\n",
              "     'seq': 1},\n",
              "    'c': {'name': '사용자12'}},\n",
              "   {'cr': {'reviewDate': neo4j.time.Date(2024, 10, 29),\n",
              "     'author': '사용자12',\n",
              "     'rating': 3,\n",
              "     'caption': 'r사용자12|10-29|1',\n",
              "     'text': '티라미수가 정말 부드럽고 맛있어요.',\n",
              "     'seq': 1},\n",
              "    'c': {'name': '사용자12'}},\n",
              "   {'cr': {'reviewDate': neo4j.time.Date(2024, 3, 19),\n",
              "     'author': '사용자13',\n",
              "     'rating': 5,\n",
              "     'caption': 'r사용자13|03-19|1',\n",
              "     'text': '예약 없이 갔는데도 자리 안내를 잘해주셨어요.',\n",
              "     'seq': 1},\n",
              "    'c': {'name': '사용자13'}},\n",
              "   {'cr': {'reviewDate': neo4j.time.Date(2024, 11, 20),\n",
              "     'author': '사용자13',\n",
              "     'rating': 3,\n",
              "     'caption': 'r사용자13|11-20|1',\n",
              "     'text': '피자가 진짜 이탈리아에서 먹던 맛 그대로예요!',\n",
              "     'seq': 1},\n",
              "    'c': {'name': '사용자13'}},\n",
              "   {'cr': {'reviewDate': neo4j.time.Date(2024, 4, 21),\n",
              "     'author': '사용자14',\n",
              "     'rating': 5,\n",
              "     'caption': 'r사용자14|04-21|1',\n",
              "     'text': '분위기가 좋아서 데이트 장소로 딱입니다.',\n",
              "     'seq': 1},\n",
              "    'c': {'name': '사용자14'}},\n",
              "   {'cr': {'reviewDate': neo4j.time.Date(2024, 7, 8),\n",
              "     'author': '사용자14',\n",
              "     'rating': 3,\n",
              "     'caption': 'r사용자14|07-08|1',\n",
              "     'text': '파스타 면이 알덴테로 딱 맞게 익혀져 있네요.',\n",
              "     'seq': 1},\n",
              "    'c': {'name': '사용자14'}},\n",
              "   {'cr': {'reviewDate': neo4j.time.Date(2024, 9, 5),\n",
              "     'author': '사용자14',\n",
              "     'rating': 3,\n",
              "     'caption': 'r사용자14|09-05|1',\n",
              "     'text': '가격은 조금 비싸지만 서비스는 만족스러워요.',\n",
              "     'seq': 1},\n",
              "    'c': {'name': '사용자14'}},\n",
              "   {'cr': {'reviewDate': neo4j.time.Date(2024, 3, 4),\n",
              "     'author': '사용자15',\n",
              "     'rating': 4,\n",
              "     'caption': 'r사용자15|03-04|1',\n",
              "     'text': '직원분들이 친절해서 기분 좋게 식사했습니다.',\n",
              "     'seq': 1},\n",
              "    'c': {'name': '사용자15'}},\n",
              "   {'cr': {'reviewDate': neo4j.time.Date(2024, 8, 4),\n",
              "     'author': '사용자15',\n",
              "     'rating': 5,\n",
              "     'caption': 'r사용자15|08-04|1',\n",
              "     'text': '티라미수가 정말 부드럽고 맛있어요.',\n",
              "     'seq': 1},\n",
              "    'c': {'name': '사용자15'}},\n",
              "   {'cr': {'reviewDate': neo4j.time.Date(2024, 9, 10),\n",
              "     'author': '사용자15',\n",
              "     'rating': 4,\n",
              "     'caption': 'r사용자15|09-10|1',\n",
              "     'text': '티라미수가 정말 부드럽고 맛있어요.',\n",
              "     'seq': 1},\n",
              "    'c': {'name': '사용자15'}},\n",
              "   {'cr': {'reviewDate': neo4j.time.Date(2024, 8, 30),\n",
              "     'author': '사용자16',\n",
              "     'rating': 4,\n",
              "     'caption': 'r사용자16|08-30|1',\n",
              "     'text': '커피가 진하고 맛있습니다.',\n",
              "     'seq': 1},\n",
              "    'c': {'name': '사용자16'}},\n",
              "   {'cr': {'reviewDate': neo4j.time.Date(2024, 1, 5),\n",
              "     'author': '사용자17',\n",
              "     'rating': 4,\n",
              "     'caption': 'r사용자17|01-05|1',\n",
              "     'text': '분위기가 좋아서 데이트 장소로 딱입니다.',\n",
              "     'seq': 1},\n",
              "    'c': {'name': '사용자17'}},\n",
              "   {'cr': {'reviewDate': neo4j.time.Date(2024, 7, 9),\n",
              "     'author': '사용자17',\n",
              "     'rating': 4,\n",
              "     'caption': 'r사용자17|07-09|1',\n",
              "     'text': '피자가 진짜 이탈리아에서 먹던 맛 그대로예요!',\n",
              "     'seq': 1},\n",
              "    'c': {'name': '사용자17'}},\n",
              "   {'cr': {'reviewDate': neo4j.time.Date(2024, 7, 28),\n",
              "     'author': '사용자17',\n",
              "     'rating': 3,\n",
              "     'caption': 'r사용자17|07-28|1',\n",
              "     'text': '예약 없이 갔는데도 자리 안내를 잘해주셨어요.',\n",
              "     'seq': 1},\n",
              "    'c': {'name': '사용자17'}},\n",
              "   {'cr': {'reviewDate': neo4j.time.Date(2024, 2, 23),\n",
              "     'author': '사용자19',\n",
              "     'rating': 5,\n",
              "     'caption': 'r사용자19|02-23|1',\n",
              "     'text': '커피가 진하고 맛있습니다.',\n",
              "     'seq': 1},\n",
              "    'c': {'name': '사용자19'}},\n",
              "   {'cr': {'reviewDate': neo4j.time.Date(2024, 3, 12),\n",
              "     'author': '사용자19',\n",
              "     'rating': 5,\n",
              "     'caption': 'r사용자19|03-12|1',\n",
              "     'text': '분위기가 좋아서 데이트 장소로 딱입니다.',\n",
              "     'seq': 1},\n",
              "    'c': {'name': '사용자19'}},\n",
              "   {'cr': {'reviewDate': neo4j.time.Date(2024, 3, 27),\n",
              "     'author': '사용자19',\n",
              "     'rating': 5,\n",
              "     'caption': 'r사용자19|03-27|1',\n",
              "     'text': '분위기가 좋아서 데이트 장소로 딱입니다.',\n",
              "     'seq': 1},\n",
              "    'c': {'name': '사용자19'}},\n",
              "   {'cr': {'reviewDate': neo4j.time.Date(2024, 4, 9),\n",
              "     'author': '사용자19',\n",
              "     'rating': 5,\n",
              "     'caption': 'r사용자19|04-09|1',\n",
              "     'text': '직원분들이 친절해서 기분 좋게 식사했습니다.',\n",
              "     'seq': 1},\n",
              "    'c': {'name': '사용자19'}},\n",
              "   {'cr': {'reviewDate': neo4j.time.Date(2024, 2, 14),\n",
              "     'author': '사용자19',\n",
              "     'rating': 5,\n",
              "     'caption': 'r사용자19|02-14|1',\n",
              "     'text': '파스타 면이 알덴테로 딱 맞게 익혀져 있네요.',\n",
              "     'seq': 1},\n",
              "    'c': {'name': '사용자19'}},\n",
              "   {'cr': {'reviewDate': neo4j.time.Date(2024, 9, 12),\n",
              "     'author': '사용자20',\n",
              "     'rating': 4,\n",
              "     'caption': 'r사용자20|09-12|1',\n",
              "     'text': '분위기가 좋아서 데이트 장소로 딱입니다.',\n",
              "     'seq': 1},\n",
              "    'c': {'name': '사용자20'}},\n",
              "   {'cr': {'reviewDate': neo4j.time.Date(2024, 12, 3),\n",
              "     'author': '사용자20',\n",
              "     'rating': 5,\n",
              "     'caption': 'r사용자20|12-03|1',\n",
              "     'text': '예약 없이 갔는데도 자리 안내를 잘해주셨어요.',\n",
              "     'seq': 1},\n",
              "    'c': {'name': '사용자20'}},\n",
              "   {'cr': {'reviewDate': neo4j.time.Date(2024, 4, 23),\n",
              "     'author': '사용자21',\n",
              "     'rating': 3,\n",
              "     'caption': 'r사용자21|04-23|1',\n",
              "     'text': '피자가 진짜 이탈리아에서 먹던 맛 그대로예요!',\n",
              "     'seq': 1},\n",
              "    'c': {'name': '사용자21'}},\n",
              "   {'cr': {'reviewDate': neo4j.time.Date(2024, 10, 16),\n",
              "     'author': '사용자21',\n",
              "     'rating': 4,\n",
              "     'caption': 'r사용자21|10-16|1',\n",
              "     'text': '인테리어가 세련되고 감각적이에요.',\n",
              "     'seq': 1},\n",
              "    'c': {'name': '사용자21'}},\n",
              "   {'cr': {'reviewDate': neo4j.time.Date(2024, 10, 9),\n",
              "     'author': '사용자23',\n",
              "     'rating': 5,\n",
              "     'caption': 'r사용자23|10-09|1',\n",
              "     'text': '파스타 면이 알덴테로 딱 맞게 익혀져 있네요.',\n",
              "     'seq': 1},\n",
              "    'c': {'name': '사용자23'}},\n",
              "   {'cr': {'reviewDate': neo4j.time.Date(2024, 10, 25),\n",
              "     'author': '사용자24',\n",
              "     'rating': 5,\n",
              "     'caption': 'r사용자24|10-25|1',\n",
              "     'text': '조용하고 아늑해서 혼자 책 읽기 좋아요.',\n",
              "     'seq': 1},\n",
              "    'c': {'name': '사용자24'}},\n",
              "   {'cr': {'reviewDate': neo4j.time.Date(2024, 7, 4),\n",
              "     'author': '사용자25',\n",
              "     'rating': 3,\n",
              "     'caption': 'r사용자25|07-04|1',\n",
              "     'text': '예약 없이 갔는데도 자리 안내를 잘해주셨어요.',\n",
              "     'seq': 1},\n",
              "    'c': {'name': '사용자25'}},\n",
              "   {'cr': {'reviewDate': neo4j.time.Date(2024, 7, 19),\n",
              "     'author': '사용자25',\n",
              "     'rating': 5,\n",
              "     'caption': 'r사용자25|07-19|1',\n",
              "     'text': '분위기가 좋아서 데이트 장소로 딱입니다.',\n",
              "     'seq': 1},\n",
              "    'c': {'name': '사용자25'}},\n",
              "   {'cr': {'reviewDate': neo4j.time.Date(2024, 1, 6),\n",
              "     'author': '사용자27',\n",
              "     'rating': 4,\n",
              "     'caption': 'r사용자27|01-06|1',\n",
              "     'text': '티라미수가 정말 부드럽고 맛있어요.',\n",
              "     'seq': 1},\n",
              "    'c': {'name': '사용자27'}},\n",
              "   {'cr': {'reviewDate': neo4j.time.Date(2024, 5, 25),\n",
              "     'author': '사용자27',\n",
              "     'rating': 4,\n",
              "     'caption': 'r사용자27|05-25|1',\n",
              "     'text': '커피가 진하고 맛있습니다.',\n",
              "     'seq': 1},\n",
              "    'c': {'name': '사용자27'}},\n",
              "   {'cr': {'reviewDate': neo4j.time.Date(2024, 7, 2),\n",
              "     'author': '사용자28',\n",
              "     'rating': 4,\n",
              "     'caption': 'r사용자28|07-02|1',\n",
              "     'text': '가격은 조금 비싸지만 서비스는 만족스러워요.',\n",
              "     'seq': 1},\n",
              "    'c': {'name': '사용자28'}},\n",
              "   {'cr': {'reviewDate': neo4j.time.Date(2024, 9, 10),\n",
              "     'author': '사용자29',\n",
              "     'rating': 3,\n",
              "     'caption': 'r사용자29|09-10|1',\n",
              "     'text': '분위기가 좋아서 데이트 장소로 딱입니다.',\n",
              "     'seq': 1},\n",
              "    'c': {'name': '사용자29'}},\n",
              "   {'cr': {'reviewDate': neo4j.time.Date(2024, 1, 18),\n",
              "     'author': '사용자30',\n",
              "     'rating': 3,\n",
              "     'caption': 'r사용자30|01-18|1',\n",
              "     'text': '예약 없이 갔는데도 자리 안내를 잘해주셨어요.',\n",
              "     'seq': 1},\n",
              "    'c': {'name': '사용자30'}},\n",
              "   {'cr': {'reviewDate': neo4j.time.Date(2024, 8, 26),\n",
              "     'author': '사용자30',\n",
              "     'rating': 3,\n",
              "     'caption': 'r사용자30|08-26|1',\n",
              "     'text': '피자가 진짜 이탈리아에서 먹던 맛 그대로예요!',\n",
              "     'seq': 1},\n",
              "    'c': {'name': '사용자30'}},\n",
              "   {'cr': {'reviewDate': neo4j.time.Date(2024, 8, 31),\n",
              "     'author': '사용자30',\n",
              "     'rating': 4,\n",
              "     'caption': 'r사용자30|08-31|1',\n",
              "     'text': '파스타 면이 알덴테로 딱 맞게 익혀져 있네요.',\n",
              "     'seq': 1},\n",
              "    'c': {'name': '사용자30'}},\n",
              "   {'cr': {'reviewDate': neo4j.time.Date(2024, 3, 6),\n",
              "     'author': '사용자31',\n",
              "     'rating': 5,\n",
              "     'caption': 'r사용자31|03-06|1',\n",
              "     'text': '커피가 진하고 맛있습니다.',\n",
              "     'seq': 1},\n",
              "    'c': {'name': '사용자31'}},\n",
              "   {'cr': {'reviewDate': neo4j.time.Date(2024, 4, 8),\n",
              "     'author': '사용자31',\n",
              "     'rating': 3,\n",
              "     'caption': 'r사용자31|04-08|1',\n",
              "     'text': '파스타 면이 알덴테로 딱 맞게 익혀져 있네요.',\n",
              "     'seq': 1},\n",
              "    'c': {'name': '사용자31'}},\n",
              "   {'cr': {'reviewDate': neo4j.time.Date(2024, 5, 22),\n",
              "     'author': '사용자31',\n",
              "     'rating': 4,\n",
              "     'caption': 'r사용자31|05-22|1',\n",
              "     'text': '예약 없이 갔는데도 자리 안내를 잘해주셨어요.',\n",
              "     'seq': 1},\n",
              "    'c': {'name': '사용자31'}},\n",
              "   {'cr': {'reviewDate': neo4j.time.Date(2024, 7, 20),\n",
              "     'author': '사용자31',\n",
              "     'rating': 3,\n",
              "     'caption': 'r사용자31|07-20|1',\n",
              "     'text': '분위기가 좋아서 데이트 장소로 딱입니다.',\n",
              "     'seq': 1},\n",
              "    'c': {'name': '사용자31'}},\n",
              "   {'cr': {'reviewDate': neo4j.time.Date(2024, 1, 24),\n",
              "     'author': '사용자32',\n",
              "     'rating': 4,\n",
              "     'caption': 'r사용자32|01-24|1',\n",
              "     'text': '예약 없이 갔는데도 자리 안내를 잘해주셨어요.',\n",
              "     'seq': 1},\n",
              "    'c': {'name': '사용자32'}},\n",
              "   {'cr': {'reviewDate': neo4j.time.Date(2024, 5, 4),\n",
              "     'author': '사용자33',\n",
              "     'rating': 3,\n",
              "     'caption': 'r사용자33|05-04|1',\n",
              "     'text': '직원분들이 친절해서 기분 좋게 식사했습니다.',\n",
              "     'seq': 1},\n",
              "    'c': {'name': '사용자33'}},\n",
              "   {'cr': {'reviewDate': neo4j.time.Date(2024, 7, 27),\n",
              "     'author': '사용자33',\n",
              "     'rating': 5,\n",
              "     'caption': 'r사용자33|07-27|1',\n",
              "     'text': '직원분들이 친절해서 기분 좋게 식사했습니다.',\n",
              "     'seq': 1},\n",
              "    'c': {'name': '사용자33'}},\n",
              "   {'cr': {'reviewDate': neo4j.time.Date(2024, 10, 1),\n",
              "     'author': '사용자33',\n",
              "     'rating': 4,\n",
              "     'caption': 'r사용자33|10-01|1',\n",
              "     'text': '피자가 진짜 이탈리아에서 먹던 맛 그대로예요!',\n",
              "     'seq': 1},\n",
              "    'c': {'name': '사용자33'}},\n",
              "   {'cr': {'reviewDate': neo4j.time.Date(2024, 6, 6),\n",
              "     'author': '사용자34',\n",
              "     'rating': 5,\n",
              "     'caption': 'r사용자34|06-06|1',\n",
              "     'text': '피자가 진짜 이탈리아에서 먹던 맛 그대로예요!',\n",
              "     'seq': 1},\n",
              "    'c': {'name': '사용자34'}},\n",
              "   {'cr': {'reviewDate': neo4j.time.Date(2024, 7, 17),\n",
              "     'author': '사용자34',\n",
              "     'rating': 3,\n",
              "     'caption': 'r사용자34|07-17|1',\n",
              "     'text': '피자가 진짜 이탈리아에서 먹던 맛 그대로예요!',\n",
              "     'seq': 1},\n",
              "    'c': {'name': '사용자34'}},\n",
              "   {'cr': {'reviewDate': neo4j.time.Date(2024, 9, 25),\n",
              "     'author': '사용자34',\n",
              "     'rating': 3,\n",
              "     'caption': 'r사용자34|09-25|1',\n",
              "     'text': '가격은 조금 비싸지만 서비스는 만족스러워요.',\n",
              "     'seq': 1},\n",
              "    'c': {'name': '사용자34'}},\n",
              "   {'cr': {'reviewDate': neo4j.time.Date(2024, 10, 26),\n",
              "     'author': '사용자34',\n",
              "     'rating': 4,\n",
              "     'caption': 'r사용자34|10-26|1',\n",
              "     'text': '직원분들이 친절해서 기분 좋게 식사했습니다.',\n",
              "     'seq': 1},\n",
              "    'c': {'name': '사용자34'}},\n",
              "   {'cr': {'reviewDate': neo4j.time.Date(2024, 1, 27),\n",
              "     'author': '사용자35',\n",
              "     'rating': 4,\n",
              "     'caption': 'r사용자35|01-27|1',\n",
              "     'text': '예약 없이 갔는데도 자리 안내를 잘해주셨어요.',\n",
              "     'seq': 1},\n",
              "    'c': {'name': '사용자35'}},\n",
              "   {'cr': {'reviewDate': neo4j.time.Date(2024, 2, 6),\n",
              "     'author': '사용자35',\n",
              "     'rating': 3,\n",
              "     'caption': 'r사용자35|02-06|1',\n",
              "     'text': '인테리어가 세련되고 감각적이에요.',\n",
              "     'seq': 1},\n",
              "    'c': {'name': '사용자35'}},\n",
              "   {'cr': {'reviewDate': neo4j.time.Date(2024, 9, 3),\n",
              "     'author': '사용자35',\n",
              "     'rating': 5,\n",
              "     'caption': 'r사용자35|09-03|1',\n",
              "     'text': '예약 없이 갔는데도 자리 안내를 잘해주셨어요.',\n",
              "     'seq': 1},\n",
              "    'c': {'name': '사용자35'}},\n",
              "   {'cr': {'reviewDate': neo4j.time.Date(2024, 4, 6),\n",
              "     'author': '사용자36',\n",
              "     'rating': 5,\n",
              "     'caption': 'r사용자36|04-06|1',\n",
              "     'text': '직원분들이 친절해서 기분 좋게 식사했습니다.',\n",
              "     'seq': 1},\n",
              "    'c': {'name': '사용자36'}},\n",
              "   {'cr': {'reviewDate': neo4j.time.Date(2024, 5, 29),\n",
              "     'author': '사용자37',\n",
              "     'rating': 5,\n",
              "     'caption': 'r사용자37|05-29|1',\n",
              "     'text': '조용하고 아늑해서 혼자 책 읽기 좋아요.',\n",
              "     'seq': 1},\n",
              "    'c': {'name': '사용자37'}},\n",
              "   {'cr': {'reviewDate': neo4j.time.Date(2024, 7, 15),\n",
              "     'author': '사용자37',\n",
              "     'rating': 5,\n",
              "     'caption': 'r사용자37|07-15|1',\n",
              "     'text': '예약 없이 갔는데도 자리 안내를 잘해주셨어요.',\n",
              "     'seq': 1},\n",
              "    'c': {'name': '사용자37'}},\n",
              "   {'cr': {'reviewDate': neo4j.time.Date(2024, 7, 29),\n",
              "     'author': '사용자38',\n",
              "     'rating': 4,\n",
              "     'caption': 'r사용자38|07-29|1',\n",
              "     'text': '티라미수가 정말 부드럽고 맛있어요.',\n",
              "     'seq': 1},\n",
              "    'c': {'name': '사용자38'}},\n",
              "   {'cr': {'reviewDate': neo4j.time.Date(2024, 4, 27),\n",
              "     'author': '사용자39',\n",
              "     'rating': 3,\n",
              "     'caption': 'r사용자39|04-27|1',\n",
              "     'text': '파스타 면이 알덴테로 딱 맞게 익혀져 있네요.',\n",
              "     'seq': 1},\n",
              "    'c': {'name': '사용자39'}},\n",
              "   {'cr': {'reviewDate': neo4j.time.Date(2024, 12, 12),\n",
              "     'author': '사용자39',\n",
              "     'rating': 3,\n",
              "     'caption': 'r사용자39|12-12|1',\n",
              "     'text': '티라미수가 정말 부드럽고 맛있어요.',\n",
              "     'seq': 1},\n",
              "    'c': {'name': '사용자39'}},\n",
              "   {'cr': {'reviewDate': neo4j.time.Date(2024, 9, 2),\n",
              "     'author': '사용자40',\n",
              "     'rating': 3,\n",
              "     'caption': 'r사용자40|09-02|1',\n",
              "     'text': '예약 없이 갔는데도 자리 안내를 잘해주셨어요.',\n",
              "     'seq': 1},\n",
              "    'c': {'name': '사용자40'}},\n",
              "   {'cr': {'reviewDate': neo4j.time.Date(2024, 12, 23),\n",
              "     'author': '사용자40',\n",
              "     'rating': 3,\n",
              "     'caption': 'r사용자40|12-23|1',\n",
              "     'text': '커피가 진하고 맛있습니다.',\n",
              "     'seq': 1},\n",
              "    'c': {'name': '사용자40'}},\n",
              "   {'cr': {'reviewDate': neo4j.time.Date(2024, 3, 11),\n",
              "     'author': '사용자41',\n",
              "     'rating': 3,\n",
              "     'caption': 'r사용자41|03-11|1',\n",
              "     'text': '티라미수가 정말 부드럽고 맛있어요.',\n",
              "     'seq': 1},\n",
              "    'c': {'name': '사용자41'}},\n",
              "   {'cr': {'reviewDate': neo4j.time.Date(2024, 7, 30),\n",
              "     'author': '사용자41',\n",
              "     'rating': 3,\n",
              "     'caption': 'r사용자41|07-30|1',\n",
              "     'text': '커피가 진하고 맛있습니다.',\n",
              "     'seq': 1},\n",
              "    'c': {'name': '사용자41'}},\n",
              "   {'cr': {'reviewDate': neo4j.time.Date(2024, 11, 5),\n",
              "     'author': '사용자41',\n",
              "     'rating': 4,\n",
              "     'caption': 'r사용자41|11-05|1',\n",
              "     'text': '분위기가 좋아서 데이트 장소로 딱입니다.',\n",
              "     'seq': 1},\n",
              "    'c': {'name': '사용자41'}},\n",
              "   {'cr': {'reviewDate': neo4j.time.Date(2024, 11, 7),\n",
              "     'author': '사용자41',\n",
              "     'rating': 4,\n",
              "     'caption': 'r사용자41|11-07|1',\n",
              "     'text': '티라미수가 정말 부드럽고 맛있어요.',\n",
              "     'seq': 1},\n",
              "    'c': {'name': '사용자41'}},\n",
              "   {'cr': {'reviewDate': neo4j.time.Date(2024, 7, 18),\n",
              "     'author': '사용자42',\n",
              "     'rating': 4,\n",
              "     'caption': 'r사용자42|07-18|1',\n",
              "     'text': '피자가 진짜 이탈리아에서 먹던 맛 그대로예요!',\n",
              "     'seq': 1},\n",
              "    'c': {'name': '사용자42'}},\n",
              "   {'cr': {'reviewDate': neo4j.time.Date(2024, 10, 25),\n",
              "     'author': '사용자42',\n",
              "     'rating': 4,\n",
              "     'caption': 'r사용자42|10-25|1',\n",
              "     'text': '직원분들이 친절해서 기분 좋게 식사했습니다.',\n",
              "     'seq': 1},\n",
              "    'c': {'name': '사용자42'}},\n",
              "   {'cr': {'reviewDate': neo4j.time.Date(2024, 3, 2),\n",
              "     'author': '사용자43',\n",
              "     'rating': 4,\n",
              "     'caption': 'r사용자43|03-02|1',\n",
              "     'text': '인테리어가 세련되고 감각적이에요.',\n",
              "     'seq': 1},\n",
              "    'c': {'name': '사용자43'}},\n",
              "   {'cr': {'reviewDate': neo4j.time.Date(2024, 4, 30),\n",
              "     'author': '사용자43',\n",
              "     'rating': 4,\n",
              "     'caption': 'r사용자43|04-30|1',\n",
              "     'text': '가격은 조금 비싸지만 서비스는 만족스러워요.',\n",
              "     'seq': 1},\n",
              "    'c': {'name': '사용자43'}},\n",
              "   {'cr': {'reviewDate': neo4j.time.Date(2024, 1, 17),\n",
              "     'author': '사용자44',\n",
              "     'rating': 5,\n",
              "     'caption': 'r사용자44|01-17|1',\n",
              "     'text': '파스타 면이 알덴테로 딱 맞게 익혀져 있네요.',\n",
              "     'seq': 1},\n",
              "    'c': {'name': '사용자44'}},\n",
              "   {'cr': {'reviewDate': neo4j.time.Date(2024, 7, 21),\n",
              "     'author': '사용자44',\n",
              "     'rating': 3,\n",
              "     'caption': 'r사용자44|07-21|1',\n",
              "     'text': '파스타 면이 알덴테로 딱 맞게 익혀져 있네요.',\n",
              "     'seq': 1},\n",
              "    'c': {'name': '사용자44'}},\n",
              "   {'cr': {'reviewDate': neo4j.time.Date(2024, 8, 3),\n",
              "     'author': '사용자44',\n",
              "     'rating': 3,\n",
              "     'caption': 'r사용자44|08-03|1',\n",
              "     'text': '직원분들이 친절해서 기분 좋게 식사했습니다.',\n",
              "     'seq': 1},\n",
              "    'c': {'name': '사용자44'}},\n",
              "   {'cr': {'reviewDate': neo4j.time.Date(2024, 1, 11),\n",
              "     'author': '사용자45',\n",
              "     'rating': 4,\n",
              "     'caption': 'r사용자45|01-11|1',\n",
              "     'text': '조용하고 아늑해서 혼자 책 읽기 좋아요.',\n",
              "     'seq': 1},\n",
              "    'c': {'name': '사용자45'}},\n",
              "   {'cr': {'reviewDate': neo4j.time.Date(2024, 5, 21),\n",
              "     'author': '사용자45',\n",
              "     'rating': 3,\n",
              "     'caption': 'r사용자45|05-21|1',\n",
              "     'text': '조용하고 아늑해서 혼자 책 읽기 좋아요.',\n",
              "     'seq': 1},\n",
              "    'c': {'name': '사용자45'}},\n",
              "   {'cr': {'reviewDate': neo4j.time.Date(2024, 6, 10),\n",
              "     'author': '사용자45',\n",
              "     'rating': 5,\n",
              "     'caption': 'r사용자45|06-10|1',\n",
              "     'text': '가격은 조금 비싸지만 서비스는 만족스러워요.',\n",
              "     'seq': 1},\n",
              "    'c': {'name': '사용자45'}},\n",
              "   {'cr': {'reviewDate': neo4j.time.Date(2024, 6, 11),\n",
              "     'author': '사용자45',\n",
              "     'rating': 3,\n",
              "     'caption': 'r사용자45|06-11|1',\n",
              "     'text': '티라미수가 정말 부드럽고 맛있어요.',\n",
              "     'seq': 1},\n",
              "    'c': {'name': '사용자45'}},\n",
              "   {'cr': {'reviewDate': neo4j.time.Date(2024, 3, 16),\n",
              "     'author': '사용자46',\n",
              "     'rating': 5,\n",
              "     'caption': 'r사용자46|03-16|1',\n",
              "     'text': '커피가 진하고 맛있습니다.',\n",
              "     'seq': 1},\n",
              "    'c': {'name': '사용자46'}},\n",
              "   {'cr': {'reviewDate': neo4j.time.Date(2024, 1, 7),\n",
              "     'author': '사용자47',\n",
              "     'rating': 4,\n",
              "     'caption': 'r사용자47|01-07|1',\n",
              "     'text': '커피가 진하고 맛있습니다.',\n",
              "     'seq': 1},\n",
              "    'c': {'name': '사용자47'}},\n",
              "   {'cr': {'reviewDate': neo4j.time.Date(2024, 2, 13),\n",
              "     'author': '사용자47',\n",
              "     'rating': 3,\n",
              "     'caption': 'r사용자47|02-13|1',\n",
              "     'text': '조용하고 아늑해서 혼자 책 읽기 좋아요.',\n",
              "     'seq': 1},\n",
              "    'c': {'name': '사용자47'}},\n",
              "   {'cr': {'reviewDate': neo4j.time.Date(2024, 4, 15),\n",
              "     'author': '사용자47',\n",
              "     'rating': 3,\n",
              "     'caption': 'r사용자47|04-15|1',\n",
              "     'text': '예약 없이 갔는데도 자리 안내를 잘해주셨어요.',\n",
              "     'seq': 1},\n",
              "    'c': {'name': '사용자47'}},\n",
              "   {'cr': {'reviewDate': neo4j.time.Date(2024, 7, 5),\n",
              "     'author': '사용자47',\n",
              "     'rating': 4,\n",
              "     'caption': 'r사용자47|07-05|1',\n",
              "     'text': '분위기가 좋아서 데이트 장소로 딱입니다.',\n",
              "     'seq': 1},\n",
              "    'c': {'name': '사용자47'}},\n",
              "   {'cr': {'reviewDate': neo4j.time.Date(2024, 11, 5),\n",
              "     'author': '사용자47',\n",
              "     'rating': 4,\n",
              "     'caption': 'r사용자47|11-05|1',\n",
              "     'text': '커피가 진하고 맛있습니다.',\n",
              "     'seq': 1},\n",
              "    'c': {'name': '사용자47'}},\n",
              "   {'cr': {'reviewDate': neo4j.time.Date(2024, 8, 5),\n",
              "     'author': '사용자48',\n",
              "     'rating': 5,\n",
              "     'caption': 'r사용자48|08-05|1',\n",
              "     'text': '커피가 진하고 맛있습니다.',\n",
              "     'seq': 1},\n",
              "    'c': {'name': '사용자48'}},\n",
              "   {'cr': {'reviewDate': neo4j.time.Date(2024, 8, 18),\n",
              "     'author': '사용자48',\n",
              "     'rating': 4,\n",
              "     'caption': 'r사용자48|08-18|1',\n",
              "     'text': '직원분들이 친절해서 기분 좋게 식사했습니다.',\n",
              "     'seq': 1},\n",
              "    'c': {'name': '사용자48'}},\n",
              "   {'cr': {'reviewDate': neo4j.time.Date(2024, 6, 24),\n",
              "     'author': '사용자49',\n",
              "     'rating': 5,\n",
              "     'caption': 'r사용자49|06-24|1',\n",
              "     'text': '티라미수가 정말 부드럽고 맛있어요.',\n",
              "     'seq': 1},\n",
              "    'c': {'name': '사용자49'}},\n",
              "   {'cr': {'reviewDate': neo4j.time.Date(2024, 7, 23),\n",
              "     'author': '사용자49',\n",
              "     'rating': 3,\n",
              "     'caption': 'r사용자49|07-23|1',\n",
              "     'text': '파스타 면이 알덴테로 딱 맞게 익혀져 있네요.',\n",
              "     'seq': 1},\n",
              "    'c': {'name': '사용자49'}},\n",
              "   {'cr': {'reviewDate': neo4j.time.Date(2024, 8, 3),\n",
              "     'author': '사용자49',\n",
              "     'rating': 3,\n",
              "     'caption': 'r사용자49|08-03|1',\n",
              "     'text': '티라미수가 정말 부드럽고 맛있어요.',\n",
              "     'seq': 1},\n",
              "    'c': {'name': '사용자49'}},\n",
              "   {'cr': {'reviewDate': neo4j.time.Date(2024, 9, 27),\n",
              "     'author': '사용자49',\n",
              "     'rating': 4,\n",
              "     'caption': 'r사용자49|09-27|1',\n",
              "     'text': '직원분들이 친절해서 기분 좋게 식사했습니다.',\n",
              "     'seq': 1},\n",
              "    'c': {'name': '사용자49'}},\n",
              "   {'cr': {'reviewDate': neo4j.time.Date(2024, 10, 6),\n",
              "     'author': '사용자49',\n",
              "     'rating': 3,\n",
              "     'caption': 'r사용자49|10-06|1',\n",
              "     'text': '커피가 진하고 맛있습니다.',\n",
              "     'seq': 1},\n",
              "    'c': {'name': '사용자49'}},\n",
              "   {'cr': {'reviewDate': neo4j.time.Date(2024, 4, 24),\n",
              "     'author': '사용자9',\n",
              "     'rating': 4,\n",
              "     'caption': 'r사용자9|04-24|2',\n",
              "     'text': '인테리어가 세련되고 감각적이에요.',\n",
              "     'seq': 2},\n",
              "    'c': {'name': '사용자9'}}]},\n",
              " {'sub_question': '각 해당 Customer 노드의 name 속성 값은 무엇인가?',\n",
              "  'cypher_query': 'MATCH (c:Customer) RETURN c.name AS name;',\n",
              "  'result': [{'name': '사용자1'},\n",
              "   {'name': '사용자2'},\n",
              "   {'name': '사용자3'},\n",
              "   {'name': '사용자4'},\n",
              "   {'name': '사용자5'},\n",
              "   {'name': '사용자6'},\n",
              "   {'name': '사용자7'},\n",
              "   {'name': '사용자8'},\n",
              "   {'name': '사용자9'},\n",
              "   {'name': '사용자10'},\n",
              "   {'name': '사용자11'},\n",
              "   {'name': '사용자12'},\n",
              "   {'name': '사용자13'},\n",
              "   {'name': '사용자14'},\n",
              "   {'name': '사용자15'},\n",
              "   {'name': '사용자16'},\n",
              "   {'name': '사용자17'},\n",
              "   {'name': '사용자18'},\n",
              "   {'name': '사용자19'},\n",
              "   {'name': '사용자20'},\n",
              "   {'name': '사용자21'},\n",
              "   {'name': '사용자22'},\n",
              "   {'name': '사용자23'},\n",
              "   {'name': '사용자24'},\n",
              "   {'name': '사용자25'},\n",
              "   {'name': '사용자26'},\n",
              "   {'name': '사용자27'},\n",
              "   {'name': '사용자28'},\n",
              "   {'name': '사용자29'},\n",
              "   {'name': '사용자30'},\n",
              "   {'name': '사용자31'},\n",
              "   {'name': '사용자32'},\n",
              "   {'name': '사용자33'},\n",
              "   {'name': '사용자34'},\n",
              "   {'name': '사용자35'},\n",
              "   {'name': '사용자36'},\n",
              "   {'name': '사용자37'},\n",
              "   {'name': '사용자38'},\n",
              "   {'name': '사용자39'},\n",
              "   {'name': '사용자40'},\n",
              "   {'name': '사용자41'},\n",
              "   {'name': '사용자42'},\n",
              "   {'name': '사용자43'},\n",
              "   {'name': '사용자44'},\n",
              "   {'name': '사용자45'},\n",
              "   {'name': '사용자46'},\n",
              "   {'name': '사용자47'},\n",
              "   {'name': '사용자48'},\n",
              "   {'name': '사용자49'},\n",
              "   {'name': '사용자50'},\n",
              "   {'name': '사용자51'}]},\n",
              " {'sub_question': '중복을 제거한(유일한) 2024년 상반기(1~6월)에 rating 4 이상인 리뷰를 남긴 고객 이름들의 목록은 무엇인가?',\n",
              "  'cypher_query': 'MATCH (r:CustomerReview)-[:WRITTEN_BY]->(c:Customer)\\nWHERE r.rating >= 4\\n  AND r.reviewDate >= date(\"2024-01-01\")\\n  AND r.reviewDate <= date(\"2024-06-30\")\\nRETURN DISTINCT c.name AS name',\n",
              "  'result': [{'name': '사용자11'},\n",
              "   {'name': '사용자12'},\n",
              "   {'name': '사용자13'},\n",
              "   {'name': '사용자14'},\n",
              "   {'name': '사용자15'},\n",
              "   {'name': '사용자17'},\n",
              "   {'name': '사용자19'},\n",
              "   {'name': '사용자2'},\n",
              "   {'name': '사용자27'},\n",
              "   {'name': '사용자3'},\n",
              "   {'name': '사용자31'},\n",
              "   {'name': '사용자32'},\n",
              "   {'name': '사용자34'},\n",
              "   {'name': '사용자35'},\n",
              "   {'name': '사용자36'},\n",
              "   {'name': '사용자37'},\n",
              "   {'name': '사용자43'},\n",
              "   {'name': '사용자44'},\n",
              "   {'name': '사용자45'},\n",
              "   {'name': '사용자46'},\n",
              "   {'name': '사용자47'},\n",
              "   {'name': '사용자49'},\n",
              "   {'name': '사용자8'},\n",
              "   {'name': '사용자9'}]}]"
            ]
          },
          "execution_count": 74,
          "metadata": {},
          "output_type": "execute_result"
        }
      ],
      "source": [
        "detailed_results"
      ]
    },
    {
      "cell_type": "markdown",
      "metadata": {},
      "source": [
        "### 보조 질문과 사이퍼 쿼리만 정리해서 출력"
      ]
    },
    {
      "cell_type": "code",
      "execution_count": 79,
      "metadata": {},
      "outputs": [],
      "source": [
        "# 'sub_question'과 'cypher_query'만 정리해서 출력\n",
        "summary_for_llm = [\n",
        "    {\n",
        "        \"sub_question\": item.get(\"sub_question\"),\n",
        "        \"cypher_query\": item.get(\"cypher_query\")\n",
        "    }\n",
        "    for item in detailed_results\n",
        "    if \"sub_question\" in item and \"cypher_query\" in item\n",
        "]"
      ]
    },
    {
      "cell_type": "code",
      "execution_count": 80,
      "metadata": {},
      "outputs": [
        {
          "data": {
            "text/plain": [
              "[{'sub_question': '2024-01-01부터 2024-06-30 사이(reviewDate 범위)에 작성된 CustomerReview 노드 중 rating이 4 이상인 리뷰들은 어떤 것들인가?',\n",
              "  'cypher_query': \"MATCH (cr:CustomerReview)\\nWHERE cr.reviewDate >= date('2024-01-01') AND cr.reviewDate <= date('2024-06-30') AND cr.rating >= 4\\nRETURN cr.reviewDate AS reviewDate, cr.rating AS rating, cr.text AS text, cr.author AS author, cr.caption AS caption, cr.seq AS seq\\nORDER BY cr.reviewDate;\"},\n",
              " {'sub_question': '각 해당 CustomerReview 노드가 WRITTEN_BY 관계로 연결된 Customer 노드는 누구인가?',\n",
              "  'cypher_query': 'MATCH (cr:CustomerReview)-[:WRITTEN_BY]->(c:Customer)\\nRETURN cr, c\\nORDER BY cr.seq'},\n",
              " {'sub_question': '각 해당 Customer 노드의 name 속성 값은 무엇인가?',\n",
              "  'cypher_query': 'MATCH (c:Customer) RETURN c.name AS name;'},\n",
              " {'sub_question': '중복을 제거한(유일한) 2024년 상반기(1~6월)에 rating 4 이상인 리뷰를 남긴 고객 이름들의 목록은 무엇인가?',\n",
              "  'cypher_query': 'MATCH (r:CustomerReview)-[:WRITTEN_BY]->(c:Customer)\\nWHERE r.rating >= 4\\n  AND r.reviewDate >= date(\"2024-01-01\")\\n  AND r.reviewDate <= date(\"2024-06-30\")\\nRETURN DISTINCT c.name AS name'}]"
            ]
          },
          "execution_count": 80,
          "metadata": {},
          "output_type": "execute_result"
        }
      ],
      "source": [
        "summary_for_llm"
      ]
    },
    {
      "cell_type": "markdown",
      "metadata": {},
      "source": [
        "---"
      ]
    },
    {
      "cell_type": "markdown",
      "metadata": {},
      "source": [
        "### 보조질문, 사이퍼쿼리를 참고하여 본 질문에 대한 사이퍼 쿼리 생성 및 실행"
      ]
    },
    {
      "cell_type": "code",
      "execution_count": null,
      "metadata": {},
      "outputs": [],
      "source": [
        "# summary_for_llm(질문, 사이퍼쿼리) 를 참고하여 본 질문에 대한 cypher query 생성 및 실행\n",
        "\n",
        "question = \"2024년 상반기(1~6월)에 긍정적인 리뷰(4점 이상)를 남긴 고객들이 누구인지 확인\"\n",
        "\n",
        "def generate_cypher_query(question, summary_for_llm):\n",
        "    llm = ChatOpenAI(model_name=\"gpt-5-mini\")\n",
        "    cypher_prompt = f\"\"\"\n",
        "    아래는 참고할 수 있는 서브질문과 Cypher 쿼리 목록입니다:\n",
        "    {summary_for_llm}\n",
        "    \n",
        "    위 정보를 참고하여, 다음 질문에 답할 수 있는 Cypher 쿼리를 생성하세요:\n",
        "    {question}\n",
        "    \n",
        "    설명 없이 Cypher 쿼리만 반환하세요.\n",
        "    \"\"\"\n",
        "    cypher_query = llm.predict(cypher_prompt).strip()\n",
        "    \n",
        "    query_result = graph.query(cypher_query)\n",
        "    return cypher_query, query_result\n",
        "\n",
        "cypher_query, query_result = generate_cypher_query(question, summary_for_llm)"
      ]
    },
    {
      "cell_type": "code",
      "execution_count": 85,
      "metadata": {},
      "outputs": [
        {
          "data": {
            "text/plain": [
              "'MATCH (r:CustomerReview)-[:WRITTEN_BY]->(c:Customer)\\nWHERE r.rating >= 4\\n  AND r.reviewDate >= date(\"2024-01-01\")\\n  AND r.reviewDate <= date(\"2024-06-30\")\\nRETURN DISTINCT c.name AS name\\nORDER BY name;'"
            ]
          },
          "execution_count": 85,
          "metadata": {},
          "output_type": "execute_result"
        }
      ],
      "source": [
        "cypher_query"
      ]
    },
    {
      "cell_type": "code",
      "execution_count": 86,
      "metadata": {},
      "outputs": [
        {
          "data": {
            "text/plain": [
              "[{'name': '사용자11'},\n",
              " {'name': '사용자12'},\n",
              " {'name': '사용자13'},\n",
              " {'name': '사용자14'},\n",
              " {'name': '사용자15'},\n",
              " {'name': '사용자17'},\n",
              " {'name': '사용자19'},\n",
              " {'name': '사용자2'},\n",
              " {'name': '사용자27'},\n",
              " {'name': '사용자3'},\n",
              " {'name': '사용자31'},\n",
              " {'name': '사용자32'},\n",
              " {'name': '사용자34'},\n",
              " {'name': '사용자35'},\n",
              " {'name': '사용자36'},\n",
              " {'name': '사용자37'},\n",
              " {'name': '사용자43'},\n",
              " {'name': '사용자44'},\n",
              " {'name': '사용자45'},\n",
              " {'name': '사용자46'},\n",
              " {'name': '사용자47'},\n",
              " {'name': '사용자49'},\n",
              " {'name': '사용자8'},\n",
              " {'name': '사용자9'}]"
            ]
          },
          "execution_count": 86,
          "metadata": {},
          "output_type": "execute_result"
        }
      ],
      "source": [
        "query_result"
      ]
    },
    {
      "cell_type": "markdown",
      "metadata": {},
      "source": [
        "---"
      ]
    },
    {
      "cell_type": "markdown",
      "metadata": {},
      "source": [
        "### Cypher 생성을 위한 레스토랑 데이터베이스 특화 프롬프트를 활용하여 답변 성능 높이기"
      ]
    },
    {
      "cell_type": "code",
      "execution_count": null,
      "metadata": {},
      "outputs": [
        {
          "data": {
            "text/plain": [
              "True"
            ]
          },
          "execution_count": 92,
          "metadata": {},
          "output_type": "execute_result"
        }
      ],
      "source": [
        "import os\n",
        "from langchain_core.prompts.prompt import PromptTemplate\n",
        "from langchain.chains import GraphCypherQAChain\n",
        "from langchain_openai import ChatOpenAI\n",
        "from langchain_community.graphs import Neo4jGraph\n",
        "from typing import Dict, Any\n",
        "\n",
        "from dotenv import load_dotenv\n",
        "load_dotenv()"
      ]
    },
    {
      "cell_type": "code",
      "execution_count": null,
      "metadata": {},
      "outputs": [],
      "source": [
        "\n",
        "# 설정 및 초기화 (실제 환경에 맞게 변경 필요)\n",
        "\n",
        "OPENAI_API_KEY = os.environ.get(\"OPENAI_API_KEY\")\n",
        "USERNAME = os.environ.get(\"USERNAME\")\n",
        "PASSWORD = os.environ.get(\"PASSWORD\")\n",
        "URL = os.environ.get(\"URL\")\n",
        "llm = ChatOpenAI(model_name=\"gpt-5-mini\", temperature=0)\n",
        "\n",
        "NEO4J_URI = URL\n",
        "graph = Neo4jGraph(url=NEO4J_URI, username=USERNAME, password=PASSWORD)\n",
        "\n",
        "# LLM 초기화 (Cypher 생성 및 QA 답변 모두에 사용)\n",
        "cypher_llm = ChatOpenAI(model_name=\"gpt-5-mini\", temperature=0)\n",
        "qa_llm = ChatOpenAI(model_name=\"gpt-5-mini\", temperature=0)\n"
      ]
    },
    {
      "cell_type": "code",
      "execution_count": 96,
      "metadata": {},
      "outputs": [
        {
          "data": {
            "text/plain": [
              "'Node properties:\\nRestaurant {name: STRING, address: STRING, phone: STRING, hoursWeekday: STRING, hoursWeekend: STRING, seats: INTEGER, reservationAvailable: BOOLEAN, category: STRING}\\nEmployee {name: STRING, experienceYears: INTEGER, role: STRING, workingDays: STRING}\\nSupplier {name: STRING, phone: STRING}\\nCustomer {name: STRING}\\nMenuItem {name: STRING, category: STRING, price: INTEGER, currency: STRING}\\nMenuCategory {name: STRING}\\nIngredient {name: STRING}\\nAllergy {name: STRING}\\nPaymentMethod {name: STRING}\\nPurchase {purchaseDate: DATE, quantity: INTEGER, totalPrice: INTEGER, pricePerUnit: INTEGER, customer: STRING, menuItem: STRING, seq: INTEGER, caption: STRING}\\nCustomerReview {reviewDate: DATE, rating: INTEGER, text: STRING, seq: INTEGER, author: STRING, caption: STRING}\\nReservationChannel {name: STRING}\\nRelationship properties:\\n\\nThe relationships:\\n(:Restaurant)-[:ACCEPTS_PAYMENT_METHOD]->(:PaymentMethod)\\n(:Restaurant)-[:ACCEPTS_RESERVATION_CHANNEL]->(:ReservationChannel)\\n(:Restaurant)-[:HAS_MENU_ITEM]->(:MenuItem)\\n(:Employee)-[:WORKS_AT_RESTAURANT]->(:Restaurant)\\n(:Supplier)-[:SUPPLIES_INGREDIENT]->(:Ingredient)\\n(:MenuItem)-[:CONTAINS_INGREDIENT]->(:Ingredient)\\n(:MenuItem)-[:IN_MENU_CATEGORY]->(:MenuCategory)\\n(:MenuItem)-[:MAY_TRIGGER_ALLERGY]->(:Allergy)\\n(:Purchase)-[:FOR_MENU_ITEM]->(:MenuItem)\\n(:Purchase)-[:BY_CUSTOMER]->(:Customer)\\n(:Purchase)-[:AT_RESTAURANT]->(:Restaurant)\\n(:CustomerReview)-[:REVIEWS_RESTAURANT]->(:Restaurant)\\n(:CustomerReview)-[:WRITTEN_BY]->(:Customer)'"
            ]
          },
          "execution_count": 96,
          "metadata": {},
          "output_type": "execute_result"
        }
      ],
      "source": [
        "graph.schema"
      ]
    },
    {
      "cell_type": "code",
      "execution_count": null,
      "metadata": {},
      "outputs": [],
      "source": [
        "\n",
        "# 도메인 맞춤형 프롬프트 정의\n",
        "\n",
        "# Cypher 생성을 위한 레스토랑 데이터베이스 특화 프롬프트\n",
        "CYPHER_GENERATION_TEMPLATE = \"\"\"Task: Generate Cypher statement to question a restaurant and customer review graph database (focused on Bella Roma).\n",
        "Instructions:\n",
        "- Use only the provided node labels, relationship types, and properties in the schema.\n",
        "- Do not use any relationship types or properties not specified in the schema.\n",
        "- Focus on extracting meaningful insights from restaurant, menu, purchase, and review data.\n",
        "\n",
        "Schema:\n",
        "{schema}\n",
        "\n",
        "Note: \n",
        "- Provide only the Cypher statement.\n",
        "- Do not include explanations or apologies.\n",
        "- Generate precise, relevant Cypher queries.\n",
        "\n",
        "Examples:\n",
        "# 특정 직원의 근무일과 역할 조회\n",
        "MATCH (e:Employee)\n",
        "WHERE e.name = '김철수'\n",
        "RETURN e.name, e.role, e.workingDays\n",
        "\n",
        "# 특정 고객의 총 구매 횟수와 최고 구매액 조회\n",
        "MATCH (c:Customer)<-[:BY_CUSTOMER]-(p:Purchase)\n",
        "WHERE c.name = '사용자11'\n",
        "RETURN c.name, COUNT(p) AS totalPurchases, MAX(p.totalPrice) AS maxPurchaseAmount\n",
        "\n",
        "# 특정 메뉴의 재료와 유발 알러지 조회\n",
        "MATCH (m:MenuItem {{name: '까르보나라 파스타'}})-[:CONTAINS_INGREDIENT]->(i:Ingredient)\n",
        "OPTIONAL MATCH (m)-[:MAY_TRIGGER_ALLERGY]->(a:Allergy)\n",
        "RETURN m.name, COLLECT(i.name) AS Ingredients, COLLECT(a.name) AS Allergies\n",
        "\n",
        "# 가장 많이 팔린 메뉴 항목과 판매 수량 조회\n",
        "MATCH (m:MenuItem)<-[:FOR_MENU_ITEM]-(p:Purchase)\n",
        "RETURN m.name, SUM(p.quantity) AS TotalQuantity\n",
        "ORDER BY TotalQuantity DESC\n",
        "LIMIT 5\n",
        "\n",
        "# 4점 이상 긍정적 리뷰를 가장 많이 남긴 고객 조회\n",
        "MATCH (c:Customer)<-[:WRITTEN_BY]-(r:CustomerReview)\n",
        "WHERE r.rating >= 4\n",
        "RETURN c.name, COUNT(r) AS PositiveReviewCount\n",
        "ORDER BY PositiveReviewCount DESC\n",
        "LIMIT 10\n",
        "\n",
        "The question is:\n",
        "{question}\"\"\"\n",
        "\n",
        "# 결과 처리를 위한 레스토랑 QA 프롬프트\n",
        "QA_TEMPLATE = \"\"\"\n",
        "당신은 Bella Roma 레스토랑 데이터 분석 전문가로, 메뉴, 고객 행동 및 운영 정보에 대한 명확하고 간결한 정보를 한국어로 제공합니다.\n",
        "\n",
        "[질문]\n",
        "{question}\n",
        "\n",
        "[검색 결과 (Cypher 쿼리 실행 결과)]\n",
        "{context}\n",
        "\n",
        "# 응답 가이드라인:\n",
        "- 검색 결과에서 핵심 정보를 요약하세요\n",
        "- 레스토랑 데이터에 대한 명확하고 객관적인 개요를 제공하세요\n",
        "- 전문적이고 유익한 톤을 사용하세요\n",
        "- 고객 행동, 인기 메뉴, 운영 효율성 측면에서 중요한 패턴이나 트렌드를 강조하세요\n",
        "- 맥락이 불충분한 경우 더 많은 정보가 필요하다고 명확히 언급하세요\n",
        "- 추측이나 개인적인 해석은 피하세요\n",
        "\n",
        "# 응답 형식:\n",
        "- 간략한 발견 요약으로 시작하세요\n",
        "- 여러 항목이 발견된 경우 (예: 메뉴 목록, 고객 목록) 간결한 개요를 제공하세요\n",
        "- 가독성을 위해 글머리 기호나 짧은 단락을 사용하세요\n",
        "- 가격, 수량, 평점, 날짜와 같은 관련 수치 정보를 이해하기 쉬운 언어로 번역하세요\n",
        "\n",
        "# 예시 응답 구조:\n",
        "\"분석 결과, [주요 발견 요약]\n",
        "\n",
        "주요 특징/상세 정보:\n",
        "- [첫 번째 중요 인사이트]\n",
        "- [두 번째 중요 인사이트]\n",
        "\n",
        "추가 정보: [필요한 경우 추가 설명]\"\n",
        "\"\"\"\n",
        "\n",
        "# PromptTemplate 객체 생성\n",
        "CYPHER_GENERATION_PROMPT = PromptTemplate(\n",
        "    input_variables=[\"schema\", \"question\"], \n",
        "    template=CYPHER_GENERATION_TEMPLATE)\n",
        "\n",
        "QA_PROMPT = PromptTemplate(\n",
        "    input_variables=[\"question\", \"context\"], \n",
        "    template=QA_TEMPLATE)\n",
        "\n",
        "# --- 3. GraphCypherQAChain 생성 및 실행 함수 ---\n",
        "\n",
        "def run_restaurant_qa_chain(\n",
        "    question: str, \n",
        "    graph: Neo4jGraph, \n",
        "    cypher_llm: ChatOpenAI, \n",
        "    qa_llm: ChatOpenAI\n",
        ") -> Dict[str, Any]:\n",
        "    \"\"\"\n",
        "    레스토랑 데이터에 특화된 GraphCypherQAChain을 실행하고 결과를 반환합니다.\n",
        "    \"\"\"\n",
        "    # graph.schema 값을 schema 인자로 전달\n",
        "    cypher_chain = GraphCypherQAChain.from_llm(\n",
        "        cypher_llm=cypher_llm,\n",
        "        qa_llm=qa_llm,\n",
        "        graph=graph, \n",
        "        allow_dangerous_requests=True,\n",
        "        verbose=True, # Cypher 생성 과정을 확인하려면 True로 설정\n",
        "        cypher_prompt=CYPHER_GENERATION_PROMPT,\n",
        "        qa_prompt=QA_PROMPT,\n",
        "        input_key=\"question\",  \n",
        "        output_key=\"result\",\n",
        "        # graph.schema를 cypher_prompt에 schema로 전달\n",
        "        prompt_kwargs={\"schema\": graph.schema}\n",
        "    )\n",
        "\n",
        "    # Cypher 쿼리 실행\n",
        "    print(f\"\\n[INFO] 질문 실행 중: {question}\")\n",
        "    answer = cypher_chain.invoke({\"question\": question})\n",
        "    \n",
        "    return answer\n"
      ]
    },
    {
      "cell_type": "code",
      "execution_count": null,
      "metadata": {},
      "outputs": [
        {
          "name": "stdout",
          "output_type": "stream",
          "text": [
            "\n",
            "[INFO] 질문 실행 중: 주방장 '김철수'가 일하는 레스토랑의 주중 영업시간을 알려주고, 어떤 결제 수단을 받는지 알려줘.\n",
            "\n",
            "\n",
            "\u001b[1m> Entering new GraphCypherQAChain chain...\u001b[0m\n"
          ]
        },
        {
          "name": "stdout",
          "output_type": "stream",
          "text": [
            "Generated Cypher:\n",
            "\u001b[32;1m\u001b[1;3mMATCH (e:Employee {name: '김철수'})-[:WORKS_AT_RESTAURANT]->(r:Restaurant)\n",
            "OPTIONAL MATCH (r)-[:ACCEPTS_PAYMENT_METHOD]->(pm:PaymentMethod)\n",
            "RETURN r.name, r.hoursWeekday, COLLECT(pm.name) AS acceptedPaymentMethods\u001b[0m\n",
            "Full Context:\n",
            "\u001b[32;1m\u001b[1;3m[{'r.name': 'Bella Roma', 'r.hoursWeekday': '11:00-22:00', 'acceptedPaymentMethods': ['현금', '카드', '간편결제']}]\u001b[0m\n",
            "\n",
            "\u001b[1m> Finished chain.\u001b[0m\n",
            "\n",
            "=== 최종 답변 ===\n",
            "분석 결과, 주방장 '김철수'가 근무하는 레스토랑은 \"Bella Roma\"이며, 주중 영업시간은 11:00–22:00이고 허용 결제 수단은 현금, 카드, 간편결제로 등록되어 있습니다.\n",
            "\n",
            "주요 특징/상세 정보:\n",
            "- 레스토랑: Bella Roma (김철수 근무지)\n",
            "- 주중 영업시간: 11:00–22:00 — 하루 기준 영업시간은 11시간입니다.\n",
            "- 허용 결제수단: 현금, 카드, 간편결제\n",
            "  - 데이터에선 \"간편결제\"로만 표기되어 있어 구체적인 서비스명(예: 특정 모바일 페이)은 제공되지 않았습니다.\n",
            "- 데이터 범위 한계: 제공된 결과는 주중(hoursWeekday) 정보만 포함하고 있어 주말 영업시간, 휴무일, 카드 종류(신용/체크), 또는 간편결제의 상세 목록 등은 확인할 수 없습니다.\n",
            "\n",
            "추가 정보:\n",
            "- 주말/휴일 영업시간, 특정 결제 브랜드(예: Visa, MasterCard, Payco, 카카오페이 등) 확인을 원하시면 관련 필드(weekendHours, acceptedPaymentDetails 등)의 데이터 제공을 요청해 주세요.\n",
            "- 고객 행동, 인기 메뉴, 운영 효율성(테이블 회전율, 주방 대기시간 등)에 대한 분석을 원하시면 해당 로그나 판매/예약 데이터가 필요합니다. 현재 결과만으로는 해당 패턴을 판단할 수 없습니다.\n"
          ]
        }
      ],
      "source": [
        "\n",
        "# --- 4. 함수 실행 ---\n",
        "\n",
        "question = \"주방장 '김철수'가 일하는 레스토랑의 주중 영업시간을 알려주고, 어떤 결제 수단을 받는지 알려줘.\"\n",
        "result = run_restaurant_qa_chain(question, graph, cypher_llm, qa_llm)\n",
        "print(\"\\n=== 최종 답변 ===\")\n",
        "print(result['result'])\n"
      ]
    },
    {
      "cell_type": "code",
      "execution_count": null,
      "metadata": {},
      "outputs": [],
      "source": [
        "question = \"‘가격’이라는 키워드가 포함된 리뷰들의 평균 평점은 얼마이며, 이 리뷰를 남긴 사용자들은 주로 어떤 메뉴를 주문했나요?\"\n",
        "result = run_restaurant_qa_chain(question, graph, cypher_llm, qa_llm)\n",
        "print(\"\\n=== 최종 답변 ===\")\n",
        "print(result['result'])"
      ]
    },
    {
      "cell_type": "markdown",
      "metadata": {},
      "source": [
        "---"
      ]
    },
    {
      "cell_type": "markdown",
      "metadata": {},
      "source": [
        "https://velog.io/@wltkqdl/%EC%A7%80%EC%8B%9D%EA%B7%B8%EB%9E%98%ED%94%84KG-%EA%B2%80%EC%83%89-Text2Cypher-%EA%B8%B0%EB%B2%95"
      ]
    },
    {
      "cell_type": "code",
      "execution_count": 104,
      "metadata": {},
      "outputs": [],
      "source": [
        "# from langchain_openai import OpenAIEmbeddings\n",
        "# from langchain_neo4j import Neo4jVector\n",
        "\n",
        "# # 임베딩 모델 초기화\n",
        "# embeddings = OpenAIEmbeddings(model=\"text-embedding-3-small\") \n",
        "\n",
        "# # Neo4j 데이터베이스에 이미 생성된 벡터 인덱스에 연결하는 Neo4jVector 인스턴스 생성\n",
        "# graph_db = Neo4jVector.from_existing_index(\n",
        "#     embeddings,  # 사용할 임베딩 모델 지정\n",
        "#     url=os.getenv(\"NEO4J_URI\"),  # Neo4j 데이터베이스 연결 URI (환경 변수에서 가져옴)\n",
        "#     username=os.getenv(\"NEO4J_USERNAME\"),  # Neo4j 데이터베이스 사용자 이름\n",
        "#     password=os.getenv(\"NEO4J_PASSWORD\"),  # Neo4j 데이터베이스 비밀번호\n",
        "#     index_name=\"movie_content_embeddings\",  # 사용할 벡터 인덱스 이름 (이미 Neo4j에 생성되어 있어야 함)\n",
        "#     text_node_property=\"overview\",  # 텍스트 검색 시 반환할 노드의 속성 (영화 개요)\n",
        "# )"
      ]
    },
    {
      "cell_type": "code",
      "execution_count": null,
      "metadata": {},
      "outputs": [],
      "source": [
        "\n"
      ]
    },
    {
      "cell_type": "code",
      "execution_count": null,
      "metadata": {},
      "outputs": [],
      "source": []
    },
    {
      "cell_type": "code",
      "execution_count": null,
      "metadata": {},
      "outputs": [],
      "source": []
    },
    {
      "cell_type": "code",
      "execution_count": null,
      "metadata": {},
      "outputs": [],
      "source": []
    }
  ],
  "metadata": {
    "colab": {
      "provenance": []
    },
    "kernelspec": {
      "display_name": "GPT Square Ontology",
      "language": "python",
      "name": "gptsquare_ontology"
    },
    "language_info": {
      "codemirror_mode": {
        "name": "ipython",
        "version": 3
      },
      "file_extension": ".py",
      "mimetype": "text/x-python",
      "name": "python",
      "nbconvert_exporter": "python",
      "pygments_lexer": "ipython3",
      "version": "3.9.13"
    }
  },
  "nbformat": 4,
  "nbformat_minor": 0
}
